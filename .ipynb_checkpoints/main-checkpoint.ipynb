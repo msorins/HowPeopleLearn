{
 "cells": [
  {
   "cell_type": "code",
   "execution_count": 1,
   "metadata": {
    "pycharm": {
     "is_executing": false
    }
   },
   "outputs": [
    {
     "data": {
      "text/html": [
       "\n",
       "    <div class=\"bk-root\">\n",
       "        <a href=\"https://bokeh.org\" target=\"_blank\" class=\"bk-logo bk-logo-small bk-logo-notebook\"></a>\n",
       "        <span id=\"1001\">Loading BokehJS ...</span>\n",
       "    </div>"
      ]
     },
     "metadata": {},
     "output_type": "display_data"
    },
    {
     "data": {
      "application/javascript": [
       "\n",
       "(function(root) {\n",
       "  function now() {\n",
       "    return new Date();\n",
       "  }\n",
       "\n",
       "  var force = true;\n",
       "\n",
       "  if (typeof root._bokeh_onload_callbacks === \"undefined\" || force === true) {\n",
       "    root._bokeh_onload_callbacks = [];\n",
       "    root._bokeh_is_loading = undefined;\n",
       "  }\n",
       "\n",
       "  var JS_MIME_TYPE = 'application/javascript';\n",
       "  var HTML_MIME_TYPE = 'text/html';\n",
       "  var EXEC_MIME_TYPE = 'application/vnd.bokehjs_exec.v0+json';\n",
       "  var CLASS_NAME = 'output_bokeh rendered_html';\n",
       "\n",
       "  /**\n",
       "   * Render data to the DOM node\n",
       "   */\n",
       "  function render(props, node) {\n",
       "    var script = document.createElement(\"script\");\n",
       "    node.appendChild(script);\n",
       "  }\n",
       "\n",
       "  /**\n",
       "   * Handle when an output is cleared or removed\n",
       "   */\n",
       "  function handleClearOutput(event, handle) {\n",
       "    var cell = handle.cell;\n",
       "\n",
       "    var id = cell.output_area._bokeh_element_id;\n",
       "    var server_id = cell.output_area._bokeh_server_id;\n",
       "    // Clean up Bokeh references\n",
       "    if (id != null && id in Bokeh.index) {\n",
       "      Bokeh.index[id].model.document.clear();\n",
       "      delete Bokeh.index[id];\n",
       "    }\n",
       "\n",
       "    if (server_id !== undefined) {\n",
       "      // Clean up Bokeh references\n",
       "      var cmd = \"from bokeh.io.state import curstate; print(curstate().uuid_to_server['\" + server_id + \"'].get_sessions()[0].document.roots[0]._id)\";\n",
       "      cell.notebook.kernel.execute(cmd, {\n",
       "        iopub: {\n",
       "          output: function(msg) {\n",
       "            var id = msg.content.text.trim();\n",
       "            if (id in Bokeh.index) {\n",
       "              Bokeh.index[id].model.document.clear();\n",
       "              delete Bokeh.index[id];\n",
       "            }\n",
       "          }\n",
       "        }\n",
       "      });\n",
       "      // Destroy server and session\n",
       "      var cmd = \"import bokeh.io.notebook as ion; ion.destroy_server('\" + server_id + \"')\";\n",
       "      cell.notebook.kernel.execute(cmd);\n",
       "    }\n",
       "  }\n",
       "\n",
       "  /**\n",
       "   * Handle when a new output is added\n",
       "   */\n",
       "  function handleAddOutput(event, handle) {\n",
       "    var output_area = handle.output_area;\n",
       "    var output = handle.output;\n",
       "\n",
       "    // limit handleAddOutput to display_data with EXEC_MIME_TYPE content only\n",
       "    if ((output.output_type != \"display_data\") || (!output.data.hasOwnProperty(EXEC_MIME_TYPE))) {\n",
       "      return\n",
       "    }\n",
       "\n",
       "    var toinsert = output_area.element.find(\".\" + CLASS_NAME.split(' ')[0]);\n",
       "\n",
       "    if (output.metadata[EXEC_MIME_TYPE][\"id\"] !== undefined) {\n",
       "      toinsert[toinsert.length - 1].firstChild.textContent = output.data[JS_MIME_TYPE];\n",
       "      // store reference to embed id on output_area\n",
       "      output_area._bokeh_element_id = output.metadata[EXEC_MIME_TYPE][\"id\"];\n",
       "    }\n",
       "    if (output.metadata[EXEC_MIME_TYPE][\"server_id\"] !== undefined) {\n",
       "      var bk_div = document.createElement(\"div\");\n",
       "      bk_div.innerHTML = output.data[HTML_MIME_TYPE];\n",
       "      var script_attrs = bk_div.children[0].attributes;\n",
       "      for (var i = 0; i < script_attrs.length; i++) {\n",
       "        toinsert[toinsert.length - 1].firstChild.setAttribute(script_attrs[i].name, script_attrs[i].value);\n",
       "        toinsert[toinsert.length - 1].firstChild.textContent = bk_div.children[0].textContent\n",
       "      }\n",
       "      // store reference to server id on output_area\n",
       "      output_area._bokeh_server_id = output.metadata[EXEC_MIME_TYPE][\"server_id\"];\n",
       "    }\n",
       "  }\n",
       "\n",
       "  function register_renderer(events, OutputArea) {\n",
       "\n",
       "    function append_mime(data, metadata, element) {\n",
       "      // create a DOM node to render to\n",
       "      var toinsert = this.create_output_subarea(\n",
       "        metadata,\n",
       "        CLASS_NAME,\n",
       "        EXEC_MIME_TYPE\n",
       "      );\n",
       "      this.keyboard_manager.register_events(toinsert);\n",
       "      // Render to node\n",
       "      var props = {data: data, metadata: metadata[EXEC_MIME_TYPE]};\n",
       "      render(props, toinsert[toinsert.length - 1]);\n",
       "      element.append(toinsert);\n",
       "      return toinsert\n",
       "    }\n",
       "\n",
       "    /* Handle when an output is cleared or removed */\n",
       "    events.on('clear_output.CodeCell', handleClearOutput);\n",
       "    events.on('delete.Cell', handleClearOutput);\n",
       "\n",
       "    /* Handle when a new output is added */\n",
       "    events.on('output_added.OutputArea', handleAddOutput);\n",
       "\n",
       "    /**\n",
       "     * Register the mime type and append_mime function with output_area\n",
       "     */\n",
       "    OutputArea.prototype.register_mime_type(EXEC_MIME_TYPE, append_mime, {\n",
       "      /* Is output safe? */\n",
       "      safe: true,\n",
       "      /* Index of renderer in `output_area.display_order` */\n",
       "      index: 0\n",
       "    });\n",
       "  }\n",
       "\n",
       "  // register the mime type if in Jupyter Notebook environment and previously unregistered\n",
       "  if (root.Jupyter !== undefined) {\n",
       "    var events = require('base/js/events');\n",
       "    var OutputArea = require('notebook/js/outputarea').OutputArea;\n",
       "\n",
       "    if (OutputArea.prototype.mime_types().indexOf(EXEC_MIME_TYPE) == -1) {\n",
       "      register_renderer(events, OutputArea);\n",
       "    }\n",
       "  }\n",
       "\n",
       "  \n",
       "  if (typeof (root._bokeh_timeout) === \"undefined\" || force === true) {\n",
       "    root._bokeh_timeout = Date.now() + 5000;\n",
       "    root._bokeh_failed_load = false;\n",
       "  }\n",
       "\n",
       "  var NB_LOAD_WARNING = {'data': {'text/html':\n",
       "     \"<div style='background-color: #fdd'>\\n\"+\n",
       "     \"<p>\\n\"+\n",
       "     \"BokehJS does not appear to have successfully loaded. If loading BokehJS from CDN, this \\n\"+\n",
       "     \"may be due to a slow or bad network connection. Possible fixes:\\n\"+\n",
       "     \"</p>\\n\"+\n",
       "     \"<ul>\\n\"+\n",
       "     \"<li>re-rerun `output_notebook()` to attempt to load from CDN again, or</li>\\n\"+\n",
       "     \"<li>use INLINE resources instead, as so:</li>\\n\"+\n",
       "     \"</ul>\\n\"+\n",
       "     \"<code>\\n\"+\n",
       "     \"from bokeh.resources import INLINE\\n\"+\n",
       "     \"output_notebook(resources=INLINE)\\n\"+\n",
       "     \"</code>\\n\"+\n",
       "     \"</div>\"}};\n",
       "\n",
       "  function display_loaded() {\n",
       "    var el = document.getElementById(\"1001\");\n",
       "    if (el != null) {\n",
       "      el.textContent = \"BokehJS is loading...\";\n",
       "    }\n",
       "    if (root.Bokeh !== undefined) {\n",
       "      if (el != null) {\n",
       "        el.textContent = \"BokehJS \" + root.Bokeh.version + \" successfully loaded.\";\n",
       "      }\n",
       "    } else if (Date.now() < root._bokeh_timeout) {\n",
       "      setTimeout(display_loaded, 100)\n",
       "    }\n",
       "  }\n",
       "\n",
       "\n",
       "  function run_callbacks() {\n",
       "    try {\n",
       "      root._bokeh_onload_callbacks.forEach(function(callback) {\n",
       "        if (callback != null)\n",
       "          callback();\n",
       "      });\n",
       "    } finally {\n",
       "      delete root._bokeh_onload_callbacks\n",
       "    }\n",
       "    console.debug(\"Bokeh: all callbacks have finished\");\n",
       "  }\n",
       "\n",
       "  function load_libs(css_urls, js_urls, callback) {\n",
       "    if (css_urls == null) css_urls = [];\n",
       "    if (js_urls == null) js_urls = [];\n",
       "\n",
       "    root._bokeh_onload_callbacks.push(callback);\n",
       "    if (root._bokeh_is_loading > 0) {\n",
       "      console.debug(\"Bokeh: BokehJS is being loaded, scheduling callback at\", now());\n",
       "      return null;\n",
       "    }\n",
       "    if (js_urls == null || js_urls.length === 0) {\n",
       "      run_callbacks();\n",
       "      return null;\n",
       "    }\n",
       "    console.debug(\"Bokeh: BokehJS not loaded, scheduling load and callback at\", now());\n",
       "    root._bokeh_is_loading = css_urls.length + js_urls.length;\n",
       "\n",
       "    function on_load() {\n",
       "      root._bokeh_is_loading--;\n",
       "      if (root._bokeh_is_loading === 0) {\n",
       "        console.debug(\"Bokeh: all BokehJS libraries/stylesheets loaded\");\n",
       "        run_callbacks()\n",
       "      }\n",
       "    }\n",
       "\n",
       "    function on_error() {\n",
       "      console.error(\"failed to load \" + url);\n",
       "    }\n",
       "\n",
       "    for (var i = 0; i < css_urls.length; i++) {\n",
       "      var url = css_urls[i];\n",
       "      const element = document.createElement(\"link\");\n",
       "      element.onload = on_load;\n",
       "      element.onerror = on_error;\n",
       "      element.rel = \"stylesheet\";\n",
       "      element.type = \"text/css\";\n",
       "      element.href = url;\n",
       "      console.debug(\"Bokeh: injecting link tag for BokehJS stylesheet: \", url);\n",
       "      document.body.appendChild(element);\n",
       "    }\n",
       "\n",
       "    const hashes = {\"https://cdn.bokeh.org/bokeh/release/bokeh-2.0.2.min.js\": \"ufR9RFnRs6lniiaFvtJziE0YeidtAgBRH6ux2oUItHw5WTvE1zuk9uzhUU/FJXDp\", \"https://cdn.bokeh.org/bokeh/release/bokeh-widgets-2.0.2.min.js\": \"8QM/PGWBT+IssZuRcDcjzwIh1mkOmJSoNMmyYDZbCfXJg3Ap1lEvdVgFuSAwhb/J\", \"https://cdn.bokeh.org/bokeh/release/bokeh-tables-2.0.2.min.js\": \"Jm8cH3Rg0P6UeZhVY5cLy1WzKajUT9KImCY+76hEqrcJt59/d8GPvFHjCkYgnSIn\", \"https://cdn.bokeh.org/bokeh/release/bokeh-gl-2.0.2.min.js\": \"Ozhzj+SI7ywm74aOI/UajcWz+C0NjsPunEVyVIrxzYkB+jA+2tUw8x5xJCbVtK5I\"};\n",
       "\n",
       "    for (var i = 0; i < js_urls.length; i++) {\n",
       "      var url = js_urls[i];\n",
       "      var element = document.createElement('script');\n",
       "      element.onload = on_load;\n",
       "      element.onerror = on_error;\n",
       "      element.async = false;\n",
       "      element.src = url;\n",
       "      if (url in hashes) {\n",
       "        element.crossOrigin = \"anonymous\";\n",
       "        element.integrity = \"sha384-\" + hashes[url];\n",
       "      }\n",
       "      console.debug(\"Bokeh: injecting script tag for BokehJS library: \", url);\n",
       "      document.head.appendChild(element);\n",
       "    }\n",
       "  };\n",
       "\n",
       "  function inject_raw_css(css) {\n",
       "    const element = document.createElement(\"style\");\n",
       "    element.appendChild(document.createTextNode(css));\n",
       "    document.body.appendChild(element);\n",
       "  }\n",
       "\n",
       "  \n",
       "  var js_urls = [\"https://cdn.bokeh.org/bokeh/release/bokeh-2.0.2.min.js\", \"https://cdn.bokeh.org/bokeh/release/bokeh-widgets-2.0.2.min.js\", \"https://cdn.bokeh.org/bokeh/release/bokeh-tables-2.0.2.min.js\", \"https://cdn.bokeh.org/bokeh/release/bokeh-gl-2.0.2.min.js\"];\n",
       "  var css_urls = [];\n",
       "  \n",
       "\n",
       "  var inline_js = [\n",
       "    function(Bokeh) {\n",
       "      Bokeh.set_log_level(\"info\");\n",
       "    },\n",
       "    function(Bokeh) {\n",
       "    \n",
       "    \n",
       "    }\n",
       "  ];\n",
       "\n",
       "  function run_inline_js() {\n",
       "    \n",
       "    if (root.Bokeh !== undefined || force === true) {\n",
       "      \n",
       "    for (var i = 0; i < inline_js.length; i++) {\n",
       "      inline_js[i].call(root, root.Bokeh);\n",
       "    }\n",
       "    if (force === true) {\n",
       "        display_loaded();\n",
       "      }} else if (Date.now() < root._bokeh_timeout) {\n",
       "      setTimeout(run_inline_js, 100);\n",
       "    } else if (!root._bokeh_failed_load) {\n",
       "      console.log(\"Bokeh: BokehJS failed to load within specified timeout.\");\n",
       "      root._bokeh_failed_load = true;\n",
       "    } else if (force !== true) {\n",
       "      var cell = $(document.getElementById(\"1001\")).parents('.cell').data().cell;\n",
       "      cell.output_area.append_execute_result(NB_LOAD_WARNING)\n",
       "    }\n",
       "\n",
       "  }\n",
       "\n",
       "  if (root._bokeh_is_loading === 0) {\n",
       "    console.debug(\"Bokeh: BokehJS loaded, going straight to plotting\");\n",
       "    run_inline_js();\n",
       "  } else {\n",
       "    load_libs(css_urls, js_urls, function() {\n",
       "      console.debug(\"Bokeh: BokehJS plotting callback run at\", now());\n",
       "      run_inline_js();\n",
       "    });\n",
       "  }\n",
       "}(window));"
      ],
      "application/vnd.bokehjs_load.v0+json": "\n(function(root) {\n  function now() {\n    return new Date();\n  }\n\n  var force = true;\n\n  if (typeof root._bokeh_onload_callbacks === \"undefined\" || force === true) {\n    root._bokeh_onload_callbacks = [];\n    root._bokeh_is_loading = undefined;\n  }\n\n  \n\n  \n  if (typeof (root._bokeh_timeout) === \"undefined\" || force === true) {\n    root._bokeh_timeout = Date.now() + 5000;\n    root._bokeh_failed_load = false;\n  }\n\n  var NB_LOAD_WARNING = {'data': {'text/html':\n     \"<div style='background-color: #fdd'>\\n\"+\n     \"<p>\\n\"+\n     \"BokehJS does not appear to have successfully loaded. If loading BokehJS from CDN, this \\n\"+\n     \"may be due to a slow or bad network connection. Possible fixes:\\n\"+\n     \"</p>\\n\"+\n     \"<ul>\\n\"+\n     \"<li>re-rerun `output_notebook()` to attempt to load from CDN again, or</li>\\n\"+\n     \"<li>use INLINE resources instead, as so:</li>\\n\"+\n     \"</ul>\\n\"+\n     \"<code>\\n\"+\n     \"from bokeh.resources import INLINE\\n\"+\n     \"output_notebook(resources=INLINE)\\n\"+\n     \"</code>\\n\"+\n     \"</div>\"}};\n\n  function display_loaded() {\n    var el = document.getElementById(\"1001\");\n    if (el != null) {\n      el.textContent = \"BokehJS is loading...\";\n    }\n    if (root.Bokeh !== undefined) {\n      if (el != null) {\n        el.textContent = \"BokehJS \" + root.Bokeh.version + \" successfully loaded.\";\n      }\n    } else if (Date.now() < root._bokeh_timeout) {\n      setTimeout(display_loaded, 100)\n    }\n  }\n\n\n  function run_callbacks() {\n    try {\n      root._bokeh_onload_callbacks.forEach(function(callback) {\n        if (callback != null)\n          callback();\n      });\n    } finally {\n      delete root._bokeh_onload_callbacks\n    }\n    console.debug(\"Bokeh: all callbacks have finished\");\n  }\n\n  function load_libs(css_urls, js_urls, callback) {\n    if (css_urls == null) css_urls = [];\n    if (js_urls == null) js_urls = [];\n\n    root._bokeh_onload_callbacks.push(callback);\n    if (root._bokeh_is_loading > 0) {\n      console.debug(\"Bokeh: BokehJS is being loaded, scheduling callback at\", now());\n      return null;\n    }\n    if (js_urls == null || js_urls.length === 0) {\n      run_callbacks();\n      return null;\n    }\n    console.debug(\"Bokeh: BokehJS not loaded, scheduling load and callback at\", now());\n    root._bokeh_is_loading = css_urls.length + js_urls.length;\n\n    function on_load() {\n      root._bokeh_is_loading--;\n      if (root._bokeh_is_loading === 0) {\n        console.debug(\"Bokeh: all BokehJS libraries/stylesheets loaded\");\n        run_callbacks()\n      }\n    }\n\n    function on_error() {\n      console.error(\"failed to load \" + url);\n    }\n\n    for (var i = 0; i < css_urls.length; i++) {\n      var url = css_urls[i];\n      const element = document.createElement(\"link\");\n      element.onload = on_load;\n      element.onerror = on_error;\n      element.rel = \"stylesheet\";\n      element.type = \"text/css\";\n      element.href = url;\n      console.debug(\"Bokeh: injecting link tag for BokehJS stylesheet: \", url);\n      document.body.appendChild(element);\n    }\n\n    const hashes = {\"https://cdn.bokeh.org/bokeh/release/bokeh-2.0.2.min.js\": \"ufR9RFnRs6lniiaFvtJziE0YeidtAgBRH6ux2oUItHw5WTvE1zuk9uzhUU/FJXDp\", \"https://cdn.bokeh.org/bokeh/release/bokeh-widgets-2.0.2.min.js\": \"8QM/PGWBT+IssZuRcDcjzwIh1mkOmJSoNMmyYDZbCfXJg3Ap1lEvdVgFuSAwhb/J\", \"https://cdn.bokeh.org/bokeh/release/bokeh-tables-2.0.2.min.js\": \"Jm8cH3Rg0P6UeZhVY5cLy1WzKajUT9KImCY+76hEqrcJt59/d8GPvFHjCkYgnSIn\", \"https://cdn.bokeh.org/bokeh/release/bokeh-gl-2.0.2.min.js\": \"Ozhzj+SI7ywm74aOI/UajcWz+C0NjsPunEVyVIrxzYkB+jA+2tUw8x5xJCbVtK5I\"};\n\n    for (var i = 0; i < js_urls.length; i++) {\n      var url = js_urls[i];\n      var element = document.createElement('script');\n      element.onload = on_load;\n      element.onerror = on_error;\n      element.async = false;\n      element.src = url;\n      if (url in hashes) {\n        element.crossOrigin = \"anonymous\";\n        element.integrity = \"sha384-\" + hashes[url];\n      }\n      console.debug(\"Bokeh: injecting script tag for BokehJS library: \", url);\n      document.head.appendChild(element);\n    }\n  };\n\n  function inject_raw_css(css) {\n    const element = document.createElement(\"style\");\n    element.appendChild(document.createTextNode(css));\n    document.body.appendChild(element);\n  }\n\n  \n  var js_urls = [\"https://cdn.bokeh.org/bokeh/release/bokeh-2.0.2.min.js\", \"https://cdn.bokeh.org/bokeh/release/bokeh-widgets-2.0.2.min.js\", \"https://cdn.bokeh.org/bokeh/release/bokeh-tables-2.0.2.min.js\", \"https://cdn.bokeh.org/bokeh/release/bokeh-gl-2.0.2.min.js\"];\n  var css_urls = [];\n  \n\n  var inline_js = [\n    function(Bokeh) {\n      Bokeh.set_log_level(\"info\");\n    },\n    function(Bokeh) {\n    \n    \n    }\n  ];\n\n  function run_inline_js() {\n    \n    if (root.Bokeh !== undefined || force === true) {\n      \n    for (var i = 0; i < inline_js.length; i++) {\n      inline_js[i].call(root, root.Bokeh);\n    }\n    if (force === true) {\n        display_loaded();\n      }} else if (Date.now() < root._bokeh_timeout) {\n      setTimeout(run_inline_js, 100);\n    } else if (!root._bokeh_failed_load) {\n      console.log(\"Bokeh: BokehJS failed to load within specified timeout.\");\n      root._bokeh_failed_load = true;\n    } else if (force !== true) {\n      var cell = $(document.getElementById(\"1001\")).parents('.cell').data().cell;\n      cell.output_area.append_execute_result(NB_LOAD_WARNING)\n    }\n\n  }\n\n  if (root._bokeh_is_loading === 0) {\n    console.debug(\"Bokeh: BokehJS loaded, going straight to plotting\");\n    run_inline_js();\n  } else {\n    load_libs(css_urls, js_urls, function() {\n      console.debug(\"Bokeh: BokehJS plotting callback run at\", now());\n      run_inline_js();\n    });\n  }\n}(window));"
     },
     "metadata": {},
     "output_type": "display_data"
    }
   ],
   "source": [
    "import time\n",
    "import math\n",
    "import matplotlib.pyplot as plt\n",
    "from IPython.display import clear_output\n",
    "import ipywidgets as widget\n",
    "from ipywidgets import interact\n",
    "import numpy as np\n",
    "from bokeh.io import push_notebook, show, output_notebook\n",
    "from bokeh.plotting import figure\n",
    "output_notebook()\n",
    "\n",
    "delta_t = 5e-1 # 10 ms"
   ]
  },
  {
   "cell_type": "code",
   "execution_count": 2,
   "metadata": {
    "pycharm": {
     "is_executing": false
    }
   },
   "outputs": [],
   "source": [
    "class Car:\n",
    "\n",
    "    def __init__(self, x, y, mass=1000):\n",
    "        self.x = x\n",
    "        self.y = y\n",
    "        self.vx = 0.\n",
    "        self.vy = 0.\n",
    "        self.ax = 0.\n",
    "        self.ay = 0.\n",
    "        self.m = mass  # 1 ton = 1000 kg for a car \n",
    "        self.mod='velocity'\n",
    "        self.value = 0.\n",
    "        self.theta = 0.\n",
    "        self.posx=[]\n",
    "        self.speedx=[]\n",
    "        self.accelerationx=[]\n",
    "        self.posy=[]\n",
    "        self.speedy=[]\n",
    "        self.accelerationy=[]\n",
    "        \n",
    "    def update_acc(self):\n",
    "        self.ax = self.value * math.cos(self.theta) # F = ma -> A = F/m\n",
    "        self.ay = self.value * math.sin(self.theta)\n",
    "        self.vx = self.vx + delta_t * self.ax\n",
    "        self.vy = self.vy + delta_t * self.ay\n",
    "        self.x = self.x + delta_t * self.vx\n",
    "        self.y = self.y + delta_t * self.vy\n",
    "\n",
    "    def update_vel(self):\n",
    "        self.ax = 0\n",
    "        self.ay = 0\n",
    "        self.vx = self.value * math.cos(self.theta)\n",
    "        self.vy = self.value * math.sin(self.theta)\n",
    "        self.x = self.x + delta_t * self.vx\n",
    "        self.y = self.y + delta_t * self.vy\n",
    "\n",
    "    def save(self):\n",
    "        self.posx.append(self.x)\n",
    "        self.speedx.append(self.vx)\n",
    "        self.accelerationx.append(self.ax)\n",
    "        self.posy.append(self.y)\n",
    "        self.speedy.append(self.vy)\n",
    "        self.accelerationy.append(self.ay)\n",
    "\n",
    "    def update_state(self, mod, value, theta):\n",
    "        self.mod = mod\n",
    "        self.value = value\n",
    "        self.theta = theta\n"
   ]
  },
  {
   "cell_type": "code",
   "execution_count": 24,
   "metadata": {
    "pycharm": {
     "is_executing": false
    }
   },
   "outputs": [
    {
     "data": {
      "application/vnd.jupyter.widget-view+json": {
       "model_id": "01e4c130f86c40a6b4344675f19596d8",
       "version_major": 2,
       "version_minor": 0
      },
      "text/plain": [
       "interactive(children=(Dropdown(description='mod', options=('velocity', 'acceleration'), value='velocity'), Int…"
      ]
     },
     "metadata": {},
     "output_type": "display_data"
    },
    {
     "data": {
      "text/plain": [
       "<function ipywidgets.widgets.interaction._InteractFactory.__call__.<locals>.<lambda>(*args, **kwargs)>"
      ]
     },
     "execution_count": 24,
     "metadata": {},
     "output_type": "execute_result"
    }
   ],
   "source": [
    "myCar = Car(0, 0)\n",
    "interact(myCar.update_state, mod=['velocity', 'acceleration'], value=(-10, 10), theta=(0, 360))"
   ]
  },
  {
   "cell_type": "code",
   "execution_count": 25,
   "metadata": {
    "pycharm": {
     "is_executing": false
    }
   },
   "outputs": [],
   "source": [
    "def update():\n",
    "    global myCar\n",
    "    if myCar.mod == 'velocity':\n",
    "        myCar.update_vel()\n",
    "    elif myCar.mod == 'acceleration':\n",
    "        myCar.update_acc()\n",
    "    else:\n",
    "        print(\"Error mode\")"
   ]
  },
  {
   "cell_type": "code",
   "execution_count": 26,
   "metadata": {
    "pycharm": {
     "is_executing": false
    }
   },
   "outputs": [],
   "source": [
    "def sim_running():\n",
    "    global myCar\n",
    "    simulation_time = 0\n",
    "    time = [0]\n",
    "\n",
    "    while True:\n",
    "        update()\n",
    "        myCar.save()\n",
    "        simulation_time = simulation_time + delta_t\n",
    "        time.append(simulation_time)\n",
    "        if simulation_time > 20:\n",
    "            return time\n",
    "            break\n",
    "\n",
    "    # print(t + delta_t - time.time())\n",
    "    \n",
    "\n",
    "    "
   ]
  },
  {
   "cell_type": "code",
   "execution_count": 27,
   "metadata": {
    "pycharm": {
     "is_executing": false
    }
   },
   "outputs": [],
   "source": [
    "time_set = sim_running()\n",
    "length = len(myCar.posx)\n",
    "l=[]\n",
    "for i in range(length):\n",
    "    l.append(i)"
   ]
  },
  {
   "cell_type": "code",
   "execution_count": 28,
   "metadata": {
    "pycharm": {
     "is_executing": false
    }
   },
   "outputs": [
    {
     "data": {
      "image/png": "[encoded data removed]",
      "text/plain": [
       "<Figure size 1440x576 with 3 Axes>"
      ]
     },
     "metadata": {
      "needs_background": "light"
     },
     "output_type": "display_data"
    }
   ],
   "source": [
    "fig, axs = plt.subplots(1, 3, figsize=(20,8))\n",
    "pos_plot = axs[0].plot(myCar.posx, myCar.posy)\n",
    "for i in range(len(l)):\n",
    "    pos_plot = axs[0].plot(myCar.posx[i],myCar.posy[i],'bo')\n",
    "speed_plot = axs[1].plot(myCar.speedx, myCar.speedy)\n",
    "acc_plot = axs[2].plot(myCar.accelerationx, myCar.accelerationy)\n",
    "axs[0].set_title(\"position\")\n",
    "axs[1].set_title(\"speed\")\n",
    "axs[2].set_title(\"acceleration\")\n",
    "\n",
    "plt.show()"
   ]
  },
  {
   "cell_type": "code",
   "execution_count": 29,
   "metadata": {
    "pycharm": {
     "is_executing": false
    }
   },
   "outputs": [
    {
     "data": {
      "application/vnd.plotly.v1+json": {
       "config": {
        "plotlyServerURL": "https://plot.ly"
       },
       "data": [
        {
         "line": {
          "color": "#00CED1",
          "width": 6
         },
         "type": "scatter",
         "visible": false,
         "x": [
          0,
          0,
          0,
          0,
          0,
          0,
          0,
          0,
          0,
          0,
          0,
          0,
          0,
          0,
          0,
          0,
          0,
          0,
          0,
          0,
          0,
          0,
          0,
          0,
          0,
          0,
          0,
          0,
          0,
          0,
          0,
          0,
          0,
          0,
          0,
          0,
          0,
          0,
          0,
          0,
          0
         ],
         "xaxis": "x",
         "y": [
          0,
          0,
          0,
          0,
          0,
          0,
          0,
          0,
          0,
          0,
          0,
          0,
          0,
          0,
          0,
          0,
          0,
          0,
          0,
          0,
          0,
          0,
          0,
          0,
          0,
          0,
          0,
          0,
          0,
          0,
          0,
          0,
          0,
          0,
          0,
          0,
          0,
          0,
          0,
          0,
          0
         ],
         "yaxis": "y"
        },
        {
         "line": {
          "color": "#00CED1",
          "width": 6
         },
         "type": "scatter",
         "visible": false,
         "x": [
          0,
          0,
          0,
          0,
          0,
          0,
          0,
          0,
          0,
          0,
          0,
          0,
          0,
          0,
          0,
          0,
          0,
          0,
          0,
          0,
          0,
          0,
          0,
          0,
          0,
          0,
          0,
          0,
          0,
          0,
          0,
          0,
          0,
          0,
          0,
          0,
          0,
          0,
          0,
          0,
          0
         ],
         "xaxis": "x2",
         "y": [
          0,
          0,
          0,
          0,
          0,
          0,
          0,
          0,
          0,
          0,
          0,
          0,
          0,
          0,
          0,
          0,
          0,
          0,
          0,
          0,
          0,
          0,
          0,
          0,
          0,
          0,
          0,
          0,
          0,
          0,
          0,
          0,
          0,
          0,
          0,
          0,
          0,
          0,
          0,
          0,
          0
         ],
         "yaxis": "y2"
        },
        {
         "line": {
          "color": "#00CED1",
          "width": 6
         },
         "type": "scatter",
         "visible": false,
         "x": [
          0,
          0,
          0,
          0,
          0,
          0,
          0,
          0,
          0,
          0,
          0,
          0,
          0,
          0,
          0,
          0,
          0,
          0,
          0,
          0,
          0,
          0,
          0,
          0,
          0,
          0,
          0,
          0,
          0,
          0,
          0,
          0,
          0,
          0,
          0,
          0,
          0,
          0,
          0,
          0,
          0
         ],
         "xaxis": "x3",
         "y": [
          0,
          0,
          0,
          0,
          0,
          0,
          0,
          0,
          0,
          0,
          0,
          0,
          0,
          0,
          0,
          0,
          0,
          0,
          0,
          0,
          0,
          0,
          0,
          0,
          0,
          0,
          0,
          0,
          0,
          0,
          0,
          0,
          0,
          0,
          0,
          0,
          0,
          0,
          0,
          0,
          0
         ],
         "yaxis": "y3"
        },
        {
         "line": {
          "color": "red",
          "width": 10
         },
         "mode": "markers",
         "type": "scatter",
         "x": [
          0
         ],
         "xaxis": "x",
         "y": [
          0
         ],
         "yaxis": "y"
        },
        {
         "line": {
          "color": "red",
          "width": 10
         },
         "mode": "markers",
         "type": "scatter",
         "x": [
          0
         ],
         "xaxis": "x",
         "y": [
          0
         ],
         "yaxis": "y"
        },
        {
         "line": {
          "color": "red",
          "width": 10
         },
         "mode": "markers",
         "type": "scatter",
         "x": [
          0
         ],
         "xaxis": "x",
         "y": [
          0
         ],
         "yaxis": "y"
        },
        {
         "line": {
          "color": "red",
          "width": 10
         },
         "mode": "markers",
         "type": "scatter",
         "x": [
          0
         ],
         "xaxis": "x",
         "y": [
          0
         ],
         "yaxis": "y"
        },
        {
         "line": {
          "color": "red",
          "width": 10
         },
         "mode": "markers",
         "type": "scatter",
         "x": [
          0
         ],
         "xaxis": "x",
         "y": [
          0
         ],
         "yaxis": "y"
        },
        {
         "line": {
          "color": "red",
          "width": 10
         },
         "mode": "markers",
         "type": "scatter",
         "x": [
          0
         ],
         "xaxis": "x",
         "y": [
          0
         ],
         "yaxis": "y"
        },
        {
         "line": {
          "color": "red",
          "width": 10
         },
         "mode": "markers",
         "type": "scatter",
         "x": [
          0
         ],
         "xaxis": "x",
         "y": [
          0
         ],
         "yaxis": "y"
        },
        {
         "line": {
          "color": "red",
          "width": 10
         },
         "mode": "markers",
         "type": "scatter",
         "x": [
          0
         ],
         "xaxis": "x",
         "y": [
          0
         ],
         "yaxis": "y"
        },
        {
         "line": {
          "color": "red",
          "width": 10
         },
         "mode": "markers",
         "type": "scatter",
         "x": [
          0
         ],
         "xaxis": "x",
         "y": [
          0
         ],
         "yaxis": "y"
        },
        {
         "line": {
          "color": "red",
          "width": 10
         },
         "mode": "markers",
         "type": "scatter",
         "x": [
          0
         ],
         "xaxis": "x",
         "y": [
          0
         ],
         "yaxis": "y"
        },
        {
         "line": {
          "color": "red",
          "width": 10
         },
         "mode": "markers",
         "type": "scatter",
         "x": [
          0
         ],
         "xaxis": "x",
         "y": [
          0
         ],
         "yaxis": "y"
        },
        {
         "line": {
          "color": "red",
          "width": 10
         },
         "mode": "markers",
         "type": "scatter",
         "x": [
          0
         ],
         "xaxis": "x",
         "y": [
          0
         ],
         "yaxis": "y"
        },
        {
         "line": {
          "color": "red",
          "width": 10
         },
         "mode": "markers",
         "type": "scatter",
         "x": [
          0
         ],
         "xaxis": "x",
         "y": [
          0
         ],
         "yaxis": "y"
        },
        {
         "line": {
          "color": "red",
          "width": 10
         },
         "mode": "markers",
         "type": "scatter",
         "x": [
          0
         ],
         "xaxis": "x",
         "y": [
          0
         ],
         "yaxis": "y"
        },
        {
         "line": {
          "color": "red",
          "width": 10
         },
         "mode": "markers",
         "type": "scatter",
         "x": [
          0
         ],
         "xaxis": "x",
         "y": [
          0
         ],
         "yaxis": "y"
        },
        {
         "line": {
          "color": "red",
          "width": 10
         },
         "mode": "markers",
         "type": "scatter",
         "x": [
          0
         ],
         "xaxis": "x",
         "y": [
          0
         ],
         "yaxis": "y"
        },
        {
         "line": {
          "color": "red",
          "width": 10
         },
         "mode": "markers",
         "type": "scatter",
         "x": [
          0
         ],
         "xaxis": "x",
         "y": [
          0
         ],
         "yaxis": "y"
        },
        {
         "line": {
          "color": "red",
          "width": 10
         },
         "mode": "markers",
         "type": "scatter",
         "x": [
          0
         ],
         "xaxis": "x",
         "y": [
          0
         ],
         "yaxis": "y"
        },
        {
         "line": {
          "color": "red",
          "width": 10
         },
         "mode": "markers",
         "type": "scatter",
         "x": [
          0
         ],
         "xaxis": "x",
         "y": [
          0
         ],
         "yaxis": "y"
        },
        {
         "line": {
          "color": "red",
          "width": 10
         },
         "mode": "markers",
         "type": "scatter",
         "x": [
          0
         ],
         "xaxis": "x",
         "y": [
          0
         ],
         "yaxis": "y"
        },
        {
         "line": {
          "color": "red",
          "width": 10
         },
         "mode": "markers",
         "type": "scatter",
         "x": [
          0
         ],
         "xaxis": "x",
         "y": [
          0
         ],
         "yaxis": "y"
        },
        {
         "line": {
          "color": "red",
          "width": 10
         },
         "mode": "markers",
         "type": "scatter",
         "x": [
          0
         ],
         "xaxis": "x",
         "y": [
          0
         ],
         "yaxis": "y"
        },
        {
         "line": {
          "color": "red",
          "width": 10
         },
         "mode": "markers",
         "type": "scatter",
         "x": [
          0
         ],
         "xaxis": "x",
         "y": [
          0
         ],
         "yaxis": "y"
        },
        {
         "line": {
          "color": "red",
          "width": 10
         },
         "mode": "markers",
         "type": "scatter",
         "x": [
          0
         ],
         "xaxis": "x",
         "y": [
          0
         ],
         "yaxis": "y"
        },
        {
         "line": {
          "color": "red",
          "width": 10
         },
         "mode": "markers",
         "type": "scatter",
         "x": [
          0
         ],
         "xaxis": "x",
         "y": [
          0
         ],
         "yaxis": "y"
        },
        {
         "line": {
          "color": "red",
          "width": 10
         },
         "mode": "markers",
         "type": "scatter",
         "x": [
          0
         ],
         "xaxis": "x",
         "y": [
          0
         ],
         "yaxis": "y"
        },
        {
         "line": {
          "color": "red",
          "width": 10
         },
         "mode": "markers",
         "type": "scatter",
         "x": [
          0
         ],
         "xaxis": "x",
         "y": [
          0
         ],
         "yaxis": "y"
        },
        {
         "line": {
          "color": "red",
          "width": 10
         },
         "mode": "markers",
         "type": "scatter",
         "x": [
          0
         ],
         "xaxis": "x",
         "y": [
          0
         ],
         "yaxis": "y"
        },
        {
         "line": {
          "color": "red",
          "width": 10
         },
         "mode": "markers",
         "type": "scatter",
         "x": [
          0
         ],
         "xaxis": "x",
         "y": [
          0
         ],
         "yaxis": "y"
        },
        {
         "line": {
          "color": "red",
          "width": 10
         },
         "mode": "markers",
         "type": "scatter",
         "x": [
          0
         ],
         "xaxis": "x",
         "y": [
          0
         ],
         "yaxis": "y"
        },
        {
         "line": {
          "color": "red",
          "width": 10
         },
         "mode": "markers",
         "type": "scatter",
         "x": [
          0
         ],
         "xaxis": "x",
         "y": [
          0
         ],
         "yaxis": "y"
        },
        {
         "line": {
          "color": "red",
          "width": 10
         },
         "mode": "markers",
         "type": "scatter",
         "x": [
          0
         ],
         "xaxis": "x",
         "y": [
          0
         ],
         "yaxis": "y"
        },
        {
         "line": {
          "color": "red",
          "width": 10
         },
         "mode": "markers",
         "type": "scatter",
         "x": [
          0
         ],
         "xaxis": "x",
         "y": [
          0
         ],
         "yaxis": "y"
        },
        {
         "line": {
          "color": "red",
          "width": 10
         },
         "mode": "markers",
         "type": "scatter",
         "x": [
          0
         ],
         "xaxis": "x",
         "y": [
          0
         ],
         "yaxis": "y"
        },
        {
         "line": {
          "color": "red",
          "width": 10
         },
         "mode": "markers",
         "type": "scatter",
         "x": [
          0
         ],
         "xaxis": "x",
         "y": [
          0
         ],
         "yaxis": "y"
        },
        {
         "line": {
          "color": "red",
          "width": 10
         },
         "mode": "markers",
         "type": "scatter",
         "x": [
          0
         ],
         "xaxis": "x",
         "y": [
          0
         ],
         "yaxis": "y"
        },
        {
         "line": {
          "color": "red",
          "width": 10
         },
         "mode": "markers",
         "type": "scatter",
         "x": [
          0
         ],
         "xaxis": "x",
         "y": [
          0
         ],
         "yaxis": "y"
        },
        {
         "line": {
          "color": "red",
          "width": 10
         },
         "mode": "markers",
         "type": "scatter",
         "x": [
          0
         ],
         "xaxis": "x",
         "y": [
          0
         ],
         "yaxis": "y"
        },
        {
         "line": {
          "color": "red",
          "width": 10
         },
         "mode": "markers",
         "type": "scatter",
         "x": [
          0
         ],
         "xaxis": "x",
         "y": [
          0
         ],
         "yaxis": "y"
        },
        {
         "line": {
          "color": "red",
          "width": 10
         },
         "mode": "markers",
         "type": "scatter",
         "x": [
          0
         ],
         "xaxis": "x",
         "y": [
          0
         ],
         "yaxis": "y"
        },
        {
         "line": {
          "color": "red",
          "width": 10
         },
         "mode": "markers",
         "type": "scatter",
         "x": [
          0
         ],
         "xaxis": "x",
         "y": [
          0
         ],
         "yaxis": "y"
        },
        {
         "line": {
          "color": "red",
          "width": 10
         },
         "mode": "markers",
         "type": "scatter",
         "x": [
          0
         ],
         "xaxis": "x2",
         "y": [
          0
         ],
         "yaxis": "y2"
        },
        {
         "line": {
          "color": "red",
          "width": 10
         },
         "mode": "markers",
         "type": "scatter",
         "x": [
          0
         ],
         "xaxis": "x2",
         "y": [
          0
         ],
         "yaxis": "y2"
        },
        {
         "line": {
          "color": "red",
          "width": 10
         },
         "mode": "markers",
         "type": "scatter",
         "x": [
          0
         ],
         "xaxis": "x2",
         "y": [
          0
         ],
         "yaxis": "y2"
        },
        {
         "line": {
          "color": "red",
          "width": 10
         },
         "mode": "markers",
         "type": "scatter",
         "x": [
          0
         ],
         "xaxis": "x2",
         "y": [
          0
         ],
         "yaxis": "y2"
        },
        {
         "line": {
          "color": "red",
          "width": 10
         },
         "mode": "markers",
         "type": "scatter",
         "x": [
          0
         ],
         "xaxis": "x2",
         "y": [
          0
         ],
         "yaxis": "y2"
        },
        {
         "line": {
          "color": "red",
          "width": 10
         },
         "mode": "markers",
         "type": "scatter",
         "x": [
          0
         ],
         "xaxis": "x2",
         "y": [
          0
         ],
         "yaxis": "y2"
        },
        {
         "line": {
          "color": "red",
          "width": 10
         },
         "mode": "markers",
         "type": "scatter",
         "x": [
          0
         ],
         "xaxis": "x2",
         "y": [
          0
         ],
         "yaxis": "y2"
        },
        {
         "line": {
          "color": "red",
          "width": 10
         },
         "mode": "markers",
         "type": "scatter",
         "x": [
          0
         ],
         "xaxis": "x2",
         "y": [
          0
         ],
         "yaxis": "y2"
        },
        {
         "line": {
          "color": "red",
          "width": 10
         },
         "mode": "markers",
         "type": "scatter",
         "x": [
          0
         ],
         "xaxis": "x2",
         "y": [
          0
         ],
         "yaxis": "y2"
        },
        {
         "line": {
          "color": "red",
          "width": 10
         },
         "mode": "markers",
         "type": "scatter",
         "x": [
          0
         ],
         "xaxis": "x2",
         "y": [
          0
         ],
         "yaxis": "y2"
        },
        {
         "line": {
          "color": "red",
          "width": 10
         },
         "mode": "markers",
         "type": "scatter",
         "x": [
          0
         ],
         "xaxis": "x2",
         "y": [
          0
         ],
         "yaxis": "y2"
        },
        {
         "line": {
          "color": "red",
          "width": 10
         },
         "mode": "markers",
         "type": "scatter",
         "x": [
          0
         ],
         "xaxis": "x2",
         "y": [
          0
         ],
         "yaxis": "y2"
        },
        {
         "line": {
          "color": "red",
          "width": 10
         },
         "mode": "markers",
         "type": "scatter",
         "x": [
          0
         ],
         "xaxis": "x2",
         "y": [
          0
         ],
         "yaxis": "y2"
        },
        {
         "line": {
          "color": "red",
          "width": 10
         },
         "mode": "markers",
         "type": "scatter",
         "x": [
          0
         ],
         "xaxis": "x2",
         "y": [
          0
         ],
         "yaxis": "y2"
        },
        {
         "line": {
          "color": "red",
          "width": 10
         },
         "mode": "markers",
         "type": "scatter",
         "x": [
          0
         ],
         "xaxis": "x2",
         "y": [
          0
         ],
         "yaxis": "y2"
        },
        {
         "line": {
          "color": "red",
          "width": 10
         },
         "mode": "markers",
         "type": "scatter",
         "x": [
          0
         ],
         "xaxis": "x2",
         "y": [
          0
         ],
         "yaxis": "y2"
        },
        {
         "line": {
          "color": "red",
          "width": 10
         },
         "mode": "markers",
         "type": "scatter",
         "x": [
          0
         ],
         "xaxis": "x2",
         "y": [
          0
         ],
         "yaxis": "y2"
        },
        {
         "line": {
          "color": "red",
          "width": 10
         },
         "mode": "markers",
         "type": "scatter",
         "x": [
          0
         ],
         "xaxis": "x2",
         "y": [
          0
         ],
         "yaxis": "y2"
        },
        {
         "line": {
          "color": "red",
          "width": 10
         },
         "mode": "markers",
         "type": "scatter",
         "x": [
          0
         ],
         "xaxis": "x2",
         "y": [
          0
         ],
         "yaxis": "y2"
        },
        {
         "line": {
          "color": "red",
          "width": 10
         },
         "mode": "markers",
         "type": "scatter",
         "x": [
          0
         ],
         "xaxis": "x2",
         "y": [
          0
         ],
         "yaxis": "y2"
        },
        {
         "line": {
          "color": "red",
          "width": 10
         },
         "mode": "markers",
         "type": "scatter",
         "x": [
          0
         ],
         "xaxis": "x2",
         "y": [
          0
         ],
         "yaxis": "y2"
        },
        {
         "line": {
          "color": "red",
          "width": 10
         },
         "mode": "markers",
         "type": "scatter",
         "x": [
          0
         ],
         "xaxis": "x2",
         "y": [
          0
         ],
         "yaxis": "y2"
        },
        {
         "line": {
          "color": "red",
          "width": 10
         },
         "mode": "markers",
         "type": "scatter",
         "x": [
          0
         ],
         "xaxis": "x2",
         "y": [
          0
         ],
         "yaxis": "y2"
        },
        {
         "line": {
          "color": "red",
          "width": 10
         },
         "mode": "markers",
         "type": "scatter",
         "x": [
          0
         ],
         "xaxis": "x2",
         "y": [
          0
         ],
         "yaxis": "y2"
        },
        {
         "line": {
          "color": "red",
          "width": 10
         },
         "mode": "markers",
         "type": "scatter",
         "x": [
          0
         ],
         "xaxis": "x2",
         "y": [
          0
         ],
         "yaxis": "y2"
        },
        {
         "line": {
          "color": "red",
          "width": 10
         },
         "mode": "markers",
         "type": "scatter",
         "x": [
          0
         ],
         "xaxis": "x2",
         "y": [
          0
         ],
         "yaxis": "y2"
        },
        {
         "line": {
          "color": "red",
          "width": 10
         },
         "mode": "markers",
         "type": "scatter",
         "x": [
          0
         ],
         "xaxis": "x2",
         "y": [
          0
         ],
         "yaxis": "y2"
        },
        {
         "line": {
          "color": "red",
          "width": 10
         },
         "mode": "markers",
         "type": "scatter",
         "x": [
          0
         ],
         "xaxis": "x2",
         "y": [
          0
         ],
         "yaxis": "y2"
        },
        {
         "line": {
          "color": "red",
          "width": 10
         },
         "mode": "markers",
         "type": "scatter",
         "x": [
          0
         ],
         "xaxis": "x2",
         "y": [
          0
         ],
         "yaxis": "y2"
        },
        {
         "line": {
          "color": "red",
          "width": 10
         },
         "mode": "markers",
         "type": "scatter",
         "x": [
          0
         ],
         "xaxis": "x2",
         "y": [
          0
         ],
         "yaxis": "y2"
        },
        {
         "line": {
          "color": "red",
          "width": 10
         },
         "mode": "markers",
         "type": "scatter",
         "x": [
          0
         ],
         "xaxis": "x2",
         "y": [
          0
         ],
         "yaxis": "y2"
        },
        {
         "line": {
          "color": "red",
          "width": 10
         },
         "mode": "markers",
         "type": "scatter",
         "x": [
          0
         ],
         "xaxis": "x2",
         "y": [
          0
         ],
         "yaxis": "y2"
        },
        {
         "line": {
          "color": "red",
          "width": 10
         },
         "mode": "markers",
         "type": "scatter",
         "x": [
          0
         ],
         "xaxis": "x2",
         "y": [
          0
         ],
         "yaxis": "y2"
        },
        {
         "line": {
          "color": "red",
          "width": 10
         },
         "mode": "markers",
         "type": "scatter",
         "x": [
          0
         ],
         "xaxis": "x2",
         "y": [
          0
         ],
         "yaxis": "y2"
        },
        {
         "line": {
          "color": "red",
          "width": 10
         },
         "mode": "markers",
         "type": "scatter",
         "x": [
          0
         ],
         "xaxis": "x2",
         "y": [
          0
         ],
         "yaxis": "y2"
        },
        {
         "line": {
          "color": "red",
          "width": 10
         },
         "mode": "markers",
         "type": "scatter",
         "x": [
          0
         ],
         "xaxis": "x2",
         "y": [
          0
         ],
         "yaxis": "y2"
        },
        {
         "line": {
          "color": "red",
          "width": 10
         },
         "mode": "markers",
         "type": "scatter",
         "x": [
          0
         ],
         "xaxis": "x2",
         "y": [
          0
         ],
         "yaxis": "y2"
        },
        {
         "line": {
          "color": "red",
          "width": 10
         },
         "mode": "markers",
         "type": "scatter",
         "x": [
          0
         ],
         "xaxis": "x2",
         "y": [
          0
         ],
         "yaxis": "y2"
        },
        {
         "line": {
          "color": "red",
          "width": 10
         },
         "mode": "markers",
         "type": "scatter",
         "x": [
          0
         ],
         "xaxis": "x2",
         "y": [
          0
         ],
         "yaxis": "y2"
        },
        {
         "line": {
          "color": "red",
          "width": 10
         },
         "mode": "markers",
         "type": "scatter",
         "x": [
          0
         ],
         "xaxis": "x2",
         "y": [
          0
         ],
         "yaxis": "y2"
        },
        {
         "line": {
          "color": "red",
          "width": 10
         },
         "mode": "markers",
         "type": "scatter",
         "x": [
          0
         ],
         "xaxis": "x2",
         "y": [
          0
         ],
         "yaxis": "y2"
        },
        {
         "line": {
          "color": "red",
          "width": 10
         },
         "mode": "markers",
         "type": "scatter",
         "x": [
          0
         ],
         "xaxis": "x3",
         "y": [
          0
         ],
         "yaxis": "y3"
        },
        {
         "line": {
          "color": "red",
          "width": 10
         },
         "mode": "markers",
         "type": "scatter",
         "x": [
          0
         ],
         "xaxis": "x3",
         "y": [
          0
         ],
         "yaxis": "y3"
        },
        {
         "line": {
          "color": "red",
          "width": 10
         },
         "mode": "markers",
         "type": "scatter",
         "x": [
          0
         ],
         "xaxis": "x3",
         "y": [
          0
         ],
         "yaxis": "y3"
        },
        {
         "line": {
          "color": "red",
          "width": 10
         },
         "mode": "markers",
         "type": "scatter",
         "x": [
          0
         ],
         "xaxis": "x3",
         "y": [
          0
         ],
         "yaxis": "y3"
        },
        {
         "line": {
          "color": "red",
          "width": 10
         },
         "mode": "markers",
         "type": "scatter",
         "x": [
          0
         ],
         "xaxis": "x3",
         "y": [
          0
         ],
         "yaxis": "y3"
        },
        {
         "line": {
          "color": "red",
          "width": 10
         },
         "mode": "markers",
         "type": "scatter",
         "x": [
          0
         ],
         "xaxis": "x3",
         "y": [
          0
         ],
         "yaxis": "y3"
        },
        {
         "line": {
          "color": "red",
          "width": 10
         },
         "mode": "markers",
         "type": "scatter",
         "x": [
          0
         ],
         "xaxis": "x3",
         "y": [
          0
         ],
         "yaxis": "y3"
        },
        {
         "line": {
          "color": "red",
          "width": 10
         },
         "mode": "markers",
         "type": "scatter",
         "x": [
          0
         ],
         "xaxis": "x3",
         "y": [
          0
         ],
         "yaxis": "y3"
        },
        {
         "line": {
          "color": "red",
          "width": 10
         },
         "mode": "markers",
         "type": "scatter",
         "x": [
          0
         ],
         "xaxis": "x3",
         "y": [
          0
         ],
         "yaxis": "y3"
        },
        {
         "line": {
          "color": "red",
          "width": 10
         },
         "mode": "markers",
         "type": "scatter",
         "x": [
          0
         ],
         "xaxis": "x3",
         "y": [
          0
         ],
         "yaxis": "y3"
        },
        {
         "line": {
          "color": "red",
          "width": 10
         },
         "mode": "markers",
         "type": "scatter",
         "x": [
          0
         ],
         "xaxis": "x3",
         "y": [
          0
         ],
         "yaxis": "y3"
        },
        {
         "line": {
          "color": "red",
          "width": 10
         },
         "mode": "markers",
         "type": "scatter",
         "x": [
          0
         ],
         "xaxis": "x3",
         "y": [
          0
         ],
         "yaxis": "y3"
        },
        {
         "line": {
          "color": "red",
          "width": 10
         },
         "mode": "markers",
         "type": "scatter",
         "x": [
          0
         ],
         "xaxis": "x3",
         "y": [
          0
         ],
         "yaxis": "y3"
        },
        {
         "line": {
          "color": "red",
          "width": 10
         },
         "mode": "markers",
         "type": "scatter",
         "x": [
          0
         ],
         "xaxis": "x3",
         "y": [
          0
         ],
         "yaxis": "y3"
        },
        {
         "line": {
          "color": "red",
          "width": 10
         },
         "mode": "markers",
         "type": "scatter",
         "x": [
          0
         ],
         "xaxis": "x3",
         "y": [
          0
         ],
         "yaxis": "y3"
        },
        {
         "line": {
          "color": "red",
          "width": 10
         },
         "mode": "markers",
         "type": "scatter",
         "x": [
          0
         ],
         "xaxis": "x3",
         "y": [
          0
         ],
         "yaxis": "y3"
        },
        {
         "line": {
          "color": "red",
          "width": 10
         },
         "mode": "markers",
         "type": "scatter",
         "x": [
          0
         ],
         "xaxis": "x3",
         "y": [
          0
         ],
         "yaxis": "y3"
        },
        {
         "line": {
          "color": "red",
          "width": 10
         },
         "mode": "markers",
         "type": "scatter",
         "x": [
          0
         ],
         "xaxis": "x3",
         "y": [
          0
         ],
         "yaxis": "y3"
        },
        {
         "line": {
          "color": "red",
          "width": 10
         },
         "mode": "markers",
         "type": "scatter",
         "x": [
          0
         ],
         "xaxis": "x3",
         "y": [
          0
         ],
         "yaxis": "y3"
        },
        {
         "line": {
          "color": "red",
          "width": 10
         },
         "mode": "markers",
         "type": "scatter",
         "x": [
          0
         ],
         "xaxis": "x3",
         "y": [
          0
         ],
         "yaxis": "y3"
        },
        {
         "line": {
          "color": "red",
          "width": 10
         },
         "mode": "markers",
         "type": "scatter",
         "x": [
          0
         ],
         "xaxis": "x3",
         "y": [
          0
         ],
         "yaxis": "y3"
        },
        {
         "line": {
          "color": "red",
          "width": 10
         },
         "mode": "markers",
         "type": "scatter",
         "x": [
          0
         ],
         "xaxis": "x3",
         "y": [
          0
         ],
         "yaxis": "y3"
        },
        {
         "line": {
          "color": "red",
          "width": 10
         },
         "mode": "markers",
         "type": "scatter",
         "x": [
          0
         ],
         "xaxis": "x3",
         "y": [
          0
         ],
         "yaxis": "y3"
        },
        {
         "line": {
          "color": "red",
          "width": 10
         },
         "mode": "markers",
         "type": "scatter",
         "x": [
          0
         ],
         "xaxis": "x3",
         "y": [
          0
         ],
         "yaxis": "y3"
        },
        {
         "line": {
          "color": "red",
          "width": 10
         },
         "mode": "markers",
         "type": "scatter",
         "x": [
          0
         ],
         "xaxis": "x3",
         "y": [
          0
         ],
         "yaxis": "y3"
        },
        {
         "line": {
          "color": "red",
          "width": 10
         },
         "mode": "markers",
         "type": "scatter",
         "x": [
          0
         ],
         "xaxis": "x3",
         "y": [
          0
         ],
         "yaxis": "y3"
        },
        {
         "line": {
          "color": "red",
          "width": 10
         },
         "mode": "markers",
         "type": "scatter",
         "x": [
          0
         ],
         "xaxis": "x3",
         "y": [
          0
         ],
         "yaxis": "y3"
        },
        {
         "line": {
          "color": "red",
          "width": 10
         },
         "mode": "markers",
         "type": "scatter",
         "x": [
          0
         ],
         "xaxis": "x3",
         "y": [
          0
         ],
         "yaxis": "y3"
        },
        {
         "line": {
          "color": "red",
          "width": 10
         },
         "mode": "markers",
         "type": "scatter",
         "x": [
          0
         ],
         "xaxis": "x3",
         "y": [
          0
         ],
         "yaxis": "y3"
        },
        {
         "line": {
          "color": "red",
          "width": 10
         },
         "mode": "markers",
         "type": "scatter",
         "x": [
          0
         ],
         "xaxis": "x3",
         "y": [
          0
         ],
         "yaxis": "y3"
        },
        {
         "line": {
          "color": "red",
          "width": 10
         },
         "mode": "markers",
         "type": "scatter",
         "x": [
          0
         ],
         "xaxis": "x3",
         "y": [
          0
         ],
         "yaxis": "y3"
        },
        {
         "line": {
          "color": "red",
          "width": 10
         },
         "mode": "markers",
         "type": "scatter",
         "x": [
          0
         ],
         "xaxis": "x3",
         "y": [
          0
         ],
         "yaxis": "y3"
        },
        {
         "line": {
          "color": "red",
          "width": 10
         },
         "mode": "markers",
         "type": "scatter",
         "x": [
          0
         ],
         "xaxis": "x3",
         "y": [
          0
         ],
         "yaxis": "y3"
        },
        {
         "line": {
          "color": "red",
          "width": 10
         },
         "mode": "markers",
         "type": "scatter",
         "x": [
          0
         ],
         "xaxis": "x3",
         "y": [
          0
         ],
         "yaxis": "y3"
        },
        {
         "line": {
          "color": "red",
          "width": 10
         },
         "mode": "markers",
         "type": "scatter",
         "x": [
          0
         ],
         "xaxis": "x3",
         "y": [
          0
         ],
         "yaxis": "y3"
        },
        {
         "line": {
          "color": "red",
          "width": 10
         },
         "mode": "markers",
         "type": "scatter",
         "x": [
          0
         ],
         "xaxis": "x3",
         "y": [
          0
         ],
         "yaxis": "y3"
        },
        {
         "line": {
          "color": "red",
          "width": 10
         },
         "mode": "markers",
         "type": "scatter",
         "x": [
          0
         ],
         "xaxis": "x3",
         "y": [
          0
         ],
         "yaxis": "y3"
        },
        {
         "line": {
          "color": "red",
          "width": 10
         },
         "mode": "markers",
         "type": "scatter",
         "x": [
          0
         ],
         "xaxis": "x3",
         "y": [
          0
         ],
         "yaxis": "y3"
        },
        {
         "line": {
          "color": "red",
          "width": 10
         },
         "mode": "markers",
         "type": "scatter",
         "x": [
          0
         ],
         "xaxis": "x3",
         "y": [
          0
         ],
         "yaxis": "y3"
        },
        {
         "line": {
          "color": "red",
          "width": 10
         },
         "mode": "markers",
         "type": "scatter",
         "x": [
          0
         ],
         "xaxis": "x3",
         "y": [
          0
         ],
         "yaxis": "y3"
        },
        {
         "line": {
          "color": "red",
          "width": 10
         },
         "mode": "markers",
         "type": "scatter",
         "x": [
          0
         ],
         "xaxis": "x3",
         "y": [
          0
         ],
         "yaxis": "y3"
        }
       ],
       "layout": {
        "sliders": [
         {
          "active": 10,
          "currentvalue": {
           "prefix": "Time: "
          },
          "pad": {
           "t": 50
          },
          "steps": [
           {
            "args": [
             {
              "visible": [
               true,
               true,
               true,
               true,
               false,
               false,
               false,
               false,
               false,
               false,
               false,
               false,
               false,
               false,
               false,
               false,
               false,
               false,
               false,
               false,
               false,
               false,
               false,
               false,
               false,
               false,
               false,
               false,
               false,
               false,
               false,
               false,
               false,
               false,
               false,
               false,
               false,
               false,
               false,
               false,
               false,
               false,
               false,
               false,
               true,
               false,
               false,
               false,
               false,
               false,
               false,
               false,
               false,
               false,
               false,
               false,
               false,
               false,
               false,
               false,
               false,
               false,
               false,
               false,
               false,
               false,
               false,
               false,
               false,
               false,
               false,
               false,
               false,
               false,
               false,
               false,
               false,
               false,
               false,
               false,
               false,
               false,
               false,
               false,
               false,
               true,
               false,
               false,
               false,
               false,
               false,
               false,
               false,
               false,
               false,
               false,
               false,
               false,
               false,
               false,
               false,
               false,
               false,
               false,
               false,
               false,
               false,
               false,
               false,
               false,
               false,
               false,
               false,
               false,
               false,
               false,
               false,
               false,
               false,
               false,
               false,
               false,
               false,
               false,
               false,
               false
              ]
             },
             {
              "title": "Time: 0s"
             }
            ],
            "method": "update"
           },
           {
            "args": [
             {
              "visible": [
               true,
               true,
               true,
               false,
               true,
               false,
               false,
               false,
               false,
               false,
               false,
               false,
               false,
               false,
               false,
               false,
               false,
               false,
               false,
               false,
               false,
               false,
               false,
               false,
               false,
               false,
               false,
               false,
               false,
               false,
               false,
               false,
               false,
               false,
               false,
               false,
               false,
               false,
               false,
               false,
               false,
               false,
               false,
               false,
               false,
               true,
               false,
               false,
               false,
               false,
               false,
               false,
               false,
               false,
               false,
               false,
               false,
               false,
               false,
               false,
               false,
               false,
               false,
               false,
               false,
               false,
               false,
               false,
               false,
               false,
               false,
               false,
               false,
               false,
               false,
               false,
               false,
               false,
               false,
               false,
               false,
               false,
               false,
               false,
               false,
               false,
               true,
               false,
               false,
               false,
               false,
               false,
               false,
               false,
               false,
               false,
               false,
               false,
               false,
               false,
               false,
               false,
               false,
               false,
               false,
               false,
               false,
               false,
               false,
               false,
               false,
               false,
               false,
               false,
               false,
               false,
               false,
               false,
               false,
               false,
               false,
               false,
               false,
               false,
               false,
               false
              ]
             },
             {
              "title": "Time: 0.5s"
             }
            ],
            "method": "update"
           },
           {
            "args": [
             {
              "visible": [
               true,
               true,
               true,
               false,
               false,
               true,
               false,
               false,
               false,
               false,
               false,
               false,
               false,
               false,
               false,
               false,
               false,
               false,
               false,
               false,
               false,
               false,
               false,
               false,
               false,
               false,
               false,
               false,
               false,
               false,
               false,
               false,
               false,
               false,
               false,
               false,
               false,
               false,
               false,
               false,
               false,
               false,
               false,
               false,
               false,
               false,
               true,
               false,
               false,
               false,
               false,
               false,
               false,
               false,
               false,
               false,
               false,
               false,
               false,
               false,
               false,
               false,
               false,
               false,
               false,
               false,
               false,
               false,
               false,
               false,
               false,
               false,
               false,
               false,
               false,
               false,
               false,
               false,
               false,
               false,
               false,
               false,
               false,
               false,
               false,
               false,
               false,
               true,
               false,
               false,
               false,
               false,
               false,
               false,
               false,
               false,
               false,
               false,
               false,
               false,
               false,
               false,
               false,
               false,
               false,
               false,
               false,
               false,
               false,
               false,
               false,
               false,
               false,
               false,
               false,
               false,
               false,
               false,
               false,
               false,
               false,
               false,
               false,
               false,
               false,
               false
              ]
             },
             {
              "title": "Time: 1.0s"
             }
            ],
            "method": "update"
           },
           {
            "args": [
             {
              "visible": [
               true,
               true,
               true,
               false,
               false,
               false,
               true,
               false,
               false,
               false,
               false,
               false,
               false,
               false,
               false,
               false,
               false,
               false,
               false,
               false,
               false,
               false,
               false,
               false,
               false,
               false,
               false,
               false,
               false,
               false,
               false,
               false,
               false,
               false,
               false,
               false,
               false,
               false,
               false,
               false,
               false,
               false,
               false,
               false,
               false,
               false,
               false,
               true,
               false,
               false,
               false,
               false,
               false,
               false,
               false,
               false,
               false,
               false,
               false,
               false,
               false,
               false,
               false,
               false,
               false,
               false,
               false,
               false,
               false,
               false,
               false,
               false,
               false,
               false,
               false,
               false,
               false,
               false,
               false,
               false,
               false,
               false,
               false,
               false,
               false,
               false,
               false,
               false,
               true,
               false,
               false,
               false,
               false,
               false,
               false,
               false,
               false,
               false,
               false,
               false,
               false,
               false,
               false,
               false,
               false,
               false,
               false,
               false,
               false,
               false,
               false,
               false,
               false,
               false,
               false,
               false,
               false,
               false,
               false,
               false,
               false,
               false,
               false,
               false,
               false,
               false
              ]
             },
             {
              "title": "Time: 1.5s"
             }
            ],
            "method": "update"
           },
           {
            "args": [
             {
              "visible": [
               true,
               true,
               true,
               false,
               false,
               false,
               false,
               true,
               false,
               false,
               false,
               false,
               false,
               false,
               false,
               false,
               false,
               false,
               false,
               false,
               false,
               false,
               false,
               false,
               false,
               false,
               false,
               false,
               false,
               false,
               false,
               false,
               false,
               false,
               false,
               false,
               false,
               false,
               false,
               false,
               false,
               false,
               false,
               false,
               false,
               false,
               false,
               false,
               true,
               false,
               false,
               false,
               false,
               false,
               false,
               false,
               false,
               false,
               false,
               false,
               false,
               false,
               false,
               false,
               false,
               false,
               false,
               false,
               false,
               false,
               false,
               false,
               false,
               false,
               false,
               false,
               false,
               false,
               false,
               false,
               false,
               false,
               false,
               false,
               false,
               false,
               false,
               false,
               false,
               true,
               false,
               false,
               false,
               false,
               false,
               false,
               false,
               false,
               false,
               false,
               false,
               false,
               false,
               false,
               false,
               false,
               false,
               false,
               false,
               false,
               false,
               false,
               false,
               false,
               false,
               false,
               false,
               false,
               false,
               false,
               false,
               false,
               false,
               false,
               false,
               false
              ]
             },
             {
              "title": "Time: 2.0s"
             }
            ],
            "method": "update"
           },
           {
            "args": [
             {
              "visible": [
               true,
               true,
               true,
               false,
               false,
               false,
               false,
               false,
               true,
               false,
               false,
               false,
               false,
               false,
               false,
               false,
               false,
               false,
               false,
               false,
               false,
               false,
               false,
               false,
               false,
               false,
               false,
               false,
               false,
               false,
               false,
               false,
               false,
               false,
               false,
               false,
               false,
               false,
               false,
               false,
               false,
               false,
               false,
               false,
               false,
               false,
               false,
               false,
               false,
               true,
               false,
               false,
               false,
               false,
               false,
               false,
               false,
               false,
               false,
               false,
               false,
               false,
               false,
               false,
               false,
               false,
               false,
               false,
               false,
               false,
               false,
               false,
               false,
               false,
               false,
               false,
               false,
               false,
               false,
               false,
               false,
               false,
               false,
               false,
               false,
               false,
               false,
               false,
               false,
               false,
               true,
               false,
               false,
               false,
               false,
               false,
               false,
               false,
               false,
               false,
               false,
               false,
               false,
               false,
               false,
               false,
               false,
               false,
               false,
               false,
               false,
               false,
               false,
               false,
               false,
               false,
               false,
               false,
               false,
               false,
               false,
               false,
               false,
               false,
               false,
               false
              ]
             },
             {
              "title": "Time: 2.5s"
             }
            ],
            "method": "update"
           },
           {
            "args": [
             {
              "visible": [
               true,
               true,
               true,
               false,
               false,
               false,
               false,
               false,
               false,
               true,
               false,
               false,
               false,
               false,
               false,
               false,
               false,
               false,
               false,
               false,
               false,
               false,
               false,
               false,
               false,
               false,
               false,
               false,
               false,
               false,
               false,
               false,
               false,
               false,
               false,
               false,
               false,
               false,
               false,
               false,
               false,
               false,
               false,
               false,
               false,
               false,
               false,
               false,
               false,
               false,
               true,
               false,
               false,
               false,
               false,
               false,
               false,
               false,
               false,
               false,
               false,
               false,
               false,
               false,
               false,
               false,
               false,
               false,
               false,
               false,
               false,
               false,
               false,
               false,
               false,
               false,
               false,
               false,
               false,
               false,
               false,
               false,
               false,
               false,
               false,
               false,
               false,
               false,
               false,
               false,
               false,
               true,
               false,
               false,
               false,
               false,
               false,
               false,
               false,
               false,
               false,
               false,
               false,
               false,
               false,
               false,
               false,
               false,
               false,
               false,
               false,
               false,
               false,
               false,
               false,
               false,
               false,
               false,
               false,
               false,
               false,
               false,
               false,
               false,
               false,
               false
              ]
             },
             {
              "title": "Time: 3.0s"
             }
            ],
            "method": "update"
           },
           {
            "args": [
             {
              "visible": [
               true,
               true,
               true,
               false,
               false,
               false,
               false,
               false,
               false,
               false,
               true,
               false,
               false,
               false,
               false,
               false,
               false,
               false,
               false,
               false,
               false,
               false,
               false,
               false,
               false,
               false,
               false,
               false,
               false,
               false,
               false,
               false,
               false,
               false,
               false,
               false,
               false,
               false,
               false,
               false,
               false,
               false,
               false,
               false,
               false,
               false,
               false,
               false,
               false,
               false,
               false,
               true,
               false,
               false,
               false,
               false,
               false,
               false,
               false,
               false,
               false,
               false,
               false,
               false,
               false,
               false,
               false,
               false,
               false,
               false,
               false,
               false,
               false,
               false,
               false,
               false,
               false,
               false,
               false,
               false,
               false,
               false,
               false,
               false,
               false,
               false,
               false,
               false,
               false,
               false,
               false,
               false,
               true,
               false,
               false,
               false,
               false,
               false,
               false,
               false,
               false,
               false,
               false,
               false,
               false,
               false,
               false,
               false,
               false,
               false,
               false,
               false,
               false,
               false,
               false,
               false,
               false,
               false,
               false,
               false,
               false,
               false,
               false,
               false,
               false,
               false
              ]
             },
             {
              "title": "Time: 3.5s"
             }
            ],
            "method": "update"
           },
           {
            "args": [
             {
              "visible": [
               true,
               true,
               true,
               false,
               false,
               false,
               false,
               false,
               false,
               false,
               false,
               true,
               false,
               false,
               false,
               false,
               false,
               false,
               false,
               false,
               false,
               false,
               false,
               false,
               false,
               false,
               false,
               false,
               false,
               false,
               false,
               false,
               false,
               false,
               false,
               false,
               false,
               false,
               false,
               false,
               false,
               false,
               false,
               false,
               false,
               false,
               false,
               false,
               false,
               false,
               false,
               false,
               true,
               false,
               false,
               false,
               false,
               false,
               false,
               false,
               false,
               false,
               false,
               false,
               false,
               false,
               false,
               false,
               false,
               false,
               false,
               false,
               false,
               false,
               false,
               false,
               false,
               false,
               false,
               false,
               false,
               false,
               false,
               false,
               false,
               false,
               false,
               false,
               false,
               false,
               false,
               false,
               false,
               true,
               false,
               false,
               false,
               false,
               false,
               false,
               false,
               false,
               false,
               false,
               false,
               false,
               false,
               false,
               false,
               false,
               false,
               false,
               false,
               false,
               false,
               false,
               false,
               false,
               false,
               false,
               false,
               false,
               false,
               false,
               false,
               false
              ]
             },
             {
              "title": "Time: 4.0s"
             }
            ],
            "method": "update"
           },
           {
            "args": [
             {
              "visible": [
               true,
               true,
               true,
               false,
               false,
               false,
               false,
               false,
               false,
               false,
               false,
               false,
               true,
               false,
               false,
               false,
               false,
               false,
               false,
               false,
               false,
               false,
               false,
               false,
               false,
               false,
               false,
               false,
               false,
               false,
               false,
               false,
               false,
               false,
               false,
               false,
               false,
               false,
               false,
               false,
               false,
               false,
               false,
               false,
               false,
               false,
               false,
               false,
               false,
               false,
               false,
               false,
               false,
               true,
               false,
               false,
               false,
               false,
               false,
               false,
               false,
               false,
               false,
               false,
               false,
               false,
               false,
               false,
               false,
               false,
               false,
               false,
               false,
               false,
               false,
               false,
               false,
               false,
               false,
               false,
               false,
               false,
               false,
               false,
               false,
               false,
               false,
               false,
               false,
               false,
               false,
               false,
               false,
               false,
               true,
               false,
               false,
               false,
               false,
               false,
               false,
               false,
               false,
               false,
               false,
               false,
               false,
               false,
               false,
               false,
               false,
               false,
               false,
               false,
               false,
               false,
               false,
               false,
               false,
               false,
               false,
               false,
               false,
               false,
               false,
               false
              ]
             },
             {
              "title": "Time: 4.5s"
             }
            ],
            "method": "update"
           },
           {
            "args": [
             {
              "visible": [
               true,
               true,
               true,
               false,
               false,
               false,
               false,
               false,
               false,
               false,
               false,
               false,
               false,
               true,
               false,
               false,
               false,
               false,
               false,
               false,
               false,
               false,
               false,
               false,
               false,
               false,
               false,
               false,
               false,
               false,
               false,
               false,
               false,
               false,
               false,
               false,
               false,
               false,
               false,
               false,
               false,
               false,
               false,
               false,
               false,
               false,
               false,
               false,
               false,
               false,
               false,
               false,
               false,
               false,
               true,
               false,
               false,
               false,
               false,
               false,
               false,
               false,
               false,
               false,
               false,
               false,
               false,
               false,
               false,
               false,
               false,
               false,
               false,
               false,
               false,
               false,
               false,
               false,
               false,
               false,
               false,
               false,
               false,
               false,
               false,
               false,
               false,
               false,
               false,
               false,
               false,
               false,
               false,
               false,
               false,
               true,
               false,
               false,
               false,
               false,
               false,
               false,
               false,
               false,
               false,
               false,
               false,
               false,
               false,
               false,
               false,
               false,
               false,
               false,
               false,
               false,
               false,
               false,
               false,
               false,
               false,
               false,
               false,
               false,
               false,
               false
              ]
             },
             {
              "title": "Time: 5.0s"
             }
            ],
            "method": "update"
           },
           {
            "args": [
             {
              "visible": [
               true,
               true,
               true,
               false,
               false,
               false,
               false,
               false,
               false,
               false,
               false,
               false,
               false,
               false,
               true,
               false,
               false,
               false,
               false,
               false,
               false,
               false,
               false,
               false,
               false,
               false,
               false,
               false,
               false,
               false,
               false,
               false,
               false,
               false,
               false,
               false,
               false,
               false,
               false,
               false,
               false,
               false,
               false,
               false,
               false,
               false,
               false,
               false,
               false,
               false,
               false,
               false,
               false,
               false,
               false,
               true,
               false,
               false,
               false,
               false,
               false,
               false,
               false,
               false,
               false,
               false,
               false,
               false,
               false,
               false,
               false,
               false,
               false,
               false,
               false,
               false,
               false,
               false,
               false,
               false,
               false,
               false,
               false,
               false,
               false,
               false,
               false,
               false,
               false,
               false,
               false,
               false,
               false,
               false,
               false,
               false,
               true,
               false,
               false,
               false,
               false,
               false,
               false,
               false,
               false,
               false,
               false,
               false,
               false,
               false,
               false,
               false,
               false,
               false,
               false,
               false,
               false,
               false,
               false,
               false,
               false,
               false,
               false,
               false,
               false,
               false
              ]
             },
             {
              "title": "Time: 5.5s"
             }
            ],
            "method": "update"
           },
           {
            "args": [
             {
              "visible": [
               true,
               true,
               true,
               false,
               false,
               false,
               false,
               false,
               false,
               false,
               false,
               false,
               false,
               false,
               false,
               true,
               false,
               false,
               false,
               false,
               false,
               false,
               false,
               false,
               false,
               false,
               false,
               false,
               false,
               false,
               false,
               false,
               false,
               false,
               false,
               false,
               false,
               false,
               false,
               false,
               false,
               false,
               false,
               false,
               false,
               false,
               false,
               false,
               false,
               false,
               false,
               false,
               false,
               false,
               false,
               false,
               true,
               false,
               false,
               false,
               false,
               false,
               false,
               false,
               false,
               false,
               false,
               false,
               false,
               false,
               false,
               false,
               false,
               false,
               false,
               false,
               false,
               false,
               false,
               false,
               false,
               false,
               false,
               false,
               false,
               false,
               false,
               false,
               false,
               false,
               false,
               false,
               false,
               false,
               false,
               false,
               false,
               true,
               false,
               false,
               false,
               false,
               false,
               false,
               false,
               false,
               false,
               false,
               false,
               false,
               false,
               false,
               false,
               false,
               false,
               false,
               false,
               false,
               false,
               false,
               false,
               false,
               false,
               false,
               false,
               false
              ]
             },
             {
              "title": "Time: 6.0s"
             }
            ],
            "method": "update"
           },
           {
            "args": [
             {
              "visible": [
               true,
               true,
               true,
               false,
               false,
               false,
               false,
               false,
               false,
               false,
               false,
               false,
               false,
               false,
               false,
               false,
               true,
               false,
               false,
               false,
               false,
               false,
               false,
               false,
               false,
               false,
               false,
               false,
               false,
               false,
               false,
               false,
               false,
               false,
               false,
               false,
               false,
               false,
               false,
               false,
               false,
               false,
               false,
               false,
               false,
               false,
               false,
               false,
               false,
               false,
               false,
               false,
               false,
               false,
               false,
               false,
               false,
               true,
               false,
               false,
               false,
               false,
               false,
               false,
               false,
               false,
               false,
               false,
               false,
               false,
               false,
               false,
               false,
               false,
               false,
               false,
               false,
               false,
               false,
               false,
               false,
               false,
               false,
               false,
               false,
               false,
               false,
               false,
               false,
               false,
               false,
               false,
               false,
               false,
               false,
               false,
               false,
               false,
               true,
               false,
               false,
               false,
               false,
               false,
               false,
               false,
               false,
               false,
               false,
               false,
               false,
               false,
               false,
               false,
               false,
               false,
               false,
               false,
               false,
               false,
               false,
               false,
               false,
               false,
               false,
               false
              ]
             },
             {
              "title": "Time: 6.5s"
             }
            ],
            "method": "update"
           },
           {
            "args": [
             {
              "visible": [
               true,
               true,
               true,
               false,
               false,
               false,
               false,
               false,
               false,
               false,
               false,
               false,
               false,
               false,
               false,
               false,
               false,
               true,
               false,
               false,
               false,
               false,
               false,
               false,
               false,
               false,
               false,
               false,
               false,
               false,
               false,
               false,
               false,
               false,
               false,
               false,
               false,
               false,
               false,
               false,
               false,
               false,
               false,
               false,
               false,
               false,
               false,
               false,
               false,
               false,
               false,
               false,
               false,
               false,
               false,
               false,
               false,
               false,
               true,
               false,
               false,
               false,
               false,
               false,
               false,
               false,
               false,
               false,
               false,
               false,
               false,
               false,
               false,
               false,
               false,
               false,
               false,
               false,
               false,
               false,
               false,
               false,
               false,
               false,
               false,
               false,
               false,
               false,
               false,
               false,
               false,
               false,
               false,
               false,
               false,
               false,
               false,
               false,
               false,
               true,
               false,
               false,
               false,
               false,
               false,
               false,
               false,
               false,
               false,
               false,
               false,
               false,
               false,
               false,
               false,
               false,
               false,
               false,
               false,
               false,
               false,
               false,
               false,
               false,
               false,
               false
              ]
             },
             {
              "title": "Time: 7.0s"
             }
            ],
            "method": "update"
           },
           {
            "args": [
             {
              "visible": [
               true,
               true,
               true,
               false,
               false,
               false,
               false,
               false,
               false,
               false,
               false,
               false,
               false,
               false,
               false,
               false,
               false,
               false,
               true,
               false,
               false,
               false,
               false,
               false,
               false,
               false,
               false,
               false,
               false,
               false,
               false,
               false,
               false,
               false,
               false,
               false,
               false,
               false,
               false,
               false,
               false,
               false,
               false,
               false,
               false,
               false,
               false,
               false,
               false,
               false,
               false,
               false,
               false,
               false,
               false,
               false,
               false,
               false,
               false,
               true,
               false,
               false,
               false,
               false,
               false,
               false,
               false,
               false,
               false,
               false,
               false,
               false,
               false,
               false,
               false,
               false,
               false,
               false,
               false,
               false,
               false,
               false,
               false,
               false,
               false,
               false,
               false,
               false,
               false,
               false,
               false,
               false,
               false,
               false,
               false,
               false,
               false,
               false,
               false,
               false,
               true,
               false,
               false,
               false,
               false,
               false,
               false,
               false,
               false,
               false,
               false,
               false,
               false,
               false,
               false,
               false,
               false,
               false,
               false,
               false,
               false,
               false,
               false,
               false,
               false,
               false
              ]
             },
             {
              "title": "Time: 7.5s"
             }
            ],
            "method": "update"
           },
           {
            "args": [
             {
              "visible": [
               true,
               true,
               true,
               false,
               false,
               false,
               false,
               false,
               false,
               false,
               false,
               false,
               false,
               false,
               false,
               false,
               false,
               false,
               false,
               true,
               false,
               false,
               false,
               false,
               false,
               false,
               false,
               false,
               false,
               false,
               false,
               false,
               false,
               false,
               false,
               false,
               false,
               false,
               false,
               false,
               false,
               false,
               false,
               false,
               false,
               false,
               false,
               false,
               false,
               false,
               false,
               false,
               false,
               false,
               false,
               false,
               false,
               false,
               false,
               false,
               true,
               false,
               false,
               false,
               false,
               false,
               false,
               false,
               false,
               false,
               false,
               false,
               false,
               false,
               false,
               false,
               false,
               false,
               false,
               false,
               false,
               false,
               false,
               false,
               false,
               false,
               false,
               false,
               false,
               false,
               false,
               false,
               false,
               false,
               false,
               false,
               false,
               false,
               false,
               false,
               false,
               true,
               false,
               false,
               false,
               false,
               false,
               false,
               false,
               false,
               false,
               false,
               false,
               false,
               false,
               false,
               false,
               false,
               false,
               false,
               false,
               false,
               false,
               false,
               false,
               false
              ]
             },
             {
              "title": "Time: 8.0s"
             }
            ],
            "method": "update"
           },
           {
            "args": [
             {
              "visible": [
               true,
               true,
               true,
               false,
               false,
               false,
               false,
               false,
               false,
               false,
               false,
               false,
               false,
               false,
               false,
               false,
               false,
               false,
               false,
               false,
               true,
               false,
               false,
               false,
               false,
               false,
               false,
               false,
               false,
               false,
               false,
               false,
               false,
               false,
               false,
               false,
               false,
               false,
               false,
               false,
               false,
               false,
               false,
               false,
               false,
               false,
               false,
               false,
               false,
               false,
               false,
               false,
               false,
               false,
               false,
               false,
               false,
               false,
               false,
               false,
               false,
               true,
               false,
               false,
               false,
               false,
               false,
               false,
               false,
               false,
               false,
               false,
               false,
               false,
               false,
               false,
               false,
               false,
               false,
               false,
               false,
               false,
               false,
               false,
               false,
               false,
               false,
               false,
               false,
               false,
               false,
               false,
               false,
               false,
               false,
               false,
               false,
               false,
               false,
               false,
               false,
               false,
               true,
               false,
               false,
               false,
               false,
               false,
               false,
               false,
               false,
               false,
               false,
               false,
               false,
               false,
               false,
               false,
               false,
               false,
               false,
               false,
               false,
               false,
               false,
               false
              ]
             },
             {
              "title": "Time: 8.5s"
             }
            ],
            "method": "update"
           },
           {
            "args": [
             {
              "visible": [
               true,
               true,
               true,
               false,
               false,
               false,
               false,
               false,
               false,
               false,
               false,
               false,
               false,
               false,
               false,
               false,
               false,
               false,
               false,
               false,
               false,
               true,
               false,
               false,
               false,
               false,
               false,
               false,
               false,
               false,
               false,
               false,
               false,
               false,
               false,
               false,
               false,
               false,
               false,
               false,
               false,
               false,
               false,
               false,
               false,
               false,
               false,
               false,
               false,
               false,
               false,
               false,
               false,
               false,
               false,
               false,
               false,
               false,
               false,
               false,
               false,
               false,
               true,
               false,
               false,
               false,
               false,
               false,
               false,
               false,
               false,
               false,
               false,
               false,
               false,
               false,
               false,
               false,
               false,
               false,
               false,
               false,
               false,
               false,
               false,
               false,
               false,
               false,
               false,
               false,
               false,
               false,
               false,
               false,
               false,
               false,
               false,
               false,
               false,
               false,
               false,
               false,
               false,
               true,
               false,
               false,
               false,
               false,
               false,
               false,
               false,
               false,
               false,
               false,
               false,
               false,
               false,
               false,
               false,
               false,
               false,
               false,
               false,
               false,
               false,
               false
              ]
             },
             {
              "title": "Time: 9.0s"
             }
            ],
            "method": "update"
           },
           {
            "args": [
             {
              "visible": [
               true,
               true,
               true,
               false,
               false,
               false,
               false,
               false,
               false,
               false,
               false,
               false,
               false,
               false,
               false,
               false,
               false,
               false,
               false,
               false,
               false,
               false,
               true,
               false,
               false,
               false,
               false,
               false,
               false,
               false,
               false,
               false,
               false,
               false,
               false,
               false,
               false,
               false,
               false,
               false,
               false,
               false,
               false,
               false,
               false,
               false,
               false,
               false,
               false,
               false,
               false,
               false,
               false,
               false,
               false,
               false,
               false,
               false,
               false,
               false,
               false,
               false,
               false,
               true,
               false,
               false,
               false,
               false,
               false,
               false,
               false,
               false,
               false,
               false,
               false,
               false,
               false,
               false,
               false,
               false,
               false,
               false,
               false,
               false,
               false,
               false,
               false,
               false,
               false,
               false,
               false,
               false,
               false,
               false,
               false,
               false,
               false,
               false,
               false,
               false,
               false,
               false,
               false,
               false,
               true,
               false,
               false,
               false,
               false,
               false,
               false,
               false,
               false,
               false,
               false,
               false,
               false,
               false,
               false,
               false,
               false,
               false,
               false,
               false,
               false,
               false
              ]
             },
             {
              "title": "Time: 9.5s"
             }
            ],
            "method": "update"
           },
           {
            "args": [
             {
              "visible": [
               true,
               true,
               true,
               false,
               false,
               false,
               false,
               false,
               false,
               false,
               false,
               false,
               false,
               false,
               false,
               false,
               false,
               false,
               false,
               false,
               false,
               false,
               false,
               true,
               false,
               false,
               false,
               false,
               false,
               false,
               false,
               false,
               false,
               false,
               false,
               false,
               false,
               false,
               false,
               false,
               false,
               false,
               false,
               false,
               false,
               false,
               false,
               false,
               false,
               false,
               false,
               false,
               false,
               false,
               false,
               false,
               false,
               false,
               false,
               false,
               false,
               false,
               false,
               false,
               true,
               false,
               false,
               false,
               false,
               false,
               false,
               false,
               false,
               false,
               false,
               false,
               false,
               false,
               false,
               false,
               false,
               false,
               false,
               false,
               false,
               false,
               false,
               false,
               false,
               false,
               false,
               false,
               false,
               false,
               false,
               false,
               false,
               false,
               false,
               false,
               false,
               false,
               false,
               false,
               false,
               true,
               false,
               false,
               false,
               false,
               false,
               false,
               false,
               false,
               false,
               false,
               false,
               false,
               false,
               false,
               false,
               false,
               false,
               false,
               false,
               false
              ]
             },
             {
              "title": "Time: 10.0s"
             }
            ],
            "method": "update"
           },
           {
            "args": [
             {
              "visible": [
               true,
               true,
               true,
               false,
               false,
               false,
               false,
               false,
               false,
               false,
               false,
               false,
               false,
               false,
               false,
               false,
               false,
               false,
               false,
               false,
               false,
               false,
               false,
               false,
               true,
               false,
               false,
               false,
               false,
               false,
               false,
               false,
               false,
               false,
               false,
               false,
               false,
               false,
               false,
               false,
               false,
               false,
               false,
               false,
               false,
               false,
               false,
               false,
               false,
               false,
               false,
               false,
               false,
               false,
               false,
               false,
               false,
               false,
               false,
               false,
               false,
               false,
               false,
               false,
               false,
               true,
               false,
               false,
               false,
               false,
               false,
               false,
               false,
               false,
               false,
               false,
               false,
               false,
               false,
               false,
               false,
               false,
               false,
               false,
               false,
               false,
               false,
               false,
               false,
               false,
               false,
               false,
               false,
               false,
               false,
               false,
               false,
               false,
               false,
               false,
               false,
               false,
               false,
               false,
               false,
               false,
               true,
               false,
               false,
               false,
               false,
               false,
               false,
               false,
               false,
               false,
               false,
               false,
               false,
               false,
               false,
               false,
               false,
               false,
               false,
               false
              ]
             },
             {
              "title": "Time: 10.5s"
             }
            ],
            "method": "update"
           },
           {
            "args": [
             {
              "visible": [
               true,
               true,
               true,
               false,
               false,
               false,
               false,
               false,
               false,
               false,
               false,
               false,
               false,
               false,
               false,
               false,
               false,
               false,
               false,
               false,
               false,
               false,
               false,
               false,
               false,
               true,
               false,
               false,
               false,
               false,
               false,
               false,
               false,
               false,
               false,
               false,
               false,
               false,
               false,
               false,
               false,
               false,
               false,
               false,
               false,
               false,
               false,
               false,
               false,
               false,
               false,
               false,
               false,
               false,
               false,
               false,
               false,
               false,
               false,
               false,
               false,
               false,
               false,
               false,
               false,
               false,
               true,
               false,
               false,
               false,
               false,
               false,
               false,
               false,
               false,
               false,
               false,
               false,
               false,
               false,
               false,
               false,
               false,
               false,
               false,
               false,
               false,
               false,
               false,
               false,
               false,
               false,
               false,
               false,
               false,
               false,
               false,
               false,
               false,
               false,
               false,
               false,
               false,
               false,
               false,
               false,
               false,
               true,
               false,
               false,
               false,
               false,
               false,
               false,
               false,
               false,
               false,
               false,
               false,
               false,
               false,
               false,
               false,
               false,
               false,
               false
              ]
             },
             {
              "title": "Time: 11.0s"
             }
            ],
            "method": "update"
           },
           {
            "args": [
             {
              "visible": [
               true,
               true,
               true,
               false,
               false,
               false,
               false,
               false,
               false,
               false,
               false,
               false,
               false,
               false,
               false,
               false,
               false,
               false,
               false,
               false,
               false,
               false,
               false,
               false,
               false,
               false,
               true,
               false,
               false,
               false,
               false,
               false,
               false,
               false,
               false,
               false,
               false,
               false,
               false,
               false,
               false,
               false,
               false,
               false,
               false,
               false,
               false,
               false,
               false,
               false,
               false,
               false,
               false,
               false,
               false,
               false,
               false,
               false,
               false,
               false,
               false,
               false,
               false,
               false,
               false,
               false,
               false,
               true,
               false,
               false,
               false,
               false,
               false,
               false,
               false,
               false,
               false,
               false,
               false,
               false,
               false,
               false,
               false,
               false,
               false,
               false,
               false,
               false,
               false,
               false,
               false,
               false,
               false,
               false,
               false,
               false,
               false,
               false,
               false,
               false,
               false,
               false,
               false,
               false,
               false,
               false,
               false,
               false,
               true,
               false,
               false,
               false,
               false,
               false,
               false,
               false,
               false,
               false,
               false,
               false,
               false,
               false,
               false,
               false,
               false,
               false
              ]
             },
             {
              "title": "Time: 11.5s"
             }
            ],
            "method": "update"
           },
           {
            "args": [
             {
              "visible": [
               true,
               true,
               true,
               false,
               false,
               false,
               false,
               false,
               false,
               false,
               false,
               false,
               false,
               false,
               false,
               false,
               false,
               false,
               false,
               false,
               false,
               false,
               false,
               false,
               false,
               false,
               false,
               true,
               false,
               false,
               false,
               false,
               false,
               false,
               false,
               false,
               false,
               false,
               false,
               false,
               false,
               false,
               false,
               false,
               false,
               false,
               false,
               false,
               false,
               false,
               false,
               false,
               false,
               false,
               false,
               false,
               false,
               false,
               false,
               false,
               false,
               false,
               false,
               false,
               false,
               false,
               false,
               false,
               true,
               false,
               false,
               false,
               false,
               false,
               false,
               false,
               false,
               false,
               false,
               false,
               false,
               false,
               false,
               false,
               false,
               false,
               false,
               false,
               false,
               false,
               false,
               false,
               false,
               false,
               false,
               false,
               false,
               false,
               false,
               false,
               false,
               false,
               false,
               false,
               false,
               false,
               false,
               false,
               false,
               true,
               false,
               false,
               false,
               false,
               false,
               false,
               false,
               false,
               false,
               false,
               false,
               false,
               false,
               false,
               false,
               false
              ]
             },
             {
              "title": "Time: 12.0s"
             }
            ],
            "method": "update"
           },
           {
            "args": [
             {
              "visible": [
               true,
               true,
               true,
               false,
               false,
               false,
               false,
               false,
               false,
               false,
               false,
               false,
               false,
               false,
               false,
               false,
               false,
               false,
               false,
               false,
               false,
               false,
               false,
               false,
               false,
               false,
               false,
               false,
               true,
               false,
               false,
               false,
               false,
               false,
               false,
               false,
               false,
               false,
               false,
               false,
               false,
               false,
               false,
               false,
               false,
               false,
               false,
               false,
               false,
               false,
               false,
               false,
               false,
               false,
               false,
               false,
               false,
               false,
               false,
               false,
               false,
               false,
               false,
               false,
               false,
               false,
               false,
               false,
               false,
               true,
               false,
               false,
               false,
               false,
               false,
               false,
               false,
               false,
               false,
               false,
               false,
               false,
               false,
               false,
               false,
               false,
               false,
               false,
               false,
               false,
               false,
               false,
               false,
               false,
               false,
               false,
               false,
               false,
               false,
               false,
               false,
               false,
               false,
               false,
               false,
               false,
               false,
               false,
               false,
               false,
               true,
               false,
               false,
               false,
               false,
               false,
               false,
               false,
               false,
               false,
               false,
               false,
               false,
               false,
               false,
               false
              ]
             },
             {
              "title": "Time: 12.5s"
             }
            ],
            "method": "update"
           },
           {
            "args": [
             {
              "visible": [
               true,
               true,
               true,
               false,
               false,
               false,
               false,
               false,
               false,
               false,
               false,
               false,
               false,
               false,
               false,
               false,
               false,
               false,
               false,
               false,
               false,
               false,
               false,
               false,
               false,
               false,
               false,
               false,
               false,
               true,
               false,
               false,
               false,
               false,
               false,
               false,
               false,
               false,
               false,
               false,
               false,
               false,
               false,
               false,
               false,
               false,
               false,
               false,
               false,
               false,
               false,
               false,
               false,
               false,
               false,
               false,
               false,
               false,
               false,
               false,
               false,
               false,
               false,
               false,
               false,
               false,
               false,
               false,
               false,
               false,
               true,
               false,
               false,
               false,
               false,
               false,
               false,
               false,
               false,
               false,
               false,
               false,
               false,
               false,
               false,
               false,
               false,
               false,
               false,
               false,
               false,
               false,
               false,
               false,
               false,
               false,
               false,
               false,
               false,
               false,
               false,
               false,
               false,
               false,
               false,
               false,
               false,
               false,
               false,
               false,
               false,
               true,
               false,
               false,
               false,
               false,
               false,
               false,
               false,
               false,
               false,
               false,
               false,
               false,
               false,
               false
              ]
             },
             {
              "title": "Time: 13.0s"
             }
            ],
            "method": "update"
           },
           {
            "args": [
             {
              "visible": [
               true,
               true,
               true,
               false,
               false,
               false,
               false,
               false,
               false,
               false,
               false,
               false,
               false,
               false,
               false,
               false,
               false,
               false,
               false,
               false,
               false,
               false,
               false,
               false,
               false,
               false,
               false,
               false,
               false,
               false,
               true,
               false,
               false,
               false,
               false,
               false,
               false,
               false,
               false,
               false,
               false,
               false,
               false,
               false,
               false,
               false,
               false,
               false,
               false,
               false,
               false,
               false,
               false,
               false,
               false,
               false,
               false,
               false,
               false,
               false,
               false,
               false,
               false,
               false,
               false,
               false,
               false,
               false,
               false,
               false,
               false,
               true,
               false,
               false,
               false,
               false,
               false,
               false,
               false,
               false,
               false,
               false,
               false,
               false,
               false,
               false,
               false,
               false,
               false,
               false,
               false,
               false,
               false,
               false,
               false,
               false,
               false,
               false,
               false,
               false,
               false,
               false,
               false,
               false,
               false,
               false,
               false,
               false,
               false,
               false,
               false,
               false,
               true,
               false,
               false,
               false,
               false,
               false,
               false,
               false,
               false,
               false,
               false,
               false,
               false,
               false
              ]
             },
             {
              "title": "Time: 13.5s"
             }
            ],
            "method": "update"
           },
           {
            "args": [
             {
              "visible": [
               true,
               true,
               true,
               false,
               false,
               false,
               false,
               false,
               false,
               false,
               false,
               false,
               false,
               false,
               false,
               false,
               false,
               false,
               false,
               false,
               false,
               false,
               false,
               false,
               false,
               false,
               false,
               false,
               false,
               false,
               false,
               true,
               false,
               false,
               false,
               false,
               false,
               false,
               false,
               false,
               false,
               false,
               false,
               false,
               false,
               false,
               false,
               false,
               false,
               false,
               false,
               false,
               false,
               false,
               false,
               false,
               false,
               false,
               false,
               false,
               false,
               false,
               false,
               false,
               false,
               false,
               false,
               false,
               false,
               false,
               false,
               false,
               true,
               false,
               false,
               false,
               false,
               false,
               false,
               false,
               false,
               false,
               false,
               false,
               false,
               false,
               false,
               false,
               false,
               false,
               false,
               false,
               false,
               false,
               false,
               false,
               false,
               false,
               false,
               false,
               false,
               false,
               false,
               false,
               false,
               false,
               false,
               false,
               false,
               false,
               false,
               false,
               false,
               true,
               false,
               false,
               false,
               false,
               false,
               false,
               false,
               false,
               false,
               false,
               false,
               false
              ]
             },
             {
              "title": "Time: 14.0s"
             }
            ],
            "method": "update"
           },
           {
            "args": [
             {
              "visible": [
               true,
               true,
               true,
               false,
               false,
               false,
               false,
               false,
               false,
               false,
               false,
               false,
               false,
               false,
               false,
               false,
               false,
               false,
               false,
               false,
               false,
               false,
               false,
               false,
               false,
               false,
               false,
               false,
               false,
               false,
               false,
               false,
               true,
               false,
               false,
               false,
               false,
               false,
               false,
               false,
               false,
               false,
               false,
               false,
               false,
               false,
               false,
               false,
               false,
               false,
               false,
               false,
               false,
               false,
               false,
               false,
               false,
               false,
               false,
               false,
               false,
               false,
               false,
               false,
               false,
               false,
               false,
               false,
               false,
               false,
               false,
               false,
               false,
               true,
               false,
               false,
               false,
               false,
               false,
               false,
               false,
               false,
               false,
               false,
               false,
               false,
               false,
               false,
               false,
               false,
               false,
               false,
               false,
               false,
               false,
               false,
               false,
               false,
               false,
               false,
               false,
               false,
               false,
               false,
               false,
               false,
               false,
               false,
               false,
               false,
               false,
               false,
               false,
               false,
               true,
               false,
               false,
               false,
               false,
               false,
               false,
               false,
               false,
               false,
               false,
               false
              ]
             },
             {
              "title": "Time: 14.5s"
             }
            ],
            "method": "update"
           },
           {
            "args": [
             {
              "visible": [
               true,
               true,
               true,
               false,
               false,
               false,
               false,
               false,
               false,
               false,
               false,
               false,
               false,
               false,
               false,
               false,
               false,
               false,
               false,
               false,
               false,
               false,
               false,
               false,
               false,
               false,
               false,
               false,
               false,
               false,
               false,
               false,
               false,
               true,
               false,
               false,
               false,
               false,
               false,
               false,
               false,
               false,
               false,
               false,
               false,
               false,
               false,
               false,
               false,
               false,
               false,
               false,
               false,
               false,
               false,
               false,
               false,
               false,
               false,
               false,
               false,
               false,
               false,
               false,
               false,
               false,
               false,
               false,
               false,
               false,
               false,
               false,
               false,
               false,
               true,
               false,
               false,
               false,
               false,
               false,
               false,
               false,
               false,
               false,
               false,
               false,
               false,
               false,
               false,
               false,
               false,
               false,
               false,
               false,
               false,
               false,
               false,
               false,
               false,
               false,
               false,
               false,
               false,
               false,
               false,
               false,
               false,
               false,
               false,
               false,
               false,
               false,
               false,
               false,
               false,
               true,
               false,
               false,
               false,
               false,
               false,
               false,
               false,
               false,
               false,
               false
              ]
             },
             {
              "title": "Time: 15.0s"
             }
            ],
            "method": "update"
           },
           {
            "args": [
             {
              "visible": [
               true,
               true,
               true,
               false,
               false,
               false,
               false,
               false,
               false,
               false,
               false,
               false,
               false,
               false,
               false,
               false,
               false,
               false,
               false,
               false,
               false,
               false,
               false,
               false,
               false,
               false,
               false,
               false,
               false,
               false,
               false,
               false,
               false,
               false,
               true,
               false,
               false,
               false,
               false,
               false,
               false,
               false,
               false,
               false,
               false,
               false,
               false,
               false,
               false,
               false,
               false,
               false,
               false,
               false,
               false,
               false,
               false,
               false,
               false,
               false,
               false,
               false,
               false,
               false,
               false,
               false,
               false,
               false,
               false,
               false,
               false,
               false,
               false,
               false,
               false,
               true,
               false,
               false,
               false,
               false,
               false,
               false,
               false,
               false,
               false,
               false,
               false,
               false,
               false,
               false,
               false,
               false,
               false,
               false,
               false,
               false,
               false,
               false,
               false,
               false,
               false,
               false,
               false,
               false,
               false,
               false,
               false,
               false,
               false,
               false,
               false,
               false,
               false,
               false,
               false,
               false,
               true,
               false,
               false,
               false,
               false,
               false,
               false,
               false,
               false,
               false
              ]
             },
             {
              "title": "Time: 15.5s"
             }
            ],
            "method": "update"
           },
           {
            "args": [
             {
              "visible": [
               true,
               true,
               true,
               false,
               false,
               false,
               false,
               false,
               false,
               false,
               false,
               false,
               false,
               false,
               false,
               false,
               false,
               false,
               false,
               false,
               false,
               false,
               false,
               false,
               false,
               false,
               false,
               false,
               false,
               false,
               false,
               false,
               false,
               false,
               false,
               true,
               false,
               false,
               false,
               false,
               false,
               false,
               false,
               false,
               false,
               false,
               false,
               false,
               false,
               false,
               false,
               false,
               false,
               false,
               false,
               false,
               false,
               false,
               false,
               false,
               false,
               false,
               false,
               false,
               false,
               false,
               false,
               false,
               false,
               false,
               false,
               false,
               false,
               false,
               false,
               false,
               true,
               false,
               false,
               false,
               false,
               false,
               false,
               false,
               false,
               false,
               false,
               false,
               false,
               false,
               false,
               false,
               false,
               false,
               false,
               false,
               false,
               false,
               false,
               false,
               false,
               false,
               false,
               false,
               false,
               false,
               false,
               false,
               false,
               false,
               false,
               false,
               false,
               false,
               false,
               false,
               false,
               true,
               false,
               false,
               false,
               false,
               false,
               false,
               false,
               false
              ]
             },
             {
              "title": "Time: 16.0s"
             }
            ],
            "method": "update"
           },
           {
            "args": [
             {
              "visible": [
               true,
               true,
               true,
               false,
               false,
               false,
               false,
               false,
               false,
               false,
               false,
               false,
               false,
               false,
               false,
               false,
               false,
               false,
               false,
               false,
               false,
               false,
               false,
               false,
               false,
               false,
               false,
               false,
               false,
               false,
               false,
               false,
               false,
               false,
               false,
               false,
               true,
               false,
               false,
               false,
               false,
               false,
               false,
               false,
               false,
               false,
               false,
               false,
               false,
               false,
               false,
               false,
               false,
               false,
               false,
               false,
               false,
               false,
               false,
               false,
               false,
               false,
               false,
               false,
               false,
               false,
               false,
               false,
               false,
               false,
               false,
               false,
               false,
               false,
               false,
               false,
               false,
               true,
               false,
               false,
               false,
               false,
               false,
               false,
               false,
               false,
               false,
               false,
               false,
               false,
               false,
               false,
               false,
               false,
               false,
               false,
               false,
               false,
               false,
               false,
               false,
               false,
               false,
               false,
               false,
               false,
               false,
               false,
               false,
               false,
               false,
               false,
               false,
               false,
               false,
               false,
               false,
               false,
               true,
               false,
               false,
               false,
               false,
               false,
               false,
               false
              ]
             },
             {
              "title": "Time: 16.5s"
             }
            ],
            "method": "update"
           },
           {
            "args": [
             {
              "visible": [
               true,
               true,
               true,
               false,
               false,
               false,
               false,
               false,
               false,
               false,
               false,
               false,
               false,
               false,
               false,
               false,
               false,
               false,
               false,
               false,
               false,
               false,
               false,
               false,
               false,
               false,
               false,
               false,
               false,
               false,
               false,
               false,
               false,
               false,
               false,
               false,
               false,
               true,
               false,
               false,
               false,
               false,
               false,
               false,
               false,
               false,
               false,
               false,
               false,
               false,
               false,
               false,
               false,
               false,
               false,
               false,
               false,
               false,
               false,
               false,
               false,
               false,
               false,
               false,
               false,
               false,
               false,
               false,
               false,
               false,
               false,
               false,
               false,
               false,
               false,
               false,
               false,
               false,
               true,
               false,
               false,
               false,
               false,
               false,
               false,
               false,
               false,
               false,
               false,
               false,
               false,
               false,
               false,
               false,
               false,
               false,
               false,
               false,
               false,
               false,
               false,
               false,
               false,
               false,
               false,
               false,
               false,
               false,
               false,
               false,
               false,
               false,
               false,
               false,
               false,
               false,
               false,
               false,
               false,
               true,
               false,
               false,
               false,
               false,
               false,
               false
              ]
             },
             {
              "title": "Time: 17.0s"
             }
            ],
            "method": "update"
           },
           {
            "args": [
             {
              "visible": [
               true,
               true,
               true,
               false,
               false,
               false,
               false,
               false,
               false,
               false,
               false,
               false,
               false,
               false,
               false,
               false,
               false,
               false,
               false,
               false,
               false,
               false,
               false,
               false,
               false,
               false,
               false,
               false,
               false,
               false,
               false,
               false,
               false,
               false,
               false,
               false,
               false,
               false,
               true,
               false,
               false,
               false,
               false,
               false,
               false,
               false,
               false,
               false,
               false,
               false,
               false,
               false,
               false,
               false,
               false,
               false,
               false,
               false,
               false,
               false,
               false,
               false,
               false,
               false,
               false,
               false,
               false,
               false,
               false,
               false,
               false,
               false,
               false,
               false,
               false,
               false,
               false,
               false,
               false,
               true,
               false,
               false,
               false,
               false,
               false,
               false,
               false,
               false,
               false,
               false,
               false,
               false,
               false,
               false,
               false,
               false,
               false,
               false,
               false,
               false,
               false,
               false,
               false,
               false,
               false,
               false,
               false,
               false,
               false,
               false,
               false,
               false,
               false,
               false,
               false,
               false,
               false,
               false,
               false,
               false,
               true,
               false,
               false,
               false,
               false,
               false
              ]
             },
             {
              "title": "Time: 17.5s"
             }
            ],
            "method": "update"
           },
           {
            "args": [
             {
              "visible": [
               true,
               true,
               true,
               false,
               false,
               false,
               false,
               false,
               false,
               false,
               false,
               false,
               false,
               false,
               false,
               false,
               false,
               false,
               false,
               false,
               false,
               false,
               false,
               false,
               false,
               false,
               false,
               false,
               false,
               false,
               false,
               false,
               false,
               false,
               false,
               false,
               false,
               false,
               false,
               true,
               false,
               false,
               false,
               false,
               false,
               false,
               false,
               false,
               false,
               false,
               false,
               false,
               false,
               false,
               false,
               false,
               false,
               false,
               false,
               false,
               false,
               false,
               false,
               false,
               false,
               false,
               false,
               false,
               false,
               false,
               false,
               false,
               false,
               false,
               false,
               false,
               false,
               false,
               false,
               false,
               true,
               false,
               false,
               false,
               false,
               false,
               false,
               false,
               false,
               false,
               false,
               false,
               false,
               false,
               false,
               false,
               false,
               false,
               false,
               false,
               false,
               false,
               false,
               false,
               false,
               false,
               false,
               false,
               false,
               false,
               false,
               false,
               false,
               false,
               false,
               false,
               false,
               false,
               false,
               false,
               false,
               true,
               false,
               false,
               false,
               false
              ]
             },
             {
              "title": "Time: 18.0s"
             }
            ],
            "method": "update"
           },
           {
            "args": [
             {
              "visible": [
               true,
               true,
               true,
               false,
               false,
               false,
               false,
               false,
               false,
               false,
               false,
               false,
               false,
               false,
               false,
               false,
               false,
               false,
               false,
               false,
               false,
               false,
               false,
               false,
               false,
               false,
               false,
               false,
               false,
               false,
               false,
               false,
               false,
               false,
               false,
               false,
               false,
               false,
               false,
               false,
               true,
               false,
               false,
               false,
               false,
               false,
               false,
               false,
               false,
               false,
               false,
               false,
               false,
               false,
               false,
               false,
               false,
               false,
               false,
               false,
               false,
               false,
               false,
               false,
               false,
               false,
               false,
               false,
               false,
               false,
               false,
               false,
               false,
               false,
               false,
               false,
               false,
               false,
               false,
               false,
               false,
               true,
               false,
               false,
               false,
               false,
               false,
               false,
               false,
               false,
               false,
               false,
               false,
               false,
               false,
               false,
               false,
               false,
               false,
               false,
               false,
               false,
               false,
               false,
               false,
               false,
               false,
               false,
               false,
               false,
               false,
               false,
               false,
               false,
               false,
               false,
               false,
               false,
               false,
               false,
               false,
               false,
               true,
               false,
               false,
               false
              ]
             },
             {
              "title": "Time: 18.5s"
             }
            ],
            "method": "update"
           },
           {
            "args": [
             {
              "visible": [
               true,
               true,
               true,
               false,
               false,
               false,
               false,
               false,
               false,
               false,
               false,
               false,
               false,
               false,
               false,
               false,
               false,
               false,
               false,
               false,
               false,
               false,
               false,
               false,
               false,
               false,
               false,
               false,
               false,
               false,
               false,
               false,
               false,
               false,
               false,
               false,
               false,
               false,
               false,
               false,
               false,
               true,
               false,
               false,
               false,
               false,
               false,
               false,
               false,
               false,
               false,
               false,
               false,
               false,
               false,
               false,
               false,
               false,
               false,
               false,
               false,
               false,
               false,
               false,
               false,
               false,
               false,
               false,
               false,
               false,
               false,
               false,
               false,
               false,
               false,
               false,
               false,
               false,
               false,
               false,
               false,
               false,
               true,
               false,
               false,
               false,
               false,
               false,
               false,
               false,
               false,
               false,
               false,
               false,
               false,
               false,
               false,
               false,
               false,
               false,
               false,
               false,
               false,
               false,
               false,
               false,
               false,
               false,
               false,
               false,
               false,
               false,
               false,
               false,
               false,
               false,
               false,
               false,
               false,
               false,
               false,
               false,
               false,
               true,
               false,
               false
              ]
             },
             {
              "title": "Time: 19.0s"
             }
            ],
            "method": "update"
           },
           {
            "args": [
             {
              "visible": [
               true,
               true,
               true,
               false,
               false,
               false,
               false,
               false,
               false,
               false,
               false,
               false,
               false,
               false,
               false,
               false,
               false,
               false,
               false,
               false,
               false,
               false,
               false,
               false,
               false,
               false,
               false,
               false,
               false,
               false,
               false,
               false,
               false,
               false,
               false,
               false,
               false,
               false,
               false,
               false,
               false,
               false,
               true,
               false,
               false,
               false,
               false,
               false,
               false,
               false,
               false,
               false,
               false,
               false,
               false,
               false,
               false,
               false,
               false,
               false,
               false,
               false,
               false,
               false,
               false,
               false,
               false,
               false,
               false,
               false,
               false,
               false,
               false,
               false,
               false,
               false,
               false,
               false,
               false,
               false,
               false,
               false,
               false,
               true,
               false,
               false,
               false,
               false,
               false,
               false,
               false,
               false,
               false,
               false,
               false,
               false,
               false,
               false,
               false,
               false,
               false,
               false,
               false,
               false,
               false,
               false,
               false,
               false,
               false,
               false,
               false,
               false,
               false,
               false,
               false,
               false,
               false,
               false,
               false,
               false,
               false,
               false,
               false,
               false,
               true,
               false
              ]
             },
             {
              "title": "Time: 19.5s"
             }
            ],
            "method": "update"
           },
           {
            "args": [
             {
              "visible": [
               true,
               true,
               true,
               false,
               false,
               false,
               false,
               false,
               false,
               false,
               false,
               false,
               false,
               false,
               false,
               false,
               false,
               false,
               false,
               false,
               false,
               false,
               false,
               false,
               false,
               false,
               false,
               false,
               false,
               false,
               false,
               false,
               false,
               false,
               false,
               false,
               false,
               false,
               false,
               false,
               false,
               false,
               false,
               true,
               false,
               false,
               false,
               false,
               false,
               false,
               false,
               false,
               false,
               false,
               false,
               false,
               false,
               false,
               false,
               false,
               false,
               false,
               false,
               false,
               false,
               false,
               false,
               false,
               false,
               false,
               false,
               false,
               false,
               false,
               false,
               false,
               false,
               false,
               false,
               false,
               false,
               false,
               false,
               false,
               true,
               false,
               false,
               false,
               false,
               false,
               false,
               false,
               false,
               false,
               false,
               false,
               false,
               false,
               false,
               false,
               false,
               false,
               false,
               false,
               false,
               false,
               false,
               false,
               false,
               false,
               false,
               false,
               false,
               false,
               false,
               false,
               false,
               false,
               false,
               false,
               false,
               false,
               false,
               false,
               false,
               true
              ]
             },
             {
              "title": "Time: 20.0s"
             }
            ],
            "method": "update"
           }
          ]
         }
        ],
        "template": {
         "data": {
          "bar": [
           {
            "error_x": {
             "color": "#2a3f5f"
            },
            "error_y": {
             "color": "#2a3f5f"
            },
            "marker": {
             "line": {
              "color": "#E5ECF6",
              "width": 0.5
             }
            },
            "type": "bar"
           }
          ],
          "barpolar": [
           {
            "marker": {
             "line": {
              "color": "#E5ECF6",
              "width": 0.5
             }
            },
            "type": "barpolar"
           }
          ],
          "carpet": [
           {
            "aaxis": {
             "endlinecolor": "#2a3f5f",
             "gridcolor": "white",
             "linecolor": "white",
             "minorgridcolor": "white",
             "startlinecolor": "#2a3f5f"
            },
            "baxis": {
             "endlinecolor": "#2a3f5f",
             "gridcolor": "white",
             "linecolor": "white",
             "minorgridcolor": "white",
             "startlinecolor": "#2a3f5f"
            },
            "type": "carpet"
           }
          ],
          "choropleth": [
           {
            "colorbar": {
             "outlinewidth": 0,
             "ticks": ""
            },
            "type": "choropleth"
           }
          ],
          "contour": [
           {
            "colorbar": {
             "outlinewidth": 0,
             "ticks": ""
            },
            "colorscale": [
             [
              0,
              "#0d0887"
             ],
             [
              0.1111111111111111,
              "#46039f"
             ],
             [
              0.2222222222222222,
              "#7201a8"
             ],
             [
              0.3333333333333333,
              "#9c179e"
             ],
             [
              0.4444444444444444,
              "#bd3786"
             ],
             [
              0.5555555555555556,
              "#d8576b"
             ],
             [
              0.6666666666666666,
              "#ed7953"
             ],
             [
              0.7777777777777778,
              "#fb9f3a"
             ],
             [
              0.8888888888888888,
              "#fdca26"
             ],
             [
              1,
              "#f0f921"
             ]
            ],
            "type": "contour"
           }
          ],
          "contourcarpet": [
           {
            "colorbar": {
             "outlinewidth": 0,
             "ticks": ""
            },
            "type": "contourcarpet"
           }
          ],
          "heatmap": [
           {
            "colorbar": {
             "outlinewidth": 0,
             "ticks": ""
            },
            "colorscale": [
             [
              0,
              "#0d0887"
             ],
             [
              0.1111111111111111,
              "#46039f"
             ],
             [
              0.2222222222222222,
              "#7201a8"
             ],
             [
              0.3333333333333333,
              "#9c179e"
             ],
             [
              0.4444444444444444,
              "#bd3786"
             ],
             [
              0.5555555555555556,
              "#d8576b"
             ],
             [
              0.6666666666666666,
              "#ed7953"
             ],
             [
              0.7777777777777778,
              "#fb9f3a"
             ],
             [
              0.8888888888888888,
              "#fdca26"
             ],
             [
              1,
              "#f0f921"
             ]
            ],
            "type": "heatmap"
           }
          ],
          "heatmapgl": [
           {
            "colorbar": {
             "outlinewidth": 0,
             "ticks": ""
            },
            "colorscale": [
             [
              0,
              "#0d0887"
             ],
             [
              0.1111111111111111,
              "#46039f"
             ],
             [
              0.2222222222222222,
              "#7201a8"
             ],
             [
              0.3333333333333333,
              "#9c179e"
             ],
             [
              0.4444444444444444,
              "#bd3786"
             ],
             [
              0.5555555555555556,
              "#d8576b"
             ],
             [
              0.6666666666666666,
              "#ed7953"
             ],
             [
              0.7777777777777778,
              "#fb9f3a"
             ],
             [
              0.8888888888888888,
              "#fdca26"
             ],
             [
              1,
              "#f0f921"
             ]
            ],
            "type": "heatmapgl"
           }
          ],
          "histogram": [
           {
            "marker": {
             "colorbar": {
              "outlinewidth": 0,
              "ticks": ""
             }
            },
            "type": "histogram"
           }
          ],
          "histogram2d": [
           {
            "colorbar": {
             "outlinewidth": 0,
             "ticks": ""
            },
            "colorscale": [
             [
              0,
              "#0d0887"
             ],
             [
              0.1111111111111111,
              "#46039f"
             ],
             [
              0.2222222222222222,
              "#7201a8"
             ],
             [
              0.3333333333333333,
              "#9c179e"
             ],
             [
              0.4444444444444444,
              "#bd3786"
             ],
             [
              0.5555555555555556,
              "#d8576b"
             ],
             [
              0.6666666666666666,
              "#ed7953"
             ],
             [
              0.7777777777777778,
              "#fb9f3a"
             ],
             [
              0.8888888888888888,
              "#fdca26"
             ],
             [
              1,
              "#f0f921"
             ]
            ],
            "type": "histogram2d"
           }
          ],
          "histogram2dcontour": [
           {
            "colorbar": {
             "outlinewidth": 0,
             "ticks": ""
            },
            "colorscale": [
             [
              0,
              "#0d0887"
             ],
             [
              0.1111111111111111,
              "#46039f"
             ],
             [
              0.2222222222222222,
              "#7201a8"
             ],
             [
              0.3333333333333333,
              "#9c179e"
             ],
             [
              0.4444444444444444,
              "#bd3786"
             ],
             [
              0.5555555555555556,
              "#d8576b"
             ],
             [
              0.6666666666666666,
              "#ed7953"
             ],
             [
              0.7777777777777778,
              "#fb9f3a"
             ],
             [
              0.8888888888888888,
              "#fdca26"
             ],
             [
              1,
              "#f0f921"
             ]
            ],
            "type": "histogram2dcontour"
           }
          ],
          "mesh3d": [
           {
            "colorbar": {
             "outlinewidth": 0,
             "ticks": ""
            },
            "type": "mesh3d"
           }
          ],
          "parcoords": [
           {
            "line": {
             "colorbar": {
              "outlinewidth": 0,
              "ticks": ""
             }
            },
            "type": "parcoords"
           }
          ],
          "pie": [
           {
            "automargin": true,
            "type": "pie"
           }
          ],
          "scatter": [
           {
            "marker": {
             "colorbar": {
              "outlinewidth": 0,
              "ticks": ""
             }
            },
            "type": "scatter"
           }
          ],
          "scatter3d": [
           {
            "line": {
             "colorbar": {
              "outlinewidth": 0,
              "ticks": ""
             }
            },
            "marker": {
             "colorbar": {
              "outlinewidth": 0,
              "ticks": ""
             }
            },
            "type": "scatter3d"
           }
          ],
          "scattercarpet": [
           {
            "marker": {
             "colorbar": {
              "outlinewidth": 0,
              "ticks": ""
             }
            },
            "type": "scattercarpet"
           }
          ],
          "scattergeo": [
           {
            "marker": {
             "colorbar": {
              "outlinewidth": 0,
              "ticks": ""
             }
            },
            "type": "scattergeo"
           }
          ],
          "scattergl": [
           {
            "marker": {
             "colorbar": {
              "outlinewidth": 0,
              "ticks": ""
             }
            },
            "type": "scattergl"
           }
          ],
          "scattermapbox": [
           {
            "marker": {
             "colorbar": {
              "outlinewidth": 0,
              "ticks": ""
             }
            },
            "type": "scattermapbox"
           }
          ],
          "scatterpolar": [
           {
            "marker": {
             "colorbar": {
              "outlinewidth": 0,
              "ticks": ""
             }
            },
            "type": "scatterpolar"
           }
          ],
          "scatterpolargl": [
           {
            "marker": {
             "colorbar": {
              "outlinewidth": 0,
              "ticks": ""
             }
            },
            "type": "scatterpolargl"
           }
          ],
          "scatterternary": [
           {
            "marker": {
             "colorbar": {
              "outlinewidth": 0,
              "ticks": ""
             }
            },
            "type": "scatterternary"
           }
          ],
          "surface": [
           {
            "colorbar": {
             "outlinewidth": 0,
             "ticks": ""
            },
            "colorscale": [
             [
              0,
              "#0d0887"
             ],
             [
              0.1111111111111111,
              "#46039f"
             ],
             [
              0.2222222222222222,
              "#7201a8"
             ],
             [
              0.3333333333333333,
              "#9c179e"
             ],
             [
              0.4444444444444444,
              "#bd3786"
             ],
             [
              0.5555555555555556,
              "#d8576b"
             ],
             [
              0.6666666666666666,
              "#ed7953"
             ],
             [
              0.7777777777777778,
              "#fb9f3a"
             ],
             [
              0.8888888888888888,
              "#fdca26"
             ],
             [
              1,
              "#f0f921"
             ]
            ],
            "type": "surface"
           }
          ],
          "table": [
           {
            "cells": {
             "fill": {
              "color": "#EBF0F8"
             },
             "line": {
              "color": "white"
             }
            },
            "header": {
             "fill": {
              "color": "#C8D4E3"
             },
             "line": {
              "color": "white"
             }
            },
            "type": "table"
           }
          ]
         },
         "layout": {
          "annotationdefaults": {
           "arrowcolor": "#2a3f5f",
           "arrowhead": 0,
           "arrowwidth": 1
          },
          "coloraxis": {
           "colorbar": {
            "outlinewidth": 0,
            "ticks": ""
           }
          },
          "colorscale": {
           "diverging": [
            [
             0,
             "#8e0152"
            ],
            [
             0.1,
             "#c51b7d"
            ],
            [
             0.2,
             "#de77ae"
            ],
            [
             0.3,
             "#f1b6da"
            ],
            [
             0.4,
             "#fde0ef"
            ],
            [
             0.5,
             "#f7f7f7"
            ],
            [
             0.6,
             "#e6f5d0"
            ],
            [
             0.7,
             "#b8e186"
            ],
            [
             0.8,
             "#7fbc41"
            ],
            [
             0.9,
             "#4d9221"
            ],
            [
             1,
             "#276419"
            ]
           ],
           "sequential": [
            [
             0,
             "#0d0887"
            ],
            [
             0.1111111111111111,
             "#46039f"
            ],
            [
             0.2222222222222222,
             "#7201a8"
            ],
            [
             0.3333333333333333,
             "#9c179e"
            ],
            [
             0.4444444444444444,
             "#bd3786"
            ],
            [
             0.5555555555555556,
             "#d8576b"
            ],
            [
             0.6666666666666666,
             "#ed7953"
            ],
            [
             0.7777777777777778,
             "#fb9f3a"
            ],
            [
             0.8888888888888888,
             "#fdca26"
            ],
            [
             1,
             "#f0f921"
            ]
           ],
           "sequentialminus": [
            [
             0,
             "#0d0887"
            ],
            [
             0.1111111111111111,
             "#46039f"
            ],
            [
             0.2222222222222222,
             "#7201a8"
            ],
            [
             0.3333333333333333,
             "#9c179e"
            ],
            [
             0.4444444444444444,
             "#bd3786"
            ],
            [
             0.5555555555555556,
             "#d8576b"
            ],
            [
             0.6666666666666666,
             "#ed7953"
            ],
            [
             0.7777777777777778,
             "#fb9f3a"
            ],
            [
             0.8888888888888888,
             "#fdca26"
            ],
            [
             1,
             "#f0f921"
            ]
           ]
          },
          "colorway": [
           "#636efa",
           "#EF553B",
           "#00cc96",
           "#ab63fa",
           "#FFA15A",
           "#19d3f3",
           "#FF6692",
           "#B6E880",
           "#FF97FF",
           "#FECB52"
          ],
          "font": {
           "color": "#2a3f5f"
          },
          "geo": {
           "bgcolor": "white",
           "lakecolor": "white",
           "landcolor": "#E5ECF6",
           "showlakes": true,
           "showland": true,
           "subunitcolor": "white"
          },
          "hoverlabel": {
           "align": "left"
          },
          "hovermode": "closest",
          "mapbox": {
           "style": "light"
          },
          "paper_bgcolor": "white",
          "plot_bgcolor": "#E5ECF6",
          "polar": {
           "angularaxis": {
            "gridcolor": "white",
            "linecolor": "white",
            "ticks": ""
           },
           "bgcolor": "#E5ECF6",
           "radialaxis": {
            "gridcolor": "white",
            "linecolor": "white",
            "ticks": ""
           }
          },
          "scene": {
           "xaxis": {
            "backgroundcolor": "#E5ECF6",
            "gridcolor": "white",
            "gridwidth": 2,
            "linecolor": "white",
            "showbackground": true,
            "ticks": "",
            "zerolinecolor": "white"
           },
           "yaxis": {
            "backgroundcolor": "#E5ECF6",
            "gridcolor": "white",
            "gridwidth": 2,
            "linecolor": "white",
            "showbackground": true,
            "ticks": "",
            "zerolinecolor": "white"
           },
           "zaxis": {
            "backgroundcolor": "#E5ECF6",
            "gridcolor": "white",
            "gridwidth": 2,
            "linecolor": "white",
            "showbackground": true,
            "ticks": "",
            "zerolinecolor": "white"
           }
          },
          "shapedefaults": {
           "line": {
            "color": "#2a3f5f"
           }
          },
          "ternary": {
           "aaxis": {
            "gridcolor": "white",
            "linecolor": "white",
            "ticks": ""
           },
           "baxis": {
            "gridcolor": "white",
            "linecolor": "white",
            "ticks": ""
           },
           "bgcolor": "#E5ECF6",
           "caxis": {
            "gridcolor": "white",
            "linecolor": "white",
            "ticks": ""
           }
          },
          "title": {
           "x": 0.05
          },
          "xaxis": {
           "automargin": true,
           "gridcolor": "white",
           "linecolor": "white",
           "ticks": "",
           "title": {
            "standoff": 15
           },
           "zerolinecolor": "white",
           "zerolinewidth": 2
          },
          "yaxis": {
           "automargin": true,
           "gridcolor": "white",
           "linecolor": "white",
           "ticks": "",
           "title": {
            "standoff": 15
           },
           "zerolinecolor": "white",
           "zerolinewidth": 2
          }
         }
        },
        "xaxis": {
         "anchor": "y",
         "domain": [
          0,
          0.2888888888888889
         ]
        },
        "xaxis2": {
         "anchor": "y2",
         "domain": [
          0.35555555555555557,
          0.6444444444444445
         ]
        },
        "xaxis3": {
         "anchor": "y3",
         "domain": [
          0.7111111111111111,
          1
         ]
        },
        "yaxis": {
         "anchor": "x",
         "domain": [
          0,
          1
         ]
        },
        "yaxis2": {
         "anchor": "x2",
         "domain": [
          0,
          1
         ]
        },
        "yaxis3": {
         "anchor": "x3",
         "domain": [
          0,
          1
         ]
        }
       }
      },
      "text/html": [
       "<div>\n",
       "        \n",
       "        \n",
       "            <div id=\"f8bfae8e-a9c0-419a-8e5d-a3db2f7ab828\" class=\"plotly-graph-div\" style=\"height:525px; width:100%;\"></div>\n",
       "            <script type=\"text/javascript\">\n",
       "                require([\"plotly\"], function(Plotly) {\n",
       "                    window.PLOTLYENV=window.PLOTLYENV || {};\n",
       "                    \n",
       "                if (document.getElementById(\"f8bfae8e-a9c0-419a-8e5d-a3db2f7ab828\")) {\n",
       "                    Plotly.newPlot(\n",
       "                        'f8bfae8e-a9c0-419a-8e5d-a3db2f7ab828',\n",
       "                        [{\"line\": {\"color\": \"#00CED1\", \"width\": 6}, \"type\": \"scatter\", \"visible\": false, \"x\": [0.0, 0.0, 0.0, 0.0, 0.0, 0.0, 0.0, 0.0, 0.0, 0.0, 0.0, 0.0, 0.0, 0.0, 0.0, 0.0, 0.0, 0.0, 0.0, 0.0, 0.0, 0.0, 0.0, 0.0, 0.0, 0.0, 0.0, 0.0, 0.0, 0.0, 0.0, 0.0, 0.0, 0.0, 0.0, 0.0, 0.0, 0.0, 0.0, 0.0, 0.0], \"xaxis\": \"x\", \"y\": [0.0, 0.0, 0.0, 0.0, 0.0, 0.0, 0.0, 0.0, 0.0, 0.0, 0.0, 0.0, 0.0, 0.0, 0.0, 0.0, 0.0, 0.0, 0.0, 0.0, 0.0, 0.0, 0.0, 0.0, 0.0, 0.0, 0.0, 0.0, 0.0, 0.0, 0.0, 0.0, 0.0, 0.0, 0.0, 0.0, 0.0, 0.0, 0.0, 0.0, 0.0], \"yaxis\": \"y\"}, {\"line\": {\"color\": \"#00CED1\", \"width\": 6}, \"type\": \"scatter\", \"visible\": false, \"x\": [-0.0, -0.0, -0.0, -0.0, -0.0, -0.0, -0.0, -0.0, -0.0, -0.0, -0.0, -0.0, -0.0, -0.0, -0.0, -0.0, -0.0, -0.0, -0.0, -0.0, -0.0, -0.0, -0.0, -0.0, -0.0, -0.0, -0.0, -0.0, -0.0, -0.0, -0.0, -0.0, -0.0, -0.0, -0.0, -0.0, -0.0, -0.0, -0.0, -0.0, -0.0], \"xaxis\": \"x2\", \"y\": [-0.0, -0.0, -0.0, -0.0, -0.0, -0.0, -0.0, -0.0, -0.0, -0.0, -0.0, -0.0, -0.0, -0.0, -0.0, -0.0, -0.0, -0.0, -0.0, -0.0, -0.0, -0.0, -0.0, -0.0, -0.0, -0.0, -0.0, -0.0, -0.0, -0.0, -0.0, -0.0, -0.0, -0.0, -0.0, -0.0, -0.0, -0.0, -0.0, -0.0, -0.0], \"yaxis\": \"y2\"}, {\"line\": {\"color\": \"#00CED1\", \"width\": 6}, \"type\": \"scatter\", \"visible\": false, \"x\": [0, 0, 0, 0, 0, 0, 0, 0, 0, 0, 0, 0, 0, 0, 0, 0, 0, 0, 0, 0, 0, 0, 0, 0, 0, 0, 0, 0, 0, 0, 0, 0, 0, 0, 0, 0, 0, 0, 0, 0, 0], \"xaxis\": \"x3\", \"y\": [0, 0, 0, 0, 0, 0, 0, 0, 0, 0, 0, 0, 0, 0, 0, 0, 0, 0, 0, 0, 0, 0, 0, 0, 0, 0, 0, 0, 0, 0, 0, 0, 0, 0, 0, 0, 0, 0, 0, 0, 0], \"yaxis\": \"y3\"}, {\"line\": {\"color\": \"red\", \"width\": 10}, \"mode\": \"markers\", \"type\": \"scatter\", \"x\": [0.0], \"xaxis\": \"x\", \"y\": [0.0], \"yaxis\": \"y\"}, {\"line\": {\"color\": \"red\", \"width\": 10}, \"mode\": \"markers\", \"type\": \"scatter\", \"x\": [0.0], \"xaxis\": \"x\", \"y\": [0.0], \"yaxis\": \"y\"}, {\"line\": {\"color\": \"red\", \"width\": 10}, \"mode\": \"markers\", \"type\": \"scatter\", \"x\": [0.0], \"xaxis\": \"x\", \"y\": [0.0], \"yaxis\": \"y\"}, {\"line\": {\"color\": \"red\", \"width\": 10}, \"mode\": \"markers\", \"type\": \"scatter\", \"x\": [0.0], \"xaxis\": \"x\", \"y\": [0.0], \"yaxis\": \"y\"}, {\"line\": {\"color\": \"red\", \"width\": 10}, \"mode\": \"markers\", \"type\": \"scatter\", \"x\": [0.0], \"xaxis\": \"x\", \"y\": [0.0], \"yaxis\": \"y\"}, {\"line\": {\"color\": \"red\", \"width\": 10}, \"mode\": \"markers\", \"type\": \"scatter\", \"x\": [0.0], \"xaxis\": \"x\", \"y\": [0.0], \"yaxis\": \"y\"}, {\"line\": {\"color\": \"red\", \"width\": 10}, \"mode\": \"markers\", \"type\": \"scatter\", \"x\": [0.0], \"xaxis\": \"x\", \"y\": [0.0], \"yaxis\": \"y\"}, {\"line\": {\"color\": \"red\", \"width\": 10}, \"mode\": \"markers\", \"type\": \"scatter\", \"x\": [0.0], \"xaxis\": \"x\", \"y\": [0.0], \"yaxis\": \"y\"}, {\"line\": {\"color\": \"red\", \"width\": 10}, \"mode\": \"markers\", \"type\": \"scatter\", \"x\": [0.0], \"xaxis\": \"x\", \"y\": [0.0], \"yaxis\": \"y\"}, {\"line\": {\"color\": \"red\", \"width\": 10}, \"mode\": \"markers\", \"type\": \"scatter\", \"x\": [0.0], \"xaxis\": \"x\", \"y\": [0.0], \"yaxis\": \"y\"}, {\"line\": {\"color\": \"red\", \"width\": 10}, \"mode\": \"markers\", \"type\": \"scatter\", \"x\": [0.0], \"xaxis\": \"x\", \"y\": [0.0], \"yaxis\": \"y\"}, {\"line\": {\"color\": \"red\", \"width\": 10}, \"mode\": \"markers\", \"type\": \"scatter\", \"x\": [0.0], \"xaxis\": \"x\", \"y\": [0.0], \"yaxis\": \"y\"}, {\"line\": {\"color\": \"red\", \"width\": 10}, \"mode\": \"markers\", \"type\": \"scatter\", \"x\": [0.0], \"xaxis\": \"x\", \"y\": [0.0], \"yaxis\": \"y\"}, {\"line\": {\"color\": \"red\", \"width\": 10}, \"mode\": \"markers\", \"type\": \"scatter\", \"x\": [0.0], \"xaxis\": \"x\", \"y\": [0.0], \"yaxis\": \"y\"}, {\"line\": {\"color\": \"red\", \"width\": 10}, \"mode\": \"markers\", \"type\": \"scatter\", \"x\": [0.0], \"xaxis\": \"x\", \"y\": [0.0], \"yaxis\": \"y\"}, {\"line\": {\"color\": \"red\", \"width\": 10}, \"mode\": \"markers\", \"type\": \"scatter\", \"x\": [0.0], \"xaxis\": \"x\", \"y\": [0.0], \"yaxis\": \"y\"}, {\"line\": {\"color\": \"red\", \"width\": 10}, \"mode\": \"markers\", \"type\": \"scatter\", \"x\": [0.0], \"xaxis\": \"x\", \"y\": [0.0], \"yaxis\": \"y\"}, {\"line\": {\"color\": \"red\", \"width\": 10}, \"mode\": \"markers\", \"type\": \"scatter\", \"x\": [0.0], \"xaxis\": \"x\", \"y\": [0.0], \"yaxis\": \"y\"}, {\"line\": {\"color\": \"red\", \"width\": 10}, \"mode\": \"markers\", \"type\": \"scatter\", \"x\": [0.0], \"xaxis\": \"x\", \"y\": [0.0], \"yaxis\": \"y\"}, {\"line\": {\"color\": \"red\", \"width\": 10}, \"mode\": \"markers\", \"type\": \"scatter\", \"x\": [0.0], \"xaxis\": \"x\", \"y\": [0.0], \"yaxis\": \"y\"}, {\"line\": {\"color\": \"red\", \"width\": 10}, \"mode\": \"markers\", \"type\": \"scatter\", \"x\": [0.0], \"xaxis\": \"x\", \"y\": [0.0], \"yaxis\": \"y\"}, {\"line\": {\"color\": \"red\", \"width\": 10}, \"mode\": \"markers\", \"type\": \"scatter\", \"x\": [0.0], \"xaxis\": \"x\", \"y\": [0.0], \"yaxis\": \"y\"}, {\"line\": {\"color\": \"red\", \"width\": 10}, \"mode\": \"markers\", \"type\": \"scatter\", \"x\": [0.0], \"xaxis\": \"x\", \"y\": [0.0], \"yaxis\": \"y\"}, {\"line\": {\"color\": \"red\", \"width\": 10}, \"mode\": \"markers\", \"type\": \"scatter\", \"x\": [0.0], \"xaxis\": \"x\", \"y\": [0.0], \"yaxis\": \"y\"}, {\"line\": {\"color\": \"red\", \"width\": 10}, \"mode\": \"markers\", \"type\": \"scatter\", \"x\": [0.0], \"xaxis\": \"x\", \"y\": [0.0], \"yaxis\": \"y\"}, {\"line\": {\"color\": \"red\", \"width\": 10}, \"mode\": \"markers\", \"type\": \"scatter\", \"x\": [0.0], \"xaxis\": \"x\", \"y\": [0.0], \"yaxis\": \"y\"}, {\"line\": {\"color\": \"red\", \"width\": 10}, \"mode\": \"markers\", \"type\": \"scatter\", \"x\": [0.0], \"xaxis\": \"x\", \"y\": [0.0], \"yaxis\": \"y\"}, {\"line\": {\"color\": \"red\", \"width\": 10}, \"mode\": \"markers\", \"type\": \"scatter\", \"x\": [0.0], \"xaxis\": \"x\", \"y\": [0.0], \"yaxis\": \"y\"}, {\"line\": {\"color\": \"red\", \"width\": 10}, \"mode\": \"markers\", \"type\": \"scatter\", \"x\": [0.0], \"xaxis\": \"x\", \"y\": [0.0], \"yaxis\": \"y\"}, {\"line\": {\"color\": \"red\", \"width\": 10}, \"mode\": \"markers\", \"type\": \"scatter\", \"x\": [0.0], \"xaxis\": \"x\", \"y\": [0.0], \"yaxis\": \"y\"}, {\"line\": {\"color\": \"red\", \"width\": 10}, \"mode\": \"markers\", \"type\": \"scatter\", \"x\": [0.0], \"xaxis\": \"x\", \"y\": [0.0], \"yaxis\": \"y\"}, {\"line\": {\"color\": \"red\", \"width\": 10}, \"mode\": \"markers\", \"type\": \"scatter\", \"x\": [0.0], \"xaxis\": \"x\", \"y\": [0.0], \"yaxis\": \"y\"}, {\"line\": {\"color\": \"red\", \"width\": 10}, \"mode\": \"markers\", \"type\": \"scatter\", \"x\": [0.0], \"xaxis\": \"x\", \"y\": [0.0], \"yaxis\": \"y\"}, {\"line\": {\"color\": \"red\", \"width\": 10}, \"mode\": \"markers\", \"type\": \"scatter\", \"x\": [0.0], \"xaxis\": \"x\", \"y\": [0.0], \"yaxis\": \"y\"}, {\"line\": {\"color\": \"red\", \"width\": 10}, \"mode\": \"markers\", \"type\": \"scatter\", \"x\": [0.0], \"xaxis\": \"x\", \"y\": [0.0], \"yaxis\": \"y\"}, {\"line\": {\"color\": \"red\", \"width\": 10}, \"mode\": \"markers\", \"type\": \"scatter\", \"x\": [0.0], \"xaxis\": \"x\", \"y\": [0.0], \"yaxis\": \"y\"}, {\"line\": {\"color\": \"red\", \"width\": 10}, \"mode\": \"markers\", \"type\": \"scatter\", \"x\": [0.0], \"xaxis\": \"x\", \"y\": [0.0], \"yaxis\": \"y\"}, {\"line\": {\"color\": \"red\", \"width\": 10}, \"mode\": \"markers\", \"type\": \"scatter\", \"x\": [0.0], \"xaxis\": \"x\", \"y\": [0.0], \"yaxis\": \"y\"}, {\"line\": {\"color\": \"red\", \"width\": 10}, \"mode\": \"markers\", \"type\": \"scatter\", \"x\": [0.0], \"xaxis\": \"x\", \"y\": [0.0], \"yaxis\": \"y\"}, {\"line\": {\"color\": \"red\", \"width\": 10}, \"mode\": \"markers\", \"type\": \"scatter\", \"x\": [0.0], \"xaxis\": \"x\", \"y\": [0.0], \"yaxis\": \"y\"}, {\"line\": {\"color\": \"red\", \"width\": 10}, \"mode\": \"markers\", \"type\": \"scatter\", \"x\": [0.0], \"xaxis\": \"x\", \"y\": [0.0], \"yaxis\": \"y\"}, {\"line\": {\"color\": \"red\", \"width\": 10}, \"mode\": \"markers\", \"type\": \"scatter\", \"x\": [-0.0], \"xaxis\": \"x2\", \"y\": [-0.0], \"yaxis\": \"y2\"}, {\"line\": {\"color\": \"red\", \"width\": 10}, \"mode\": \"markers\", \"type\": \"scatter\", \"x\": [-0.0], \"xaxis\": \"x2\", \"y\": [-0.0], \"yaxis\": \"y2\"}, {\"line\": {\"color\": \"red\", \"width\": 10}, \"mode\": \"markers\", \"type\": \"scatter\", \"x\": [-0.0], \"xaxis\": \"x2\", \"y\": [-0.0], \"yaxis\": \"y2\"}, {\"line\": {\"color\": \"red\", \"width\": 10}, \"mode\": \"markers\", \"type\": \"scatter\", \"x\": [-0.0], \"xaxis\": \"x2\", \"y\": [-0.0], \"yaxis\": \"y2\"}, {\"line\": {\"color\": \"red\", \"width\": 10}, \"mode\": \"markers\", \"type\": \"scatter\", \"x\": [-0.0], \"xaxis\": \"x2\", \"y\": [-0.0], \"yaxis\": \"y2\"}, {\"line\": {\"color\": \"red\", \"width\": 10}, \"mode\": \"markers\", \"type\": \"scatter\", \"x\": [-0.0], \"xaxis\": \"x2\", \"y\": [-0.0], \"yaxis\": \"y2\"}, {\"line\": {\"color\": \"red\", \"width\": 10}, \"mode\": \"markers\", \"type\": \"scatter\", \"x\": [-0.0], \"xaxis\": \"x2\", \"y\": [-0.0], \"yaxis\": \"y2\"}, {\"line\": {\"color\": \"red\", \"width\": 10}, \"mode\": \"markers\", \"type\": \"scatter\", \"x\": [-0.0], \"xaxis\": \"x2\", \"y\": [-0.0], \"yaxis\": \"y2\"}, {\"line\": {\"color\": \"red\", \"width\": 10}, \"mode\": \"markers\", \"type\": \"scatter\", \"x\": [-0.0], \"xaxis\": \"x2\", \"y\": [-0.0], \"yaxis\": \"y2\"}, {\"line\": {\"color\": \"red\", \"width\": 10}, \"mode\": \"markers\", \"type\": \"scatter\", \"x\": [-0.0], \"xaxis\": \"x2\", \"y\": [-0.0], \"yaxis\": \"y2\"}, {\"line\": {\"color\": \"red\", \"width\": 10}, \"mode\": \"markers\", \"type\": \"scatter\", \"x\": [-0.0], \"xaxis\": \"x2\", \"y\": [-0.0], \"yaxis\": \"y2\"}, {\"line\": {\"color\": \"red\", \"width\": 10}, \"mode\": \"markers\", \"type\": \"scatter\", \"x\": [-0.0], \"xaxis\": \"x2\", \"y\": [-0.0], \"yaxis\": \"y2\"}, {\"line\": {\"color\": \"red\", \"width\": 10}, \"mode\": \"markers\", \"type\": \"scatter\", \"x\": [-0.0], \"xaxis\": \"x2\", \"y\": [-0.0], \"yaxis\": \"y2\"}, {\"line\": {\"color\": \"red\", \"width\": 10}, \"mode\": \"markers\", \"type\": \"scatter\", \"x\": [-0.0], \"xaxis\": \"x2\", \"y\": [-0.0], \"yaxis\": \"y2\"}, {\"line\": {\"color\": \"red\", \"width\": 10}, \"mode\": \"markers\", \"type\": \"scatter\", \"x\": [-0.0], \"xaxis\": \"x2\", \"y\": [-0.0], \"yaxis\": \"y2\"}, {\"line\": {\"color\": \"red\", \"width\": 10}, \"mode\": \"markers\", \"type\": \"scatter\", \"x\": [-0.0], \"xaxis\": \"x2\", \"y\": [-0.0], \"yaxis\": \"y2\"}, {\"line\": {\"color\": \"red\", \"width\": 10}, \"mode\": \"markers\", \"type\": \"scatter\", \"x\": [-0.0], \"xaxis\": \"x2\", \"y\": [-0.0], \"yaxis\": \"y2\"}, {\"line\": {\"color\": \"red\", \"width\": 10}, \"mode\": \"markers\", \"type\": \"scatter\", \"x\": [-0.0], \"xaxis\": \"x2\", \"y\": [-0.0], \"yaxis\": \"y2\"}, {\"line\": {\"color\": \"red\", \"width\": 10}, \"mode\": \"markers\", \"type\": \"scatter\", \"x\": [-0.0], \"xaxis\": \"x2\", \"y\": [-0.0], \"yaxis\": \"y2\"}, {\"line\": {\"color\": \"red\", \"width\": 10}, \"mode\": \"markers\", \"type\": \"scatter\", \"x\": [-0.0], \"xaxis\": \"x2\", \"y\": [-0.0], \"yaxis\": \"y2\"}, {\"line\": {\"color\": \"red\", \"width\": 10}, \"mode\": \"markers\", \"type\": \"scatter\", \"x\": [-0.0], \"xaxis\": \"x2\", \"y\": [-0.0], \"yaxis\": \"y2\"}, {\"line\": {\"color\": \"red\", \"width\": 10}, \"mode\": \"markers\", \"type\": \"scatter\", \"x\": [-0.0], \"xaxis\": \"x2\", \"y\": [-0.0], \"yaxis\": \"y2\"}, {\"line\": {\"color\": \"red\", \"width\": 10}, \"mode\": \"markers\", \"type\": \"scatter\", \"x\": [-0.0], \"xaxis\": \"x2\", \"y\": [-0.0], \"yaxis\": \"y2\"}, {\"line\": {\"color\": \"red\", \"width\": 10}, \"mode\": \"markers\", \"type\": \"scatter\", \"x\": [-0.0], \"xaxis\": \"x2\", \"y\": [-0.0], \"yaxis\": \"y2\"}, {\"line\": {\"color\": \"red\", \"width\": 10}, \"mode\": \"markers\", \"type\": \"scatter\", \"x\": [-0.0], \"xaxis\": \"x2\", \"y\": [-0.0], \"yaxis\": \"y2\"}, {\"line\": {\"color\": \"red\", \"width\": 10}, \"mode\": \"markers\", \"type\": \"scatter\", \"x\": [-0.0], \"xaxis\": \"x2\", \"y\": [-0.0], \"yaxis\": \"y2\"}, {\"line\": {\"color\": \"red\", \"width\": 10}, \"mode\": \"markers\", \"type\": \"scatter\", \"x\": [-0.0], \"xaxis\": \"x2\", \"y\": [-0.0], \"yaxis\": \"y2\"}, {\"line\": {\"color\": \"red\", \"width\": 10}, \"mode\": \"markers\", \"type\": \"scatter\", \"x\": [-0.0], \"xaxis\": \"x2\", \"y\": [-0.0], \"yaxis\": \"y2\"}, {\"line\": {\"color\": \"red\", \"width\": 10}, \"mode\": \"markers\", \"type\": \"scatter\", \"x\": [-0.0], \"xaxis\": \"x2\", \"y\": [-0.0], \"yaxis\": \"y2\"}, {\"line\": {\"color\": \"red\", \"width\": 10}, \"mode\": \"markers\", \"type\": \"scatter\", \"x\": [-0.0], \"xaxis\": \"x2\", \"y\": [-0.0], \"yaxis\": \"y2\"}, {\"line\": {\"color\": \"red\", \"width\": 10}, \"mode\": \"markers\", \"type\": \"scatter\", \"x\": [-0.0], \"xaxis\": \"x2\", \"y\": [-0.0], \"yaxis\": \"y2\"}, {\"line\": {\"color\": \"red\", \"width\": 10}, \"mode\": \"markers\", \"type\": \"scatter\", \"x\": [-0.0], \"xaxis\": \"x2\", \"y\": [-0.0], \"yaxis\": \"y2\"}, {\"line\": {\"color\": \"red\", \"width\": 10}, \"mode\": \"markers\", \"type\": \"scatter\", \"x\": [-0.0], \"xaxis\": \"x2\", \"y\": [-0.0], \"yaxis\": \"y2\"}, {\"line\": {\"color\": \"red\", \"width\": 10}, \"mode\": \"markers\", \"type\": \"scatter\", \"x\": [-0.0], \"xaxis\": \"x2\", \"y\": [-0.0], \"yaxis\": \"y2\"}, {\"line\": {\"color\": \"red\", \"width\": 10}, \"mode\": \"markers\", \"type\": \"scatter\", \"x\": [-0.0], \"xaxis\": \"x2\", \"y\": [-0.0], \"yaxis\": \"y2\"}, {\"line\": {\"color\": \"red\", \"width\": 10}, \"mode\": \"markers\", \"type\": \"scatter\", \"x\": [-0.0], \"xaxis\": \"x2\", \"y\": [-0.0], \"yaxis\": \"y2\"}, {\"line\": {\"color\": \"red\", \"width\": 10}, \"mode\": \"markers\", \"type\": \"scatter\", \"x\": [-0.0], \"xaxis\": \"x2\", \"y\": [-0.0], \"yaxis\": \"y2\"}, {\"line\": {\"color\": \"red\", \"width\": 10}, \"mode\": \"markers\", \"type\": \"scatter\", \"x\": [-0.0], \"xaxis\": \"x2\", \"y\": [-0.0], \"yaxis\": \"y2\"}, {\"line\": {\"color\": \"red\", \"width\": 10}, \"mode\": \"markers\", \"type\": \"scatter\", \"x\": [-0.0], \"xaxis\": \"x2\", \"y\": [-0.0], \"yaxis\": \"y2\"}, {\"line\": {\"color\": \"red\", \"width\": 10}, \"mode\": \"markers\", \"type\": \"scatter\", \"x\": [-0.0], \"xaxis\": \"x2\", \"y\": [-0.0], \"yaxis\": \"y2\"}, {\"line\": {\"color\": \"red\", \"width\": 10}, \"mode\": \"markers\", \"type\": \"scatter\", \"x\": [-0.0], \"xaxis\": \"x2\", \"y\": [-0.0], \"yaxis\": \"y2\"}, {\"line\": {\"color\": \"red\", \"width\": 10}, \"mode\": \"markers\", \"type\": \"scatter\", \"x\": [0], \"xaxis\": \"x3\", \"y\": [0], \"yaxis\": \"y3\"}, {\"line\": {\"color\": \"red\", \"width\": 10}, \"mode\": \"markers\", \"type\": \"scatter\", \"x\": [0], \"xaxis\": \"x3\", \"y\": [0], \"yaxis\": \"y3\"}, {\"line\": {\"color\": \"red\", \"width\": 10}, \"mode\": \"markers\", \"type\": \"scatter\", \"x\": [0], \"xaxis\": \"x3\", \"y\": [0], \"yaxis\": \"y3\"}, {\"line\": {\"color\": \"red\", \"width\": 10}, \"mode\": \"markers\", \"type\": \"scatter\", \"x\": [0], \"xaxis\": \"x3\", \"y\": [0], \"yaxis\": \"y3\"}, {\"line\": {\"color\": \"red\", \"width\": 10}, \"mode\": \"markers\", \"type\": \"scatter\", \"x\": [0], \"xaxis\": \"x3\", \"y\": [0], \"yaxis\": \"y3\"}, {\"line\": {\"color\": \"red\", \"width\": 10}, \"mode\": \"markers\", \"type\": \"scatter\", \"x\": [0], \"xaxis\": \"x3\", \"y\": [0], \"yaxis\": \"y3\"}, {\"line\": {\"color\": \"red\", \"width\": 10}, \"mode\": \"markers\", \"type\": \"scatter\", \"x\": [0], \"xaxis\": \"x3\", \"y\": [0], \"yaxis\": \"y3\"}, {\"line\": {\"color\": \"red\", \"width\": 10}, \"mode\": \"markers\", \"type\": \"scatter\", \"x\": [0], \"xaxis\": \"x3\", \"y\": [0], \"yaxis\": \"y3\"}, {\"line\": {\"color\": \"red\", \"width\": 10}, \"mode\": \"markers\", \"type\": \"scatter\", \"x\": [0], \"xaxis\": \"x3\", \"y\": [0], \"yaxis\": \"y3\"}, {\"line\": {\"color\": \"red\", \"width\": 10}, \"mode\": \"markers\", \"type\": \"scatter\", \"x\": [0], \"xaxis\": \"x3\", \"y\": [0], \"yaxis\": \"y3\"}, {\"line\": {\"color\": \"red\", \"width\": 10}, \"mode\": \"markers\", \"type\": \"scatter\", \"x\": [0], \"xaxis\": \"x3\", \"y\": [0], \"yaxis\": \"y3\"}, {\"line\": {\"color\": \"red\", \"width\": 10}, \"mode\": \"markers\", \"type\": \"scatter\", \"x\": [0], \"xaxis\": \"x3\", \"y\": [0], \"yaxis\": \"y3\"}, {\"line\": {\"color\": \"red\", \"width\": 10}, \"mode\": \"markers\", \"type\": \"scatter\", \"x\": [0], \"xaxis\": \"x3\", \"y\": [0], \"yaxis\": \"y3\"}, {\"line\": {\"color\": \"red\", \"width\": 10}, \"mode\": \"markers\", \"type\": \"scatter\", \"x\": [0], \"xaxis\": \"x3\", \"y\": [0], \"yaxis\": \"y3\"}, {\"line\": {\"color\": \"red\", \"width\": 10}, \"mode\": \"markers\", \"type\": \"scatter\", \"x\": [0], \"xaxis\": \"x3\", \"y\": [0], \"yaxis\": \"y3\"}, {\"line\": {\"color\": \"red\", \"width\": 10}, \"mode\": \"markers\", \"type\": \"scatter\", \"x\": [0], \"xaxis\": \"x3\", \"y\": [0], \"yaxis\": \"y3\"}, {\"line\": {\"color\": \"red\", \"width\": 10}, \"mode\": \"markers\", \"type\": \"scatter\", \"x\": [0], \"xaxis\": \"x3\", \"y\": [0], \"yaxis\": \"y3\"}, {\"line\": {\"color\": \"red\", \"width\": 10}, \"mode\": \"markers\", \"type\": \"scatter\", \"x\": [0], \"xaxis\": \"x3\", \"y\": [0], \"yaxis\": \"y3\"}, {\"line\": {\"color\": \"red\", \"width\": 10}, \"mode\": \"markers\", \"type\": \"scatter\", \"x\": [0], \"xaxis\": \"x3\", \"y\": [0], \"yaxis\": \"y3\"}, {\"line\": {\"color\": \"red\", \"width\": 10}, \"mode\": \"markers\", \"type\": \"scatter\", \"x\": [0], \"xaxis\": \"x3\", \"y\": [0], \"yaxis\": \"y3\"}, {\"line\": {\"color\": \"red\", \"width\": 10}, \"mode\": \"markers\", \"type\": \"scatter\", \"x\": [0], \"xaxis\": \"x3\", \"y\": [0], \"yaxis\": \"y3\"}, {\"line\": {\"color\": \"red\", \"width\": 10}, \"mode\": \"markers\", \"type\": \"scatter\", \"x\": [0], \"xaxis\": \"x3\", \"y\": [0], \"yaxis\": \"y3\"}, {\"line\": {\"color\": \"red\", \"width\": 10}, \"mode\": \"markers\", \"type\": \"scatter\", \"x\": [0], \"xaxis\": \"x3\", \"y\": [0], \"yaxis\": \"y3\"}, {\"line\": {\"color\": \"red\", \"width\": 10}, \"mode\": \"markers\", \"type\": \"scatter\", \"x\": [0], \"xaxis\": \"x3\", \"y\": [0], \"yaxis\": \"y3\"}, {\"line\": {\"color\": \"red\", \"width\": 10}, \"mode\": \"markers\", \"type\": \"scatter\", \"x\": [0], \"xaxis\": \"x3\", \"y\": [0], \"yaxis\": \"y3\"}, {\"line\": {\"color\": \"red\", \"width\": 10}, \"mode\": \"markers\", \"type\": \"scatter\", \"x\": [0], \"xaxis\": \"x3\", \"y\": [0], \"yaxis\": \"y3\"}, {\"line\": {\"color\": \"red\", \"width\": 10}, \"mode\": \"markers\", \"type\": \"scatter\", \"x\": [0], \"xaxis\": \"x3\", \"y\": [0], \"yaxis\": \"y3\"}, {\"line\": {\"color\": \"red\", \"width\": 10}, \"mode\": \"markers\", \"type\": \"scatter\", \"x\": [0], \"xaxis\": \"x3\", \"y\": [0], \"yaxis\": \"y3\"}, {\"line\": {\"color\": \"red\", \"width\": 10}, \"mode\": \"markers\", \"type\": \"scatter\", \"x\": [0], \"xaxis\": \"x3\", \"y\": [0], \"yaxis\": \"y3\"}, {\"line\": {\"color\": \"red\", \"width\": 10}, \"mode\": \"markers\", \"type\": \"scatter\", \"x\": [0], \"xaxis\": \"x3\", \"y\": [0], \"yaxis\": \"y3\"}, {\"line\": {\"color\": \"red\", \"width\": 10}, \"mode\": \"markers\", \"type\": \"scatter\", \"x\": [0], \"xaxis\": \"x3\", \"y\": [0], \"yaxis\": \"y3\"}, {\"line\": {\"color\": \"red\", \"width\": 10}, \"mode\": \"markers\", \"type\": \"scatter\", \"x\": [0], \"xaxis\": \"x3\", \"y\": [0], \"yaxis\": \"y3\"}, {\"line\": {\"color\": \"red\", \"width\": 10}, \"mode\": \"markers\", \"type\": \"scatter\", \"x\": [0], \"xaxis\": \"x3\", \"y\": [0], \"yaxis\": \"y3\"}, {\"line\": {\"color\": \"red\", \"width\": 10}, \"mode\": \"markers\", \"type\": \"scatter\", \"x\": [0], \"xaxis\": \"x3\", \"y\": [0], \"yaxis\": \"y3\"}, {\"line\": {\"color\": \"red\", \"width\": 10}, \"mode\": \"markers\", \"type\": \"scatter\", \"x\": [0], \"xaxis\": \"x3\", \"y\": [0], \"yaxis\": \"y3\"}, {\"line\": {\"color\": \"red\", \"width\": 10}, \"mode\": \"markers\", \"type\": \"scatter\", \"x\": [0], \"xaxis\": \"x3\", \"y\": [0], \"yaxis\": \"y3\"}, {\"line\": {\"color\": \"red\", \"width\": 10}, \"mode\": \"markers\", \"type\": \"scatter\", \"x\": [0], \"xaxis\": \"x3\", \"y\": [0], \"yaxis\": \"y3\"}, {\"line\": {\"color\": \"red\", \"width\": 10}, \"mode\": \"markers\", \"type\": \"scatter\", \"x\": [0], \"xaxis\": \"x3\", \"y\": [0], \"yaxis\": \"y3\"}, {\"line\": {\"color\": \"red\", \"width\": 10}, \"mode\": \"markers\", \"type\": \"scatter\", \"x\": [0], \"xaxis\": \"x3\", \"y\": [0], \"yaxis\": \"y3\"}, {\"line\": {\"color\": \"red\", \"width\": 10}, \"mode\": \"markers\", \"type\": \"scatter\", \"x\": [0], \"xaxis\": \"x3\", \"y\": [0], \"yaxis\": \"y3\"}, {\"line\": {\"color\": \"red\", \"width\": 10}, \"mode\": \"markers\", \"type\": \"scatter\", \"x\": [0], \"xaxis\": \"x3\", \"y\": [0], \"yaxis\": \"y3\"}],\n",
       "                        {\"sliders\": [{\"active\": 10, \"currentvalue\": {\"prefix\": \"Time: \"}, \"pad\": {\"t\": 50}, \"steps\": [{\"args\": [{\"visible\": [true, true, true, true, false, false, false, false, false, false, false, false, false, false, false, false, false, false, false, false, false, false, false, false, false, false, false, false, false, false, false, false, false, false, false, false, false, false, false, false, false, false, false, false, true, false, false, false, false, false, false, false, false, false, false, false, false, false, false, false, false, false, false, false, false, false, false, false, false, false, false, false, false, false, false, false, false, false, false, false, false, false, false, false, false, true, false, false, false, false, false, false, false, false, false, false, false, false, false, false, false, false, false, false, false, false, false, false, false, false, false, false, false, false, false, false, false, false, false, false, false, false, false, false, false, false]}, {\"title\": \"Time: 0s\"}], \"method\": \"update\"}, {\"args\": [{\"visible\": [true, true, true, false, true, false, false, false, false, false, false, false, false, false, false, false, false, false, false, false, false, false, false, false, false, false, false, false, false, false, false, false, false, false, false, false, false, false, false, false, false, false, false, false, false, true, false, false, false, false, false, false, false, false, false, false, false, false, false, false, false, false, false, false, false, false, false, false, false, false, false, false, false, false, false, false, false, false, false, false, false, false, false, false, false, false, true, false, false, false, false, false, false, false, false, false, false, false, false, false, false, false, false, false, false, false, false, false, false, false, false, false, false, false, false, false, false, false, false, false, false, false, false, false, false, false]}, {\"title\": \"Time: 0.5s\"}], \"method\": \"update\"}, {\"args\": [{\"visible\": [true, true, true, false, false, true, false, false, false, false, false, false, false, false, false, false, false, false, false, false, false, false, false, false, false, false, false, false, false, false, false, false, false, false, false, false, false, false, false, false, false, false, false, false, false, false, true, false, false, false, false, false, false, false, false, false, false, false, false, false, false, false, false, false, false, false, false, false, false, false, false, false, false, false, false, false, false, false, false, false, false, false, false, false, false, false, false, true, false, false, false, false, false, false, false, false, false, false, false, false, false, false, false, false, false, false, false, false, false, false, false, false, false, false, false, false, false, false, false, false, false, false, false, false, false, false]}, {\"title\": \"Time: 1.0s\"}], \"method\": \"update\"}, {\"args\": [{\"visible\": [true, true, true, false, false, false, true, false, false, false, false, false, false, false, false, false, false, false, false, false, false, false, false, false, false, false, false, false, false, false, false, false, false, false, false, false, false, false, false, false, false, false, false, false, false, false, false, true, false, false, false, false, false, false, false, false, false, false, false, false, false, false, false, false, false, false, false, false, false, false, false, false, false, false, false, false, false, false, false, false, false, false, false, false, false, false, false, false, true, false, false, false, false, false, false, false, false, false, false, false, false, false, false, false, false, false, false, false, false, false, false, false, false, false, false, false, false, false, false, false, false, false, false, false, false, false]}, {\"title\": \"Time: 1.5s\"}], \"method\": \"update\"}, {\"args\": [{\"visible\": [true, true, true, false, false, false, false, true, false, false, false, false, false, false, false, false, false, false, false, false, false, false, false, false, false, false, false, false, false, false, false, false, false, false, false, false, false, false, false, false, false, false, false, false, false, false, false, false, true, false, false, false, false, false, false, false, false, false, false, false, false, false, false, false, false, false, false, false, false, false, false, false, false, false, false, false, false, false, false, false, false, false, false, false, false, false, false, false, false, true, false, false, false, false, false, false, false, false, false, false, false, false, false, false, false, false, false, false, false, false, false, false, false, false, false, false, false, false, false, false, false, false, false, false, false, false]}, {\"title\": \"Time: 2.0s\"}], \"method\": \"update\"}, {\"args\": [{\"visible\": [true, true, true, false, false, false, false, false, true, false, false, false, false, false, false, false, false, false, false, false, false, false, false, false, false, false, false, false, false, false, false, false, false, false, false, false, false, false, false, false, false, false, false, false, false, false, false, false, false, true, false, false, false, false, false, false, false, false, false, false, false, false, false, false, false, false, false, false, false, false, false, false, false, false, false, false, false, false, false, false, false, false, false, false, false, false, false, false, false, false, true, false, false, false, false, false, false, false, false, false, false, false, false, false, false, false, false, false, false, false, false, false, false, false, false, false, false, false, false, false, false, false, false, false, false, false]}, {\"title\": \"Time: 2.5s\"}], \"method\": \"update\"}, {\"args\": [{\"visible\": [true, true, true, false, false, false, false, false, false, true, false, false, false, false, false, false, false, false, false, false, false, false, false, false, false, false, false, false, false, false, false, false, false, false, false, false, false, false, false, false, false, false, false, false, false, false, false, false, false, false, true, false, false, false, false, false, false, false, false, false, false, false, false, false, false, false, false, false, false, false, false, false, false, false, false, false, false, false, false, false, false, false, false, false, false, false, false, false, false, false, false, true, false, false, false, false, false, false, false, false, false, false, false, false, false, false, false, false, false, false, false, false, false, false, false, false, false, false, false, false, false, false, false, false, false, false]}, {\"title\": \"Time: 3.0s\"}], \"method\": \"update\"}, {\"args\": [{\"visible\": [true, true, true, false, false, false, false, false, false, false, true, false, false, false, false, false, false, false, false, false, false, false, false, false, false, false, false, false, false, false, false, false, false, false, false, false, false, false, false, false, false, false, false, false, false, false, false, false, false, false, false, true, false, false, false, false, false, false, false, false, false, false, false, false, false, false, false, false, false, false, false, false, false, false, false, false, false, false, false, false, false, false, false, false, false, false, false, false, false, false, false, false, true, false, false, false, false, false, false, false, false, false, false, false, false, false, false, false, false, false, false, false, false, false, false, false, false, false, false, false, false, false, false, false, false, false]}, {\"title\": \"Time: 3.5s\"}], \"method\": \"update\"}, {\"args\": [{\"visible\": [true, true, true, false, false, false, false, false, false, false, false, true, false, false, false, false, false, false, false, false, false, false, false, false, false, false, false, false, false, false, false, false, false, false, false, false, false, false, false, false, false, false, false, false, false, false, false, false, false, false, false, false, true, false, false, false, false, false, false, false, false, false, false, false, false, false, false, false, false, false, false, false, false, false, false, false, false, false, false, false, false, false, false, false, false, false, false, false, false, false, false, false, false, true, false, false, false, false, false, false, false, false, false, false, false, false, false, false, false, false, false, false, false, false, false, false, false, false, false, false, false, false, false, false, false, false]}, {\"title\": \"Time: 4.0s\"}], \"method\": \"update\"}, {\"args\": [{\"visible\": [true, true, true, false, false, false, false, false, false, false, false, false, true, false, false, false, false, false, false, false, false, false, false, false, false, false, false, false, false, false, false, false, false, false, false, false, false, false, false, false, false, false, false, false, false, false, false, false, false, false, false, false, false, true, false, false, false, false, false, false, false, false, false, false, false, false, false, false, false, false, false, false, false, false, false, false, false, false, false, false, false, false, false, false, false, false, false, false, false, false, false, false, false, false, true, false, false, false, false, false, false, false, false, false, false, false, false, false, false, false, false, false, false, false, false, false, false, false, false, false, false, false, false, false, false, false]}, {\"title\": \"Time: 4.5s\"}], \"method\": \"update\"}, {\"args\": [{\"visible\": [true, true, true, false, false, false, false, false, false, false, false, false, false, true, false, false, false, false, false, false, false, false, false, false, false, false, false, false, false, false, false, false, false, false, false, false, false, false, false, false, false, false, false, false, false, false, false, false, false, false, false, false, false, false, true, false, false, false, false, false, false, false, false, false, false, false, false, false, false, false, false, false, false, false, false, false, false, false, false, false, false, false, false, false, false, false, false, false, false, false, false, false, false, false, false, true, false, false, false, false, false, false, false, false, false, false, false, false, false, false, false, false, false, false, false, false, false, false, false, false, false, false, false, false, false, false]}, {\"title\": \"Time: 5.0s\"}], \"method\": \"update\"}, {\"args\": [{\"visible\": [true, true, true, false, false, false, false, false, false, false, false, false, false, false, true, false, false, false, false, false, false, false, false, false, false, false, false, false, false, false, false, false, false, false, false, false, false, false, false, false, false, false, false, false, false, false, false, false, false, false, false, false, false, false, false, true, false, false, false, false, false, false, false, false, false, false, false, false, false, false, false, false, false, false, false, false, false, false, false, false, false, false, false, false, false, false, false, false, false, false, false, false, false, false, false, false, true, false, false, false, false, false, false, false, false, false, false, false, false, false, false, false, false, false, false, false, false, false, false, false, false, false, false, false, false, false]}, {\"title\": \"Time: 5.5s\"}], \"method\": \"update\"}, {\"args\": [{\"visible\": [true, true, true, false, false, false, false, false, false, false, false, false, false, false, false, true, false, false, false, false, false, false, false, false, false, false, false, false, false, false, false, false, false, false, false, false, false, false, false, false, false, false, false, false, false, false, false, false, false, false, false, false, false, false, false, false, true, false, false, false, false, false, false, false, false, false, false, false, false, false, false, false, false, false, false, false, false, false, false, false, false, false, false, false, false, false, false, false, false, false, false, false, false, false, false, false, false, true, false, false, false, false, false, false, false, false, false, false, false, false, false, false, false, false, false, false, false, false, false, false, false, false, false, false, false, false]}, {\"title\": \"Time: 6.0s\"}], \"method\": \"update\"}, {\"args\": [{\"visible\": [true, true, true, false, false, false, false, false, false, false, false, false, false, false, false, false, true, false, false, false, false, false, false, false, false, false, false, false, false, false, false, false, false, false, false, false, false, false, false, false, false, false, false, false, false, false, false, false, false, false, false, false, false, false, false, false, false, true, false, false, false, false, false, false, false, false, false, false, false, false, false, false, false, false, false, false, false, false, false, false, false, false, false, false, false, false, false, false, false, false, false, false, false, false, false, false, false, false, true, false, false, false, false, false, false, false, false, false, false, false, false, false, false, false, false, false, false, false, false, false, false, false, false, false, false, false]}, {\"title\": \"Time: 6.5s\"}], \"method\": \"update\"}, {\"args\": [{\"visible\": [true, true, true, false, false, false, false, false, false, false, false, false, false, false, false, false, false, true, false, false, false, false, false, false, false, false, false, false, false, false, false, false, false, false, false, false, false, false, false, false, false, false, false, false, false, false, false, false, false, false, false, false, false, false, false, false, false, false, true, false, false, false, false, false, false, false, false, false, false, false, false, false, false, false, false, false, false, false, false, false, false, false, false, false, false, false, false, false, false, false, false, false, false, false, false, false, false, false, false, true, false, false, false, false, false, false, false, false, false, false, false, false, false, false, false, false, false, false, false, false, false, false, false, false, false, false]}, {\"title\": \"Time: 7.0s\"}], \"method\": \"update\"}, {\"args\": [{\"visible\": [true, true, true, false, false, false, false, false, false, false, false, false, false, false, false, false, false, false, true, false, false, false, false, false, false, false, false, false, false, false, false, false, false, false, false, false, false, false, false, false, false, false, false, false, false, false, false, false, false, false, false, false, false, false, false, false, false, false, false, true, false, false, false, false, false, false, false, false, false, false, false, false, false, false, false, false, false, false, false, false, false, false, false, false, false, false, false, false, false, false, false, false, false, false, false, false, false, false, false, false, true, false, false, false, false, false, false, false, false, false, false, false, false, false, false, false, false, false, false, false, false, false, false, false, false, false]}, {\"title\": \"Time: 7.5s\"}], \"method\": \"update\"}, {\"args\": [{\"visible\": [true, true, true, false, false, false, false, false, false, false, false, false, false, false, false, false, false, false, false, true, false, false, false, false, false, false, false, false, false, false, false, false, false, false, false, false, false, false, false, false, false, false, false, false, false, false, false, false, false, false, false, false, false, false, false, false, false, false, false, false, true, false, false, false, false, false, false, false, false, false, false, false, false, false, false, false, false, false, false, false, false, false, false, false, false, false, false, false, false, false, false, false, false, false, false, false, false, false, false, false, false, true, false, false, false, false, false, false, false, false, false, false, false, false, false, false, false, false, false, false, false, false, false, false, false, false]}, {\"title\": \"Time: 8.0s\"}], \"method\": \"update\"}, {\"args\": [{\"visible\": [true, true, true, false, false, false, false, false, false, false, false, false, false, false, false, false, false, false, false, false, true, false, false, false, false, false, false, false, false, false, false, false, false, false, false, false, false, false, false, false, false, false, false, false, false, false, false, false, false, false, false, false, false, false, false, false, false, false, false, false, false, true, false, false, false, false, false, false, false, false, false, false, false, false, false, false, false, false, false, false, false, false, false, false, false, false, false, false, false, false, false, false, false, false, false, false, false, false, false, false, false, false, true, false, false, false, false, false, false, false, false, false, false, false, false, false, false, false, false, false, false, false, false, false, false, false]}, {\"title\": \"Time: 8.5s\"}], \"method\": \"update\"}, {\"args\": [{\"visible\": [true, true, true, false, false, false, false, false, false, false, false, false, false, false, false, false, false, false, false, false, false, true, false, false, false, false, false, false, false, false, false, false, false, false, false, false, false, false, false, false, false, false, false, false, false, false, false, false, false, false, false, false, false, false, false, false, false, false, false, false, false, false, true, false, false, false, false, false, false, false, false, false, false, false, false, false, false, false, false, false, false, false, false, false, false, false, false, false, false, false, false, false, false, false, false, false, false, false, false, false, false, false, false, true, false, false, false, false, false, false, false, false, false, false, false, false, false, false, false, false, false, false, false, false, false, false]}, {\"title\": \"Time: 9.0s\"}], \"method\": \"update\"}, {\"args\": [{\"visible\": [true, true, true, false, false, false, false, false, false, false, false, false, false, false, false, false, false, false, false, false, false, false, true, false, false, false, false, false, false, false, false, false, false, false, false, false, false, false, false, false, false, false, false, false, false, false, false, false, false, false, false, false, false, false, false, false, false, false, false, false, false, false, false, true, false, false, false, false, false, false, false, false, false, false, false, false, false, false, false, false, false, false, false, false, false, false, false, false, false, false, false, false, false, false, false, false, false, false, false, false, false, false, false, false, true, false, false, false, false, false, false, false, false, false, false, false, false, false, false, false, false, false, false, false, false, false]}, {\"title\": \"Time: 9.5s\"}], \"method\": \"update\"}, {\"args\": [{\"visible\": [true, true, true, false, false, false, false, false, false, false, false, false, false, false, false, false, false, false, false, false, false, false, false, true, false, false, false, false, false, false, false, false, false, false, false, false, false, false, false, false, false, false, false, false, false, false, false, false, false, false, false, false, false, false, false, false, false, false, false, false, false, false, false, false, true, false, false, false, false, false, false, false, false, false, false, false, false, false, false, false, false, false, false, false, false, false, false, false, false, false, false, false, false, false, false, false, false, false, false, false, false, false, false, false, false, true, false, false, false, false, false, false, false, false, false, false, false, false, false, false, false, false, false, false, false, false]}, {\"title\": \"Time: 10.0s\"}], \"method\": \"update\"}, {\"args\": [{\"visible\": [true, true, true, false, false, false, false, false, false, false, false, false, false, false, false, false, false, false, false, false, false, false, false, false, true, false, false, false, false, false, false, false, false, false, false, false, false, false, false, false, false, false, false, false, false, false, false, false, false, false, false, false, false, false, false, false, false, false, false, false, false, false, false, false, false, true, false, false, false, false, false, false, false, false, false, false, false, false, false, false, false, false, false, false, false, false, false, false, false, false, false, false, false, false, false, false, false, false, false, false, false, false, false, false, false, false, true, false, false, false, false, false, false, false, false, false, false, false, false, false, false, false, false, false, false, false]}, {\"title\": \"Time: 10.5s\"}], \"method\": \"update\"}, {\"args\": [{\"visible\": [true, true, true, false, false, false, false, false, false, false, false, false, false, false, false, false, false, false, false, false, false, false, false, false, false, true, false, false, false, false, false, false, false, false, false, false, false, false, false, false, false, false, false, false, false, false, false, false, false, false, false, false, false, false, false, false, false, false, false, false, false, false, false, false, false, false, true, false, false, false, false, false, false, false, false, false, false, false, false, false, false, false, false, false, false, false, false, false, false, false, false, false, false, false, false, false, false, false, false, false, false, false, false, false, false, false, false, true, false, false, false, false, false, false, false, false, false, false, false, false, false, false, false, false, false, false]}, {\"title\": \"Time: 11.0s\"}], \"method\": \"update\"}, {\"args\": [{\"visible\": [true, true, true, false, false, false, false, false, false, false, false, false, false, false, false, false, false, false, false, false, false, false, false, false, false, false, true, false, false, false, false, false, false, false, false, false, false, false, false, false, false, false, false, false, false, false, false, false, false, false, false, false, false, false, false, false, false, false, false, false, false, false, false, false, false, false, false, true, false, false, false, false, false, false, false, false, false, false, false, false, false, false, false, false, false, false, false, false, false, false, false, false, false, false, false, false, false, false, false, false, false, false, false, false, false, false, false, false, true, false, false, false, false, false, false, false, false, false, false, false, false, false, false, false, false, false]}, {\"title\": \"Time: 11.5s\"}], \"method\": \"update\"}, {\"args\": [{\"visible\": [true, true, true, false, false, false, false, false, false, false, false, false, false, false, false, false, false, false, false, false, false, false, false, false, false, false, false, true, false, false, false, false, false, false, false, false, false, false, false, false, false, false, false, false, false, false, false, false, false, false, false, false, false, false, false, false, false, false, false, false, false, false, false, false, false, false, false, false, true, false, false, false, false, false, false, false, false, false, false, false, false, false, false, false, false, false, false, false, false, false, false, false, false, false, false, false, false, false, false, false, false, false, false, false, false, false, false, false, false, true, false, false, false, false, false, false, false, false, false, false, false, false, false, false, false, false]}, {\"title\": \"Time: 12.0s\"}], \"method\": \"update\"}, {\"args\": [{\"visible\": [true, true, true, false, false, false, false, false, false, false, false, false, false, false, false, false, false, false, false, false, false, false, false, false, false, false, false, false, true, false, false, false, false, false, false, false, false, false, false, false, false, false, false, false, false, false, false, false, false, false, false, false, false, false, false, false, false, false, false, false, false, false, false, false, false, false, false, false, false, true, false, false, false, false, false, false, false, false, false, false, false, false, false, false, false, false, false, false, false, false, false, false, false, false, false, false, false, false, false, false, false, false, false, false, false, false, false, false, false, false, true, false, false, false, false, false, false, false, false, false, false, false, false, false, false, false]}, {\"title\": \"Time: 12.5s\"}], \"method\": \"update\"}, {\"args\": [{\"visible\": [true, true, true, false, false, false, false, false, false, false, false, false, false, false, false, false, false, false, false, false, false, false, false, false, false, false, false, false, false, true, false, false, false, false, false, false, false, false, false, false, false, false, false, false, false, false, false, false, false, false, false, false, false, false, false, false, false, false, false, false, false, false, false, false, false, false, false, false, false, false, true, false, false, false, false, false, false, false, false, false, false, false, false, false, false, false, false, false, false, false, false, false, false, false, false, false, false, false, false, false, false, false, false, false, false, false, false, false, false, false, false, true, false, false, false, false, false, false, false, false, false, false, false, false, false, false]}, {\"title\": \"Time: 13.0s\"}], \"method\": \"update\"}, {\"args\": [{\"visible\": [true, true, true, false, false, false, false, false, false, false, false, false, false, false, false, false, false, false, false, false, false, false, false, false, false, false, false, false, false, false, true, false, false, false, false, false, false, false, false, false, false, false, false, false, false, false, false, false, false, false, false, false, false, false, false, false, false, false, false, false, false, false, false, false, false, false, false, false, false, false, false, true, false, false, false, false, false, false, false, false, false, false, false, false, false, false, false, false, false, false, false, false, false, false, false, false, false, false, false, false, false, false, false, false, false, false, false, false, false, false, false, false, true, false, false, false, false, false, false, false, false, false, false, false, false, false]}, {\"title\": \"Time: 13.5s\"}], \"method\": \"update\"}, {\"args\": [{\"visible\": [true, true, true, false, false, false, false, false, false, false, false, false, false, false, false, false, false, false, false, false, false, false, false, false, false, false, false, false, false, false, false, true, false, false, false, false, false, false, false, false, false, false, false, false, false, false, false, false, false, false, false, false, false, false, false, false, false, false, false, false, false, false, false, false, false, false, false, false, false, false, false, false, true, false, false, false, false, false, false, false, false, false, false, false, false, false, false, false, false, false, false, false, false, false, false, false, false, false, false, false, false, false, false, false, false, false, false, false, false, false, false, false, false, true, false, false, false, false, false, false, false, false, false, false, false, false]}, {\"title\": \"Time: 14.0s\"}], \"method\": \"update\"}, {\"args\": [{\"visible\": [true, true, true, false, false, false, false, false, false, false, false, false, false, false, false, false, false, false, false, false, false, false, false, false, false, false, false, false, false, false, false, false, true, false, false, false, false, false, false, false, false, false, false, false, false, false, false, false, false, false, false, false, false, false, false, false, false, false, false, false, false, false, false, false, false, false, false, false, false, false, false, false, false, true, false, false, false, false, false, false, false, false, false, false, false, false, false, false, false, false, false, false, false, false, false, false, false, false, false, false, false, false, false, false, false, false, false, false, false, false, false, false, false, false, true, false, false, false, false, false, false, false, false, false, false, false]}, {\"title\": \"Time: 14.5s\"}], \"method\": \"update\"}, {\"args\": [{\"visible\": [true, true, true, false, false, false, false, false, false, false, false, false, false, false, false, false, false, false, false, false, false, false, false, false, false, false, false, false, false, false, false, false, false, true, false, false, false, false, false, false, false, false, false, false, false, false, false, false, false, false, false, false, false, false, false, false, false, false, false, false, false, false, false, false, false, false, false, false, false, false, false, false, false, false, true, false, false, false, false, false, false, false, false, false, false, false, false, false, false, false, false, false, false, false, false, false, false, false, false, false, false, false, false, false, false, false, false, false, false, false, false, false, false, false, false, true, false, false, false, false, false, false, false, false, false, false]}, {\"title\": \"Time: 15.0s\"}], \"method\": \"update\"}, {\"args\": [{\"visible\": [true, true, true, false, false, false, false, false, false, false, false, false, false, false, false, false, false, false, false, false, false, false, false, false, false, false, false, false, false, false, false, false, false, false, true, false, false, false, false, false, false, false, false, false, false, false, false, false, false, false, false, false, false, false, false, false, false, false, false, false, false, false, false, false, false, false, false, false, false, false, false, false, false, false, false, true, false, false, false, false, false, false, false, false, false, false, false, false, false, false, false, false, false, false, false, false, false, false, false, false, false, false, false, false, false, false, false, false, false, false, false, false, false, false, false, false, true, false, false, false, false, false, false, false, false, false]}, {\"title\": \"Time: 15.5s\"}], \"method\": \"update\"}, {\"args\": [{\"visible\": [true, true, true, false, false, false, false, false, false, false, false, false, false, false, false, false, false, false, false, false, false, false, false, false, false, false, false, false, false, false, false, false, false, false, false, true, false, false, false, false, false, false, false, false, false, false, false, false, false, false, false, false, false, false, false, false, false, false, false, false, false, false, false, false, false, false, false, false, false, false, false, false, false, false, false, false, true, false, false, false, false, false, false, false, false, false, false, false, false, false, false, false, false, false, false, false, false, false, false, false, false, false, false, false, false, false, false, false, false, false, false, false, false, false, false, false, false, true, false, false, false, false, false, false, false, false]}, {\"title\": \"Time: 16.0s\"}], \"method\": \"update\"}, {\"args\": [{\"visible\": [true, true, true, false, false, false, false, false, false, false, false, false, false, false, false, false, false, false, false, false, false, false, false, false, false, false, false, false, false, false, false, false, false, false, false, false, true, false, false, false, false, false, false, false, false, false, false, false, false, false, false, false, false, false, false, false, false, false, false, false, false, false, false, false, false, false, false, false, false, false, false, false, false, false, false, false, false, true, false, false, false, false, false, false, false, false, false, false, false, false, false, false, false, false, false, false, false, false, false, false, false, false, false, false, false, false, false, false, false, false, false, false, false, false, false, false, false, false, true, false, false, false, false, false, false, false]}, {\"title\": \"Time: 16.5s\"}], \"method\": \"update\"}, {\"args\": [{\"visible\": [true, true, true, false, false, false, false, false, false, false, false, false, false, false, false, false, false, false, false, false, false, false, false, false, false, false, false, false, false, false, false, false, false, false, false, false, false, true, false, false, false, false, false, false, false, false, false, false, false, false, false, false, false, false, false, false, false, false, false, false, false, false, false, false, false, false, false, false, false, false, false, false, false, false, false, false, false, false, true, false, false, false, false, false, false, false, false, false, false, false, false, false, false, false, false, false, false, false, false, false, false, false, false, false, false, false, false, false, false, false, false, false, false, false, false, false, false, false, false, true, false, false, false, false, false, false]}, {\"title\": \"Time: 17.0s\"}], \"method\": \"update\"}, {\"args\": [{\"visible\": [true, true, true, false, false, false, false, false, false, false, false, false, false, false, false, false, false, false, false, false, false, false, false, false, false, false, false, false, false, false, false, false, false, false, false, false, false, false, true, false, false, false, false, false, false, false, false, false, false, false, false, false, false, false, false, false, false, false, false, false, false, false, false, false, false, false, false, false, false, false, false, false, false, false, false, false, false, false, false, true, false, false, false, false, false, false, false, false, false, false, false, false, false, false, false, false, false, false, false, false, false, false, false, false, false, false, false, false, false, false, false, false, false, false, false, false, false, false, false, false, true, false, false, false, false, false]}, {\"title\": \"Time: 17.5s\"}], \"method\": \"update\"}, {\"args\": [{\"visible\": [true, true, true, false, false, false, false, false, false, false, false, false, false, false, false, false, false, false, false, false, false, false, false, false, false, false, false, false, false, false, false, false, false, false, false, false, false, false, false, true, false, false, false, false, false, false, false, false, false, false, false, false, false, false, false, false, false, false, false, false, false, false, false, false, false, false, false, false, false, false, false, false, false, false, false, false, false, false, false, false, true, false, false, false, false, false, false, false, false, false, false, false, false, false, false, false, false, false, false, false, false, false, false, false, false, false, false, false, false, false, false, false, false, false, false, false, false, false, false, false, false, true, false, false, false, false]}, {\"title\": \"Time: 18.0s\"}], \"method\": \"update\"}, {\"args\": [{\"visible\": [true, true, true, false, false, false, false, false, false, false, false, false, false, false, false, false, false, false, false, false, false, false, false, false, false, false, false, false, false, false, false, false, false, false, false, false, false, false, false, false, true, false, false, false, false, false, false, false, false, false, false, false, false, false, false, false, false, false, false, false, false, false, false, false, false, false, false, false, false, false, false, false, false, false, false, false, false, false, false, false, false, true, false, false, false, false, false, false, false, false, false, false, false, false, false, false, false, false, false, false, false, false, false, false, false, false, false, false, false, false, false, false, false, false, false, false, false, false, false, false, false, false, true, false, false, false]}, {\"title\": \"Time: 18.5s\"}], \"method\": \"update\"}, {\"args\": [{\"visible\": [true, true, true, false, false, false, false, false, false, false, false, false, false, false, false, false, false, false, false, false, false, false, false, false, false, false, false, false, false, false, false, false, false, false, false, false, false, false, false, false, false, true, false, false, false, false, false, false, false, false, false, false, false, false, false, false, false, false, false, false, false, false, false, false, false, false, false, false, false, false, false, false, false, false, false, false, false, false, false, false, false, false, true, false, false, false, false, false, false, false, false, false, false, false, false, false, false, false, false, false, false, false, false, false, false, false, false, false, false, false, false, false, false, false, false, false, false, false, false, false, false, false, false, true, false, false]}, {\"title\": \"Time: 19.0s\"}], \"method\": \"update\"}, {\"args\": [{\"visible\": [true, true, true, false, false, false, false, false, false, false, false, false, false, false, false, false, false, false, false, false, false, false, false, false, false, false, false, false, false, false, false, false, false, false, false, false, false, false, false, false, false, false, true, false, false, false, false, false, false, false, false, false, false, false, false, false, false, false, false, false, false, false, false, false, false, false, false, false, false, false, false, false, false, false, false, false, false, false, false, false, false, false, false, true, false, false, false, false, false, false, false, false, false, false, false, false, false, false, false, false, false, false, false, false, false, false, false, false, false, false, false, false, false, false, false, false, false, false, false, false, false, false, false, false, true, false]}, {\"title\": \"Time: 19.5s\"}], \"method\": \"update\"}, {\"args\": [{\"visible\": [true, true, true, false, false, false, false, false, false, false, false, false, false, false, false, false, false, false, false, false, false, false, false, false, false, false, false, false, false, false, false, false, false, false, false, false, false, false, false, false, false, false, false, true, false, false, false, false, false, false, false, false, false, false, false, false, false, false, false, false, false, false, false, false, false, false, false, false, false, false, false, false, false, false, false, false, false, false, false, false, false, false, false, false, true, false, false, false, false, false, false, false, false, false, false, false, false, false, false, false, false, false, false, false, false, false, false, false, false, false, false, false, false, false, false, false, false, false, false, false, false, false, false, false, false, true]}, {\"title\": \"Time: 20.0s\"}], \"method\": \"update\"}]}], \"template\": {\"data\": {\"bar\": [{\"error_x\": {\"color\": \"#2a3f5f\"}, \"error_y\": {\"color\": \"#2a3f5f\"}, \"marker\": {\"line\": {\"color\": \"#E5ECF6\", \"width\": 0.5}}, \"type\": \"bar\"}], \"barpolar\": [{\"marker\": {\"line\": {\"color\": \"#E5ECF6\", \"width\": 0.5}}, \"type\": \"barpolar\"}], \"carpet\": [{\"aaxis\": {\"endlinecolor\": \"#2a3f5f\", \"gridcolor\": \"white\", \"linecolor\": \"white\", \"minorgridcolor\": \"white\", \"startlinecolor\": \"#2a3f5f\"}, \"baxis\": {\"endlinecolor\": \"#2a3f5f\", \"gridcolor\": \"white\", \"linecolor\": \"white\", \"minorgridcolor\": \"white\", \"startlinecolor\": \"#2a3f5f\"}, \"type\": \"carpet\"}], \"choropleth\": [{\"colorbar\": {\"outlinewidth\": 0, \"ticks\": \"\"}, \"type\": \"choropleth\"}], \"contour\": [{\"colorbar\": {\"outlinewidth\": 0, \"ticks\": \"\"}, \"colorscale\": [[0.0, \"#0d0887\"], [0.1111111111111111, \"#46039f\"], [0.2222222222222222, \"#7201a8\"], [0.3333333333333333, \"#9c179e\"], [0.4444444444444444, \"#bd3786\"], [0.5555555555555556, \"#d8576b\"], [0.6666666666666666, \"#ed7953\"], [0.7777777777777778, \"#fb9f3a\"], [0.8888888888888888, \"#fdca26\"], [1.0, \"#f0f921\"]], \"type\": \"contour\"}], \"contourcarpet\": [{\"colorbar\": {\"outlinewidth\": 0, \"ticks\": \"\"}, \"type\": \"contourcarpet\"}], \"heatmap\": [{\"colorbar\": {\"outlinewidth\": 0, \"ticks\": \"\"}, \"colorscale\": [[0.0, \"#0d0887\"], [0.1111111111111111, \"#46039f\"], [0.2222222222222222, \"#7201a8\"], [0.3333333333333333, \"#9c179e\"], [0.4444444444444444, \"#bd3786\"], [0.5555555555555556, \"#d8576b\"], [0.6666666666666666, \"#ed7953\"], [0.7777777777777778, \"#fb9f3a\"], [0.8888888888888888, \"#fdca26\"], [1.0, \"#f0f921\"]], \"type\": \"heatmap\"}], \"heatmapgl\": [{\"colorbar\": {\"outlinewidth\": 0, \"ticks\": \"\"}, \"colorscale\": [[0.0, \"#0d0887\"], [0.1111111111111111, \"#46039f\"], [0.2222222222222222, \"#7201a8\"], [0.3333333333333333, \"#9c179e\"], [0.4444444444444444, \"#bd3786\"], [0.5555555555555556, \"#d8576b\"], [0.6666666666666666, \"#ed7953\"], [0.7777777777777778, \"#fb9f3a\"], [0.8888888888888888, \"#fdca26\"], [1.0, \"#f0f921\"]], \"type\": \"heatmapgl\"}], \"histogram\": [{\"marker\": {\"colorbar\": {\"outlinewidth\": 0, \"ticks\": \"\"}}, \"type\": \"histogram\"}], \"histogram2d\": [{\"colorbar\": {\"outlinewidth\": 0, \"ticks\": \"\"}, \"colorscale\": [[0.0, \"#0d0887\"], [0.1111111111111111, \"#46039f\"], [0.2222222222222222, \"#7201a8\"], [0.3333333333333333, \"#9c179e\"], [0.4444444444444444, \"#bd3786\"], [0.5555555555555556, \"#d8576b\"], [0.6666666666666666, \"#ed7953\"], [0.7777777777777778, \"#fb9f3a\"], [0.8888888888888888, \"#fdca26\"], [1.0, \"#f0f921\"]], \"type\": \"histogram2d\"}], \"histogram2dcontour\": [{\"colorbar\": {\"outlinewidth\": 0, \"ticks\": \"\"}, \"colorscale\": [[0.0, \"#0d0887\"], [0.1111111111111111, \"#46039f\"], [0.2222222222222222, \"#7201a8\"], [0.3333333333333333, \"#9c179e\"], [0.4444444444444444, \"#bd3786\"], [0.5555555555555556, \"#d8576b\"], [0.6666666666666666, \"#ed7953\"], [0.7777777777777778, \"#fb9f3a\"], [0.8888888888888888, \"#fdca26\"], [1.0, \"#f0f921\"]], \"type\": \"histogram2dcontour\"}], \"mesh3d\": [{\"colorbar\": {\"outlinewidth\": 0, \"ticks\": \"\"}, \"type\": \"mesh3d\"}], \"parcoords\": [{\"line\": {\"colorbar\": {\"outlinewidth\": 0, \"ticks\": \"\"}}, \"type\": \"parcoords\"}], \"pie\": [{\"automargin\": true, \"type\": \"pie\"}], \"scatter\": [{\"marker\": {\"colorbar\": {\"outlinewidth\": 0, \"ticks\": \"\"}}, \"type\": \"scatter\"}], \"scatter3d\": [{\"line\": {\"colorbar\": {\"outlinewidth\": 0, \"ticks\": \"\"}}, \"marker\": {\"colorbar\": {\"outlinewidth\": 0, \"ticks\": \"\"}}, \"type\": \"scatter3d\"}], \"scattercarpet\": [{\"marker\": {\"colorbar\": {\"outlinewidth\": 0, \"ticks\": \"\"}}, \"type\": \"scattercarpet\"}], \"scattergeo\": [{\"marker\": {\"colorbar\": {\"outlinewidth\": 0, \"ticks\": \"\"}}, \"type\": \"scattergeo\"}], \"scattergl\": [{\"marker\": {\"colorbar\": {\"outlinewidth\": 0, \"ticks\": \"\"}}, \"type\": \"scattergl\"}], \"scattermapbox\": [{\"marker\": {\"colorbar\": {\"outlinewidth\": 0, \"ticks\": \"\"}}, \"type\": \"scattermapbox\"}], \"scatterpolar\": [{\"marker\": {\"colorbar\": {\"outlinewidth\": 0, \"ticks\": \"\"}}, \"type\": \"scatterpolar\"}], \"scatterpolargl\": [{\"marker\": {\"colorbar\": {\"outlinewidth\": 0, \"ticks\": \"\"}}, \"type\": \"scatterpolargl\"}], \"scatterternary\": [{\"marker\": {\"colorbar\": {\"outlinewidth\": 0, \"ticks\": \"\"}}, \"type\": \"scatterternary\"}], \"surface\": [{\"colorbar\": {\"outlinewidth\": 0, \"ticks\": \"\"}, \"colorscale\": [[0.0, \"#0d0887\"], [0.1111111111111111, \"#46039f\"], [0.2222222222222222, \"#7201a8\"], [0.3333333333333333, \"#9c179e\"], [0.4444444444444444, \"#bd3786\"], [0.5555555555555556, \"#d8576b\"], [0.6666666666666666, \"#ed7953\"], [0.7777777777777778, \"#fb9f3a\"], [0.8888888888888888, \"#fdca26\"], [1.0, \"#f0f921\"]], \"type\": \"surface\"}], \"table\": [{\"cells\": {\"fill\": {\"color\": \"#EBF0F8\"}, \"line\": {\"color\": \"white\"}}, \"header\": {\"fill\": {\"color\": \"#C8D4E3\"}, \"line\": {\"color\": \"white\"}}, \"type\": \"table\"}]}, \"layout\": {\"annotationdefaults\": {\"arrowcolor\": \"#2a3f5f\", \"arrowhead\": 0, \"arrowwidth\": 1}, \"coloraxis\": {\"colorbar\": {\"outlinewidth\": 0, \"ticks\": \"\"}}, \"colorscale\": {\"diverging\": [[0, \"#8e0152\"], [0.1, \"#c51b7d\"], [0.2, \"#de77ae\"], [0.3, \"#f1b6da\"], [0.4, \"#fde0ef\"], [0.5, \"#f7f7f7\"], [0.6, \"#e6f5d0\"], [0.7, \"#b8e186\"], [0.8, \"#7fbc41\"], [0.9, \"#4d9221\"], [1, \"#276419\"]], \"sequential\": [[0.0, \"#0d0887\"], [0.1111111111111111, \"#46039f\"], [0.2222222222222222, \"#7201a8\"], [0.3333333333333333, \"#9c179e\"], [0.4444444444444444, \"#bd3786\"], [0.5555555555555556, \"#d8576b\"], [0.6666666666666666, \"#ed7953\"], [0.7777777777777778, \"#fb9f3a\"], [0.8888888888888888, \"#fdca26\"], [1.0, \"#f0f921\"]], \"sequentialminus\": [[0.0, \"#0d0887\"], [0.1111111111111111, \"#46039f\"], [0.2222222222222222, \"#7201a8\"], [0.3333333333333333, \"#9c179e\"], [0.4444444444444444, \"#bd3786\"], [0.5555555555555556, \"#d8576b\"], [0.6666666666666666, \"#ed7953\"], [0.7777777777777778, \"#fb9f3a\"], [0.8888888888888888, \"#fdca26\"], [1.0, \"#f0f921\"]]}, \"colorway\": [\"#636efa\", \"#EF553B\", \"#00cc96\", \"#ab63fa\", \"#FFA15A\", \"#19d3f3\", \"#FF6692\", \"#B6E880\", \"#FF97FF\", \"#FECB52\"], \"font\": {\"color\": \"#2a3f5f\"}, \"geo\": {\"bgcolor\": \"white\", \"lakecolor\": \"white\", \"landcolor\": \"#E5ECF6\", \"showlakes\": true, \"showland\": true, \"subunitcolor\": \"white\"}, \"hoverlabel\": {\"align\": \"left\"}, \"hovermode\": \"closest\", \"mapbox\": {\"style\": \"light\"}, \"paper_bgcolor\": \"white\", \"plot_bgcolor\": \"#E5ECF6\", \"polar\": {\"angularaxis\": {\"gridcolor\": \"white\", \"linecolor\": \"white\", \"ticks\": \"\"}, \"bgcolor\": \"#E5ECF6\", \"radialaxis\": {\"gridcolor\": \"white\", \"linecolor\": \"white\", \"ticks\": \"\"}}, \"scene\": {\"xaxis\": {\"backgroundcolor\": \"#E5ECF6\", \"gridcolor\": \"white\", \"gridwidth\": 2, \"linecolor\": \"white\", \"showbackground\": true, \"ticks\": \"\", \"zerolinecolor\": \"white\"}, \"yaxis\": {\"backgroundcolor\": \"#E5ECF6\", \"gridcolor\": \"white\", \"gridwidth\": 2, \"linecolor\": \"white\", \"showbackground\": true, \"ticks\": \"\", \"zerolinecolor\": \"white\"}, \"zaxis\": {\"backgroundcolor\": \"#E5ECF6\", \"gridcolor\": \"white\", \"gridwidth\": 2, \"linecolor\": \"white\", \"showbackground\": true, \"ticks\": \"\", \"zerolinecolor\": \"white\"}}, \"shapedefaults\": {\"line\": {\"color\": \"#2a3f5f\"}}, \"ternary\": {\"aaxis\": {\"gridcolor\": \"white\", \"linecolor\": \"white\", \"ticks\": \"\"}, \"baxis\": {\"gridcolor\": \"white\", \"linecolor\": \"white\", \"ticks\": \"\"}, \"bgcolor\": \"#E5ECF6\", \"caxis\": {\"gridcolor\": \"white\", \"linecolor\": \"white\", \"ticks\": \"\"}}, \"title\": {\"x\": 0.05}, \"xaxis\": {\"automargin\": true, \"gridcolor\": \"white\", \"linecolor\": \"white\", \"ticks\": \"\", \"title\": {\"standoff\": 15}, \"zerolinecolor\": \"white\", \"zerolinewidth\": 2}, \"yaxis\": {\"automargin\": true, \"gridcolor\": \"white\", \"linecolor\": \"white\", \"ticks\": \"\", \"title\": {\"standoff\": 15}, \"zerolinecolor\": \"white\", \"zerolinewidth\": 2}}}, \"xaxis\": {\"anchor\": \"y\", \"domain\": [0.0, 0.2888888888888889]}, \"xaxis2\": {\"anchor\": \"y2\", \"domain\": [0.35555555555555557, 0.6444444444444445]}, \"xaxis3\": {\"anchor\": \"y3\", \"domain\": [0.7111111111111111, 1.0]}, \"yaxis\": {\"anchor\": \"x\", \"domain\": [0.0, 1.0]}, \"yaxis2\": {\"anchor\": \"x2\", \"domain\": [0.0, 1.0]}, \"yaxis3\": {\"anchor\": \"x3\", \"domain\": [0.0, 1.0]}},\n",
       "                        {\"responsive\": true}\n",
       "                    ).then(function(){\n",
       "                            \n",
       "var gd = document.getElementById('f8bfae8e-a9c0-419a-8e5d-a3db2f7ab828');\n",
       "var x = new MutationObserver(function (mutations, observer) {{\n",
       "        var display = window.getComputedStyle(gd).display;\n",
       "        if (!display || display === 'none') {{\n",
       "            console.log([gd, 'removed!']);\n",
       "            Plotly.purge(gd);\n",
       "            observer.disconnect();\n",
       "        }}\n",
       "}});\n",
       "\n",
       "// Listen for the removal of the full notebook cells\n",
       "var notebookContainer = gd.closest('#notebook-container');\n",
       "if (notebookContainer) {{\n",
       "    x.observe(notebookContainer, {childList: true});\n",
       "}}\n",
       "\n",
       "// Listen for the clearing of the current output cell\n",
       "var outputEl = gd.closest('.output');\n",
       "if (outputEl) {{\n",
       "    x.observe(outputEl, {childList: true});\n",
       "}}\n",
       "\n",
       "                        })\n",
       "                };\n",
       "                });\n",
       "            </script>\n",
       "        </div>"
      ]
     },
     "metadata": {},
     "output_type": "display_data"
    }
   ],
   "source": [
    "import plotly.graph_objects as go\n",
    "from plotly.subplots import make_subplots\n",
    "import numpy as np\n",
    "\n",
    "# Create figure\n",
    "fig = make_subplots(rows=1, cols = 3)\n",
    "fig = fig.add_trace(go.Scatter(\n",
    "            visible=False,\n",
    "            line=dict(color=\"#00CED1\", width=6),\n",
    "            x=myCar.posx,\n",
    "            y=myCar.posy),\n",
    "            row = 1, col = 1)\n",
    "fig = fig.add_trace(go.Scatter(\n",
    "            visible=False,\n",
    "            line=dict(color=\"#00CED1\", width=6),\n",
    "            x=myCar.speedx,\n",
    "            y=myCar.speedy),\n",
    "            row = 1, col = 2)\n",
    "fig = fig.add_trace(go.Scatter(\n",
    "            visible=False,\n",
    "            line=dict(color=\"#00CED1\", width=6),\n",
    "            x=myCar.accelerationx,\n",
    "            y=myCar.accelerationy),\n",
    "            row = 1, col = 3)\n",
    "# Add traces, one for each slider step\n",
    "for i in range(len(l)):\n",
    "    fig.add_scatter(x=[myCar.posx[i]], y=[myCar.posy[i]], mode='markers', line=dict(color=\"red\", width = 10), row = 1, col = 1)\n",
    "\n",
    "for i in range(len(l)):\n",
    "    fig.add_scatter(x=[myCar.speedx[i]], y=[myCar.speedy[i]], mode='markers',line=dict(color=\"red\", width = 10), row = 1, col = 2)\n",
    "\n",
    "for i in range(len(l)):\n",
    "    fig.add_scatter(x=[myCar.accelerationx[i]], y=[myCar.accelerationy[i]], mode='markers', line=dict(color=\"red\", width = 10),row = 1, col = 3)\n",
    "\n",
    "# Add traces, one for each slider step\n",
    "\n",
    "# Create and add slider\n",
    "steps = []\n",
    "for i in range(len(l)):\n",
    "    step = dict(\n",
    "        method=\"update\",\n",
    "        args=[{\"visible\": [False] * len(fig.data)},\n",
    "              {\"title\": \"Time: \" + str(time_set[i]) +\"s\"}],  # layout attribute\n",
    "    )\n",
    "    step[\"args\"][0][\"visible\"][0] = True  # Toggle i'th trace to \"visible\"\n",
    "    step[\"args\"][0][\"visible\"][1] = True\n",
    "    step[\"args\"][0][\"visible\"][2] = True\n",
    "    step[\"args\"][0][\"visible\"][i+3] = True\n",
    "    step[\"args\"][0][\"visible\"][i+44] = True\n",
    "    step[\"args\"][0][\"visible\"][i+85] = True\n",
    "    steps.append(step)\n",
    "\n",
    "sliders = [dict(\n",
    "    active=10,\n",
    "    currentvalue={\"prefix\": \"Time: \"},\n",
    "    pad={\"t\": 50},\n",
    "    steps=steps\n",
    ")]\n",
    "\n",
    "fig.update_layout(\n",
    "    sliders=sliders\n",
    ")\n",
    "\n",
    "fig.show()"
   ]
  },
  {
   "cell_type": "code",
   "execution_count": 30,
   "metadata": {
    "pycharm": {
     "is_executing": false
    }
   },
   "outputs": [
    {
     "data": {
      "application/vnd.plotly.v1+json": {
       "config": {
        "plotlyServerURL": "https://plot.ly"
       },
       "data": [
        {
         "line": {
          "color": "blue",
          "width": 2
         },
         "mode": "lines",
         "type": "scatter",
         "x": [
          0,
          0,
          0,
          0,
          0,
          0,
          0,
          0,
          0,
          0,
          0,
          0,
          0,
          0,
          0,
          0,
          0,
          0,
          0,
          0,
          0,
          0,
          0,
          0,
          0,
          0,
          0,
          0,
          0,
          0,
          0,
          0,
          0,
          0,
          0,
          0,
          0,
          0,
          0,
          0,
          0
         ],
         "y": [
          0,
          0,
          0,
          0,
          0,
          0,
          0,
          0,
          0,
          0,
          0,
          0,
          0,
          0,
          0,
          0,
          0,
          0,
          0,
          0,
          0,
          0,
          0,
          0,
          0,
          0,
          0,
          0,
          0,
          0,
          0,
          0,
          0,
          0,
          0,
          0,
          0,
          0,
          0,
          0,
          0
         ]
        },
        {
         "line": {
          "color": "blue",
          "width": 2
         },
         "mode": "lines",
         "type": "scatter",
         "x": [
          0,
          0,
          0,
          0,
          0,
          0,
          0,
          0,
          0,
          0,
          0,
          0,
          0,
          0,
          0,
          0,
          0,
          0,
          0,
          0,
          0,
          0,
          0,
          0,
          0,
          0,
          0,
          0,
          0,
          0,
          0,
          0,
          0,
          0,
          0,
          0,
          0,
          0,
          0,
          0,
          0
         ],
         "y": [
          0,
          0,
          0,
          0,
          0,
          0,
          0,
          0,
          0,
          0,
          0,
          0,
          0,
          0,
          0,
          0,
          0,
          0,
          0,
          0,
          0,
          0,
          0,
          0,
          0,
          0,
          0,
          0,
          0,
          0,
          0,
          0,
          0,
          0,
          0,
          0,
          0,
          0,
          0,
          0,
          0
         ]
        }
       ],
       "frames": [
        {
         "data": [
          {
           "marker": {
            "color": "red",
            "size": 10
           },
           "mode": "markers",
           "type": "scatter",
           "x": [
            0
           ],
           "y": [
            0
           ]
          }
         ]
        },
        {
         "data": [
          {
           "marker": {
            "color": "red",
            "size": 10
           },
           "mode": "markers",
           "type": "scatter",
           "x": [
            0
           ],
           "y": [
            0
           ]
          }
         ]
        },
        {
         "data": [
          {
           "marker": {
            "color": "red",
            "size": 10
           },
           "mode": "markers",
           "type": "scatter",
           "x": [
            0
           ],
           "y": [
            0
           ]
          }
         ]
        },
        {
         "data": [
          {
           "marker": {
            "color": "red",
            "size": 10
           },
           "mode": "markers",
           "type": "scatter",
           "x": [
            0
           ],
           "y": [
            0
           ]
          }
         ]
        },
        {
         "data": [
          {
           "marker": {
            "color": "red",
            "size": 10
           },
           "mode": "markers",
           "type": "scatter",
           "x": [
            0
           ],
           "y": [
            0
           ]
          }
         ]
        },
        {
         "data": [
          {
           "marker": {
            "color": "red",
            "size": 10
           },
           "mode": "markers",
           "type": "scatter",
           "x": [
            0
           ],
           "y": [
            0
           ]
          }
         ]
        },
        {
         "data": [
          {
           "marker": {
            "color": "red",
            "size": 10
           },
           "mode": "markers",
           "type": "scatter",
           "x": [
            0
           ],
           "y": [
            0
           ]
          }
         ]
        },
        {
         "data": [
          {
           "marker": {
            "color": "red",
            "size": 10
           },
           "mode": "markers",
           "type": "scatter",
           "x": [
            0
           ],
           "y": [
            0
           ]
          }
         ]
        },
        {
         "data": [
          {
           "marker": {
            "color": "red",
            "size": 10
           },
           "mode": "markers",
           "type": "scatter",
           "x": [
            0
           ],
           "y": [
            0
           ]
          }
         ]
        },
        {
         "data": [
          {
           "marker": {
            "color": "red",
            "size": 10
           },
           "mode": "markers",
           "type": "scatter",
           "x": [
            0
           ],
           "y": [
            0
           ]
          }
         ]
        },
        {
         "data": [
          {
           "marker": {
            "color": "red",
            "size": 10
           },
           "mode": "markers",
           "type": "scatter",
           "x": [
            0
           ],
           "y": [
            0
           ]
          }
         ]
        },
        {
         "data": [
          {
           "marker": {
            "color": "red",
            "size": 10
           },
           "mode": "markers",
           "type": "scatter",
           "x": [
            0
           ],
           "y": [
            0
           ]
          }
         ]
        },
        {
         "data": [
          {
           "marker": {
            "color": "red",
            "size": 10
           },
           "mode": "markers",
           "type": "scatter",
           "x": [
            0
           ],
           "y": [
            0
           ]
          }
         ]
        },
        {
         "data": [
          {
           "marker": {
            "color": "red",
            "size": 10
           },
           "mode": "markers",
           "type": "scatter",
           "x": [
            0
           ],
           "y": [
            0
           ]
          }
         ]
        },
        {
         "data": [
          {
           "marker": {
            "color": "red",
            "size": 10
           },
           "mode": "markers",
           "type": "scatter",
           "x": [
            0
           ],
           "y": [
            0
           ]
          }
         ]
        },
        {
         "data": [
          {
           "marker": {
            "color": "red",
            "size": 10
           },
           "mode": "markers",
           "type": "scatter",
           "x": [
            0
           ],
           "y": [
            0
           ]
          }
         ]
        },
        {
         "data": [
          {
           "marker": {
            "color": "red",
            "size": 10
           },
           "mode": "markers",
           "type": "scatter",
           "x": [
            0
           ],
           "y": [
            0
           ]
          }
         ]
        },
        {
         "data": [
          {
           "marker": {
            "color": "red",
            "size": 10
           },
           "mode": "markers",
           "type": "scatter",
           "x": [
            0
           ],
           "y": [
            0
           ]
          }
         ]
        },
        {
         "data": [
          {
           "marker": {
            "color": "red",
            "size": 10
           },
           "mode": "markers",
           "type": "scatter",
           "x": [
            0
           ],
           "y": [
            0
           ]
          }
         ]
        },
        {
         "data": [
          {
           "marker": {
            "color": "red",
            "size": 10
           },
           "mode": "markers",
           "type": "scatter",
           "x": [
            0
           ],
           "y": [
            0
           ]
          }
         ]
        },
        {
         "data": [
          {
           "marker": {
            "color": "red",
            "size": 10
           },
           "mode": "markers",
           "type": "scatter",
           "x": [
            0
           ],
           "y": [
            0
           ]
          }
         ]
        },
        {
         "data": [
          {
           "marker": {
            "color": "red",
            "size": 10
           },
           "mode": "markers",
           "type": "scatter",
           "x": [
            0
           ],
           "y": [
            0
           ]
          }
         ]
        },
        {
         "data": [
          {
           "marker": {
            "color": "red",
            "size": 10
           },
           "mode": "markers",
           "type": "scatter",
           "x": [
            0
           ],
           "y": [
            0
           ]
          }
         ]
        },
        {
         "data": [
          {
           "marker": {
            "color": "red",
            "size": 10
           },
           "mode": "markers",
           "type": "scatter",
           "x": [
            0
           ],
           "y": [
            0
           ]
          }
         ]
        },
        {
         "data": [
          {
           "marker": {
            "color": "red",
            "size": 10
           },
           "mode": "markers",
           "type": "scatter",
           "x": [
            0
           ],
           "y": [
            0
           ]
          }
         ]
        },
        {
         "data": [
          {
           "marker": {
            "color": "red",
            "size": 10
           },
           "mode": "markers",
           "type": "scatter",
           "x": [
            0
           ],
           "y": [
            0
           ]
          }
         ]
        },
        {
         "data": [
          {
           "marker": {
            "color": "red",
            "size": 10
           },
           "mode": "markers",
           "type": "scatter",
           "x": [
            0
           ],
           "y": [
            0
           ]
          }
         ]
        },
        {
         "data": [
          {
           "marker": {
            "color": "red",
            "size": 10
           },
           "mode": "markers",
           "type": "scatter",
           "x": [
            0
           ],
           "y": [
            0
           ]
          }
         ]
        },
        {
         "data": [
          {
           "marker": {
            "color": "red",
            "size": 10
           },
           "mode": "markers",
           "type": "scatter",
           "x": [
            0
           ],
           "y": [
            0
           ]
          }
         ]
        },
        {
         "data": [
          {
           "marker": {
            "color": "red",
            "size": 10
           },
           "mode": "markers",
           "type": "scatter",
           "x": [
            0
           ],
           "y": [
            0
           ]
          }
         ]
        },
        {
         "data": [
          {
           "marker": {
            "color": "red",
            "size": 10
           },
           "mode": "markers",
           "type": "scatter",
           "x": [
            0
           ],
           "y": [
            0
           ]
          }
         ]
        },
        {
         "data": [
          {
           "marker": {
            "color": "red",
            "size": 10
           },
           "mode": "markers",
           "type": "scatter",
           "x": [
            0
           ],
           "y": [
            0
           ]
          }
         ]
        },
        {
         "data": [
          {
           "marker": {
            "color": "red",
            "size": 10
           },
           "mode": "markers",
           "type": "scatter",
           "x": [
            0
           ],
           "y": [
            0
           ]
          }
         ]
        },
        {
         "data": [
          {
           "marker": {
            "color": "red",
            "size": 10
           },
           "mode": "markers",
           "type": "scatter",
           "x": [
            0
           ],
           "y": [
            0
           ]
          }
         ]
        },
        {
         "data": [
          {
           "marker": {
            "color": "red",
            "size": 10
           },
           "mode": "markers",
           "type": "scatter",
           "x": [
            0
           ],
           "y": [
            0
           ]
          }
         ]
        },
        {
         "data": [
          {
           "marker": {
            "color": "red",
            "size": 10
           },
           "mode": "markers",
           "type": "scatter",
           "x": [
            0
           ],
           "y": [
            0
           ]
          }
         ]
        },
        {
         "data": [
          {
           "marker": {
            "color": "red",
            "size": 10
           },
           "mode": "markers",
           "type": "scatter",
           "x": [
            0
           ],
           "y": [
            0
           ]
          }
         ]
        },
        {
         "data": [
          {
           "marker": {
            "color": "red",
            "size": 10
           },
           "mode": "markers",
           "type": "scatter",
           "x": [
            0
           ],
           "y": [
            0
           ]
          }
         ]
        },
        {
         "data": [
          {
           "marker": {
            "color": "red",
            "size": 10
           },
           "mode": "markers",
           "type": "scatter",
           "x": [
            0
           ],
           "y": [
            0
           ]
          }
         ]
        },
        {
         "data": [
          {
           "marker": {
            "color": "red",
            "size": 10
           },
           "mode": "markers",
           "type": "scatter",
           "x": [
            0
           ],
           "y": [
            0
           ]
          }
         ]
        },
        {
         "data": [
          {
           "marker": {
            "color": "red",
            "size": 10
           },
           "mode": "markers",
           "type": "scatter",
           "x": [
            0
           ],
           "y": [
            0
           ]
          }
         ]
        }
       ],
       "layout": {
        "hovermode": "closest",
        "template": {
         "data": {
          "bar": [
           {
            "error_x": {
             "color": "#2a3f5f"
            },
            "error_y": {
             "color": "#2a3f5f"
            },
            "marker": {
             "line": {
              "color": "#E5ECF6",
              "width": 0.5
             }
            },
            "type": "bar"
           }
          ],
          "barpolar": [
           {
            "marker": {
             "line": {
              "color": "#E5ECF6",
              "width": 0.5
             }
            },
            "type": "barpolar"
           }
          ],
          "carpet": [
           {
            "aaxis": {
             "endlinecolor": "#2a3f5f",
             "gridcolor": "white",
             "linecolor": "white",
             "minorgridcolor": "white",
             "startlinecolor": "#2a3f5f"
            },
            "baxis": {
             "endlinecolor": "#2a3f5f",
             "gridcolor": "white",
             "linecolor": "white",
             "minorgridcolor": "white",
             "startlinecolor": "#2a3f5f"
            },
            "type": "carpet"
           }
          ],
          "choropleth": [
           {
            "colorbar": {
             "outlinewidth": 0,
             "ticks": ""
            },
            "type": "choropleth"
           }
          ],
          "contour": [
           {
            "colorbar": {
             "outlinewidth": 0,
             "ticks": ""
            },
            "colorscale": [
             [
              0,
              "#0d0887"
             ],
             [
              0.1111111111111111,
              "#46039f"
             ],
             [
              0.2222222222222222,
              "#7201a8"
             ],
             [
              0.3333333333333333,
              "#9c179e"
             ],
             [
              0.4444444444444444,
              "#bd3786"
             ],
             [
              0.5555555555555556,
              "#d8576b"
             ],
             [
              0.6666666666666666,
              "#ed7953"
             ],
             [
              0.7777777777777778,
              "#fb9f3a"
             ],
             [
              0.8888888888888888,
              "#fdca26"
             ],
             [
              1,
              "#f0f921"
             ]
            ],
            "type": "contour"
           }
          ],
          "contourcarpet": [
           {
            "colorbar": {
             "outlinewidth": 0,
             "ticks": ""
            },
            "type": "contourcarpet"
           }
          ],
          "heatmap": [
           {
            "colorbar": {
             "outlinewidth": 0,
             "ticks": ""
            },
            "colorscale": [
             [
              0,
              "#0d0887"
             ],
             [
              0.1111111111111111,
              "#46039f"
             ],
             [
              0.2222222222222222,
              "#7201a8"
             ],
             [
              0.3333333333333333,
              "#9c179e"
             ],
             [
              0.4444444444444444,
              "#bd3786"
             ],
             [
              0.5555555555555556,
              "#d8576b"
             ],
             [
              0.6666666666666666,
              "#ed7953"
             ],
             [
              0.7777777777777778,
              "#fb9f3a"
             ],
             [
              0.8888888888888888,
              "#fdca26"
             ],
             [
              1,
              "#f0f921"
             ]
            ],
            "type": "heatmap"
           }
          ],
          "heatmapgl": [
           {
            "colorbar": {
             "outlinewidth": 0,
             "ticks": ""
            },
            "colorscale": [
             [
              0,
              "#0d0887"
             ],
             [
              0.1111111111111111,
              "#46039f"
             ],
             [
              0.2222222222222222,
              "#7201a8"
             ],
             [
              0.3333333333333333,
              "#9c179e"
             ],
             [
              0.4444444444444444,
              "#bd3786"
             ],
             [
              0.5555555555555556,
              "#d8576b"
             ],
             [
              0.6666666666666666,
              "#ed7953"
             ],
             [
              0.7777777777777778,
              "#fb9f3a"
             ],
             [
              0.8888888888888888,
              "#fdca26"
             ],
             [
              1,
              "#f0f921"
             ]
            ],
            "type": "heatmapgl"
           }
          ],
          "histogram": [
           {
            "marker": {
             "colorbar": {
              "outlinewidth": 0,
              "ticks": ""
             }
            },
            "type": "histogram"
           }
          ],
          "histogram2d": [
           {
            "colorbar": {
             "outlinewidth": 0,
             "ticks": ""
            },
            "colorscale": [
             [
              0,
              "#0d0887"
             ],
             [
              0.1111111111111111,
              "#46039f"
             ],
             [
              0.2222222222222222,
              "#7201a8"
             ],
             [
              0.3333333333333333,
              "#9c179e"
             ],
             [
              0.4444444444444444,
              "#bd3786"
             ],
             [
              0.5555555555555556,
              "#d8576b"
             ],
             [
              0.6666666666666666,
              "#ed7953"
             ],
             [
              0.7777777777777778,
              "#fb9f3a"
             ],
             [
              0.8888888888888888,
              "#fdca26"
             ],
             [
              1,
              "#f0f921"
             ]
            ],
            "type": "histogram2d"
           }
          ],
          "histogram2dcontour": [
           {
            "colorbar": {
             "outlinewidth": 0,
             "ticks": ""
            },
            "colorscale": [
             [
              0,
              "#0d0887"
             ],
             [
              0.1111111111111111,
              "#46039f"
             ],
             [
              0.2222222222222222,
              "#7201a8"
             ],
             [
              0.3333333333333333,
              "#9c179e"
             ],
             [
              0.4444444444444444,
              "#bd3786"
             ],
             [
              0.5555555555555556,
              "#d8576b"
             ],
             [
              0.6666666666666666,
              "#ed7953"
             ],
             [
              0.7777777777777778,
              "#fb9f3a"
             ],
             [
              0.8888888888888888,
              "#fdca26"
             ],
             [
              1,
              "#f0f921"
             ]
            ],
            "type": "histogram2dcontour"
           }
          ],
          "mesh3d": [
           {
            "colorbar": {
             "outlinewidth": 0,
             "ticks": ""
            },
            "type": "mesh3d"
           }
          ],
          "parcoords": [
           {
            "line": {
             "colorbar": {
              "outlinewidth": 0,
              "ticks": ""
             }
            },
            "type": "parcoords"
           }
          ],
          "pie": [
           {
            "automargin": true,
            "type": "pie"
           }
          ],
          "scatter": [
           {
            "marker": {
             "colorbar": {
              "outlinewidth": 0,
              "ticks": ""
             }
            },
            "type": "scatter"
           }
          ],
          "scatter3d": [
           {
            "line": {
             "colorbar": {
              "outlinewidth": 0,
              "ticks": ""
             }
            },
            "marker": {
             "colorbar": {
              "outlinewidth": 0,
              "ticks": ""
             }
            },
            "type": "scatter3d"
           }
          ],
          "scattercarpet": [
           {
            "marker": {
             "colorbar": {
              "outlinewidth": 0,
              "ticks": ""
             }
            },
            "type": "scattercarpet"
           }
          ],
          "scattergeo": [
           {
            "marker": {
             "colorbar": {
              "outlinewidth": 0,
              "ticks": ""
             }
            },
            "type": "scattergeo"
           }
          ],
          "scattergl": [
           {
            "marker": {
             "colorbar": {
              "outlinewidth": 0,
              "ticks": ""
             }
            },
            "type": "scattergl"
           }
          ],
          "scattermapbox": [
           {
            "marker": {
             "colorbar": {
              "outlinewidth": 0,
              "ticks": ""
             }
            },
            "type": "scattermapbox"
           }
          ],
          "scatterpolar": [
           {
            "marker": {
             "colorbar": {
              "outlinewidth": 0,
              "ticks": ""
             }
            },
            "type": "scatterpolar"
           }
          ],
          "scatterpolargl": [
           {
            "marker": {
             "colorbar": {
              "outlinewidth": 0,
              "ticks": ""
             }
            },
            "type": "scatterpolargl"
           }
          ],
          "scatterternary": [
           {
            "marker": {
             "colorbar": {
              "outlinewidth": 0,
              "ticks": ""
             }
            },
            "type": "scatterternary"
           }
          ],
          "surface": [
           {
            "colorbar": {
             "outlinewidth": 0,
             "ticks": ""
            },
            "colorscale": [
             [
              0,
              "#0d0887"
             ],
             [
              0.1111111111111111,
              "#46039f"
             ],
             [
              0.2222222222222222,
              "#7201a8"
             ],
             [
              0.3333333333333333,
              "#9c179e"
             ],
             [
              0.4444444444444444,
              "#bd3786"
             ],
             [
              0.5555555555555556,
              "#d8576b"
             ],
             [
              0.6666666666666666,
              "#ed7953"
             ],
             [
              0.7777777777777778,
              "#fb9f3a"
             ],
             [
              0.8888888888888888,
              "#fdca26"
             ],
             [
              1,
              "#f0f921"
             ]
            ],
            "type": "surface"
           }
          ],
          "table": [
           {
            "cells": {
             "fill": {
              "color": "#EBF0F8"
             },
             "line": {
              "color": "white"
             }
            },
            "header": {
             "fill": {
              "color": "#C8D4E3"
             },
             "line": {
              "color": "white"
             }
            },
            "type": "table"
           }
          ]
         },
         "layout": {
          "annotationdefaults": {
           "arrowcolor": "#2a3f5f",
           "arrowhead": 0,
           "arrowwidth": 1
          },
          "coloraxis": {
           "colorbar": {
            "outlinewidth": 0,
            "ticks": ""
           }
          },
          "colorscale": {
           "diverging": [
            [
             0,
             "#8e0152"
            ],
            [
             0.1,
             "#c51b7d"
            ],
            [
             0.2,
             "#de77ae"
            ],
            [
             0.3,
             "#f1b6da"
            ],
            [
             0.4,
             "#fde0ef"
            ],
            [
             0.5,
             "#f7f7f7"
            ],
            [
             0.6,
             "#e6f5d0"
            ],
            [
             0.7,
             "#b8e186"
            ],
            [
             0.8,
             "#7fbc41"
            ],
            [
             0.9,
             "#4d9221"
            ],
            [
             1,
             "#276419"
            ]
           ],
           "sequential": [
            [
             0,
             "#0d0887"
            ],
            [
             0.1111111111111111,
             "#46039f"
            ],
            [
             0.2222222222222222,
             "#7201a8"
            ],
            [
             0.3333333333333333,
             "#9c179e"
            ],
            [
             0.4444444444444444,
             "#bd3786"
            ],
            [
             0.5555555555555556,
             "#d8576b"
            ],
            [
             0.6666666666666666,
             "#ed7953"
            ],
            [
             0.7777777777777778,
             "#fb9f3a"
            ],
            [
             0.8888888888888888,
             "#fdca26"
            ],
            [
             1,
             "#f0f921"
            ]
           ],
           "sequentialminus": [
            [
             0,
             "#0d0887"
            ],
            [
             0.1111111111111111,
             "#46039f"
            ],
            [
             0.2222222222222222,
             "#7201a8"
            ],
            [
             0.3333333333333333,
             "#9c179e"
            ],
            [
             0.4444444444444444,
             "#bd3786"
            ],
            [
             0.5555555555555556,
             "#d8576b"
            ],
            [
             0.6666666666666666,
             "#ed7953"
            ],
            [
             0.7777777777777778,
             "#fb9f3a"
            ],
            [
             0.8888888888888888,
             "#fdca26"
            ],
            [
             1,
             "#f0f921"
            ]
           ]
          },
          "colorway": [
           "#636efa",
           "#EF553B",
           "#00cc96",
           "#ab63fa",
           "#FFA15A",
           "#19d3f3",
           "#FF6692",
           "#B6E880",
           "#FF97FF",
           "#FECB52"
          ],
          "font": {
           "color": "#2a3f5f"
          },
          "geo": {
           "bgcolor": "white",
           "lakecolor": "white",
           "landcolor": "#E5ECF6",
           "showlakes": true,
           "showland": true,
           "subunitcolor": "white"
          },
          "hoverlabel": {
           "align": "left"
          },
          "hovermode": "closest",
          "mapbox": {
           "style": "light"
          },
          "paper_bgcolor": "white",
          "plot_bgcolor": "#E5ECF6",
          "polar": {
           "angularaxis": {
            "gridcolor": "white",
            "linecolor": "white",
            "ticks": ""
           },
           "bgcolor": "#E5ECF6",
           "radialaxis": {
            "gridcolor": "white",
            "linecolor": "white",
            "ticks": ""
           }
          },
          "scene": {
           "xaxis": {
            "backgroundcolor": "#E5ECF6",
            "gridcolor": "white",
            "gridwidth": 2,
            "linecolor": "white",
            "showbackground": true,
            "ticks": "",
            "zerolinecolor": "white"
           },
           "yaxis": {
            "backgroundcolor": "#E5ECF6",
            "gridcolor": "white",
            "gridwidth": 2,
            "linecolor": "white",
            "showbackground": true,
            "ticks": "",
            "zerolinecolor": "white"
           },
           "zaxis": {
            "backgroundcolor": "#E5ECF6",
            "gridcolor": "white",
            "gridwidth": 2,
            "linecolor": "white",
            "showbackground": true,
            "ticks": "",
            "zerolinecolor": "white"
           }
          },
          "shapedefaults": {
           "line": {
            "color": "#2a3f5f"
           }
          },
          "ternary": {
           "aaxis": {
            "gridcolor": "white",
            "linecolor": "white",
            "ticks": ""
           },
           "baxis": {
            "gridcolor": "white",
            "linecolor": "white",
            "ticks": ""
           },
           "bgcolor": "#E5ECF6",
           "caxis": {
            "gridcolor": "white",
            "linecolor": "white",
            "ticks": ""
           }
          },
          "title": {
           "x": 0.05
          },
          "xaxis": {
           "automargin": true,
           "gridcolor": "white",
           "linecolor": "white",
           "ticks": "",
           "title": {
            "standoff": 15
           },
           "zerolinecolor": "white",
           "zerolinewidth": 2
          },
          "yaxis": {
           "automargin": true,
           "gridcolor": "white",
           "linecolor": "white",
           "ticks": "",
           "title": {
            "standoff": 15
           },
           "zerolinecolor": "white",
           "zerolinewidth": 2
          }
         }
        },
        "title": {
         "text": "Kinematic Generation of a Planar Curve"
        },
        "updatemenus": [
         {
          "buttons": [
           {
            "args": [
             null
            ],
            "label": "Play",
            "method": "animate"
           }
          ],
          "type": "buttons"
         }
        ]
       }
      },
      "text/html": [
       "<div>\n",
       "        \n",
       "        \n",
       "            <div id=\"bc26d664-9222-4931-a212-b5b3729ba70b\" class=\"plotly-graph-div\" style=\"height:525px; width:100%;\"></div>\n",
       "            <script type=\"text/javascript\">\n",
       "                require([\"plotly\"], function(Plotly) {\n",
       "                    window.PLOTLYENV=window.PLOTLYENV || {};\n",
       "                    \n",
       "                if (document.getElementById(\"bc26d664-9222-4931-a212-b5b3729ba70b\")) {\n",
       "                    Plotly.newPlot(\n",
       "                        'bc26d664-9222-4931-a212-b5b3729ba70b',\n",
       "                        [{\"line\": {\"color\": \"blue\", \"width\": 2}, \"mode\": \"lines\", \"type\": \"scatter\", \"x\": [0.0, 0.0, 0.0, 0.0, 0.0, 0.0, 0.0, 0.0, 0.0, 0.0, 0.0, 0.0, 0.0, 0.0, 0.0, 0.0, 0.0, 0.0, 0.0, 0.0, 0.0, 0.0, 0.0, 0.0, 0.0, 0.0, 0.0, 0.0, 0.0, 0.0, 0.0, 0.0, 0.0, 0.0, 0.0, 0.0, 0.0, 0.0, 0.0, 0.0, 0.0], \"y\": [0.0, 0.0, 0.0, 0.0, 0.0, 0.0, 0.0, 0.0, 0.0, 0.0, 0.0, 0.0, 0.0, 0.0, 0.0, 0.0, 0.0, 0.0, 0.0, 0.0, 0.0, 0.0, 0.0, 0.0, 0.0, 0.0, 0.0, 0.0, 0.0, 0.0, 0.0, 0.0, 0.0, 0.0, 0.0, 0.0, 0.0, 0.0, 0.0, 0.0, 0.0]}, {\"line\": {\"color\": \"blue\", \"width\": 2}, \"mode\": \"lines\", \"type\": \"scatter\", \"x\": [0.0, 0.0, 0.0, 0.0, 0.0, 0.0, 0.0, 0.0, 0.0, 0.0, 0.0, 0.0, 0.0, 0.0, 0.0, 0.0, 0.0, 0.0, 0.0, 0.0, 0.0, 0.0, 0.0, 0.0, 0.0, 0.0, 0.0, 0.0, 0.0, 0.0, 0.0, 0.0, 0.0, 0.0, 0.0, 0.0, 0.0, 0.0, 0.0, 0.0, 0.0], \"y\": [0.0, 0.0, 0.0, 0.0, 0.0, 0.0, 0.0, 0.0, 0.0, 0.0, 0.0, 0.0, 0.0, 0.0, 0.0, 0.0, 0.0, 0.0, 0.0, 0.0, 0.0, 0.0, 0.0, 0.0, 0.0, 0.0, 0.0, 0.0, 0.0, 0.0, 0.0, 0.0, 0.0, 0.0, 0.0, 0.0, 0.0, 0.0, 0.0, 0.0, 0.0]}],\n",
       "                        {\"hovermode\": \"closest\", \"template\": {\"data\": {\"bar\": [{\"error_x\": {\"color\": \"#2a3f5f\"}, \"error_y\": {\"color\": \"#2a3f5f\"}, \"marker\": {\"line\": {\"color\": \"#E5ECF6\", \"width\": 0.5}}, \"type\": \"bar\"}], \"barpolar\": [{\"marker\": {\"line\": {\"color\": \"#E5ECF6\", \"width\": 0.5}}, \"type\": \"barpolar\"}], \"carpet\": [{\"aaxis\": {\"endlinecolor\": \"#2a3f5f\", \"gridcolor\": \"white\", \"linecolor\": \"white\", \"minorgridcolor\": \"white\", \"startlinecolor\": \"#2a3f5f\"}, \"baxis\": {\"endlinecolor\": \"#2a3f5f\", \"gridcolor\": \"white\", \"linecolor\": \"white\", \"minorgridcolor\": \"white\", \"startlinecolor\": \"#2a3f5f\"}, \"type\": \"carpet\"}], \"choropleth\": [{\"colorbar\": {\"outlinewidth\": 0, \"ticks\": \"\"}, \"type\": \"choropleth\"}], \"contour\": [{\"colorbar\": {\"outlinewidth\": 0, \"ticks\": \"\"}, \"colorscale\": [[0.0, \"#0d0887\"], [0.1111111111111111, \"#46039f\"], [0.2222222222222222, \"#7201a8\"], [0.3333333333333333, \"#9c179e\"], [0.4444444444444444, \"#bd3786\"], [0.5555555555555556, \"#d8576b\"], [0.6666666666666666, \"#ed7953\"], [0.7777777777777778, \"#fb9f3a\"], [0.8888888888888888, \"#fdca26\"], [1.0, \"#f0f921\"]], \"type\": \"contour\"}], \"contourcarpet\": [{\"colorbar\": {\"outlinewidth\": 0, \"ticks\": \"\"}, \"type\": \"contourcarpet\"}], \"heatmap\": [{\"colorbar\": {\"outlinewidth\": 0, \"ticks\": \"\"}, \"colorscale\": [[0.0, \"#0d0887\"], [0.1111111111111111, \"#46039f\"], [0.2222222222222222, \"#7201a8\"], [0.3333333333333333, \"#9c179e\"], [0.4444444444444444, \"#bd3786\"], [0.5555555555555556, \"#d8576b\"], [0.6666666666666666, \"#ed7953\"], [0.7777777777777778, \"#fb9f3a\"], [0.8888888888888888, \"#fdca26\"], [1.0, \"#f0f921\"]], \"type\": \"heatmap\"}], \"heatmapgl\": [{\"colorbar\": {\"outlinewidth\": 0, \"ticks\": \"\"}, \"colorscale\": [[0.0, \"#0d0887\"], [0.1111111111111111, \"#46039f\"], [0.2222222222222222, \"#7201a8\"], [0.3333333333333333, \"#9c179e\"], [0.4444444444444444, \"#bd3786\"], [0.5555555555555556, \"#d8576b\"], [0.6666666666666666, \"#ed7953\"], [0.7777777777777778, \"#fb9f3a\"], [0.8888888888888888, \"#fdca26\"], [1.0, \"#f0f921\"]], \"type\": \"heatmapgl\"}], \"histogram\": [{\"marker\": {\"colorbar\": {\"outlinewidth\": 0, \"ticks\": \"\"}}, \"type\": \"histogram\"}], \"histogram2d\": [{\"colorbar\": {\"outlinewidth\": 0, \"ticks\": \"\"}, \"colorscale\": [[0.0, \"#0d0887\"], [0.1111111111111111, \"#46039f\"], [0.2222222222222222, \"#7201a8\"], [0.3333333333333333, \"#9c179e\"], [0.4444444444444444, \"#bd3786\"], [0.5555555555555556, \"#d8576b\"], [0.6666666666666666, \"#ed7953\"], [0.7777777777777778, \"#fb9f3a\"], [0.8888888888888888, \"#fdca26\"], [1.0, \"#f0f921\"]], \"type\": \"histogram2d\"}], \"histogram2dcontour\": [{\"colorbar\": {\"outlinewidth\": 0, \"ticks\": \"\"}, \"colorscale\": [[0.0, \"#0d0887\"], [0.1111111111111111, \"#46039f\"], [0.2222222222222222, \"#7201a8\"], [0.3333333333333333, \"#9c179e\"], [0.4444444444444444, \"#bd3786\"], [0.5555555555555556, \"#d8576b\"], [0.6666666666666666, \"#ed7953\"], [0.7777777777777778, \"#fb9f3a\"], [0.8888888888888888, \"#fdca26\"], [1.0, \"#f0f921\"]], \"type\": \"histogram2dcontour\"}], \"mesh3d\": [{\"colorbar\": {\"outlinewidth\": 0, \"ticks\": \"\"}, \"type\": \"mesh3d\"}], \"parcoords\": [{\"line\": {\"colorbar\": {\"outlinewidth\": 0, \"ticks\": \"\"}}, \"type\": \"parcoords\"}], \"pie\": [{\"automargin\": true, \"type\": \"pie\"}], \"scatter\": [{\"marker\": {\"colorbar\": {\"outlinewidth\": 0, \"ticks\": \"\"}}, \"type\": \"scatter\"}], \"scatter3d\": [{\"line\": {\"colorbar\": {\"outlinewidth\": 0, \"ticks\": \"\"}}, \"marker\": {\"colorbar\": {\"outlinewidth\": 0, \"ticks\": \"\"}}, \"type\": \"scatter3d\"}], \"scattercarpet\": [{\"marker\": {\"colorbar\": {\"outlinewidth\": 0, \"ticks\": \"\"}}, \"type\": \"scattercarpet\"}], \"scattergeo\": [{\"marker\": {\"colorbar\": {\"outlinewidth\": 0, \"ticks\": \"\"}}, \"type\": \"scattergeo\"}], \"scattergl\": [{\"marker\": {\"colorbar\": {\"outlinewidth\": 0, \"ticks\": \"\"}}, \"type\": \"scattergl\"}], \"scattermapbox\": [{\"marker\": {\"colorbar\": {\"outlinewidth\": 0, \"ticks\": \"\"}}, \"type\": \"scattermapbox\"}], \"scatterpolar\": [{\"marker\": {\"colorbar\": {\"outlinewidth\": 0, \"ticks\": \"\"}}, \"type\": \"scatterpolar\"}], \"scatterpolargl\": [{\"marker\": {\"colorbar\": {\"outlinewidth\": 0, \"ticks\": \"\"}}, \"type\": \"scatterpolargl\"}], \"scatterternary\": [{\"marker\": {\"colorbar\": {\"outlinewidth\": 0, \"ticks\": \"\"}}, \"type\": \"scatterternary\"}], \"surface\": [{\"colorbar\": {\"outlinewidth\": 0, \"ticks\": \"\"}, \"colorscale\": [[0.0, \"#0d0887\"], [0.1111111111111111, \"#46039f\"], [0.2222222222222222, \"#7201a8\"], [0.3333333333333333, \"#9c179e\"], [0.4444444444444444, \"#bd3786\"], [0.5555555555555556, \"#d8576b\"], [0.6666666666666666, \"#ed7953\"], [0.7777777777777778, \"#fb9f3a\"], [0.8888888888888888, \"#fdca26\"], [1.0, \"#f0f921\"]], \"type\": \"surface\"}], \"table\": [{\"cells\": {\"fill\": {\"color\": \"#EBF0F8\"}, \"line\": {\"color\": \"white\"}}, \"header\": {\"fill\": {\"color\": \"#C8D4E3\"}, \"line\": {\"color\": \"white\"}}, \"type\": \"table\"}]}, \"layout\": {\"annotationdefaults\": {\"arrowcolor\": \"#2a3f5f\", \"arrowhead\": 0, \"arrowwidth\": 1}, \"coloraxis\": {\"colorbar\": {\"outlinewidth\": 0, \"ticks\": \"\"}}, \"colorscale\": {\"diverging\": [[0, \"#8e0152\"], [0.1, \"#c51b7d\"], [0.2, \"#de77ae\"], [0.3, \"#f1b6da\"], [0.4, \"#fde0ef\"], [0.5, \"#f7f7f7\"], [0.6, \"#e6f5d0\"], [0.7, \"#b8e186\"], [0.8, \"#7fbc41\"], [0.9, \"#4d9221\"], [1, \"#276419\"]], \"sequential\": [[0.0, \"#0d0887\"], [0.1111111111111111, \"#46039f\"], [0.2222222222222222, \"#7201a8\"], [0.3333333333333333, \"#9c179e\"], [0.4444444444444444, \"#bd3786\"], [0.5555555555555556, \"#d8576b\"], [0.6666666666666666, \"#ed7953\"], [0.7777777777777778, \"#fb9f3a\"], [0.8888888888888888, \"#fdca26\"], [1.0, \"#f0f921\"]], \"sequentialminus\": [[0.0, \"#0d0887\"], [0.1111111111111111, \"#46039f\"], [0.2222222222222222, \"#7201a8\"], [0.3333333333333333, \"#9c179e\"], [0.4444444444444444, \"#bd3786\"], [0.5555555555555556, \"#d8576b\"], [0.6666666666666666, \"#ed7953\"], [0.7777777777777778, \"#fb9f3a\"], [0.8888888888888888, \"#fdca26\"], [1.0, \"#f0f921\"]]}, \"colorway\": [\"#636efa\", \"#EF553B\", \"#00cc96\", \"#ab63fa\", \"#FFA15A\", \"#19d3f3\", \"#FF6692\", \"#B6E880\", \"#FF97FF\", \"#FECB52\"], \"font\": {\"color\": \"#2a3f5f\"}, \"geo\": {\"bgcolor\": \"white\", \"lakecolor\": \"white\", \"landcolor\": \"#E5ECF6\", \"showlakes\": true, \"showland\": true, \"subunitcolor\": \"white\"}, \"hoverlabel\": {\"align\": \"left\"}, \"hovermode\": \"closest\", \"mapbox\": {\"style\": \"light\"}, \"paper_bgcolor\": \"white\", \"plot_bgcolor\": \"#E5ECF6\", \"polar\": {\"angularaxis\": {\"gridcolor\": \"white\", \"linecolor\": \"white\", \"ticks\": \"\"}, \"bgcolor\": \"#E5ECF6\", \"radialaxis\": {\"gridcolor\": \"white\", \"linecolor\": \"white\", \"ticks\": \"\"}}, \"scene\": {\"xaxis\": {\"backgroundcolor\": \"#E5ECF6\", \"gridcolor\": \"white\", \"gridwidth\": 2, \"linecolor\": \"white\", \"showbackground\": true, \"ticks\": \"\", \"zerolinecolor\": \"white\"}, \"yaxis\": {\"backgroundcolor\": \"#E5ECF6\", \"gridcolor\": \"white\", \"gridwidth\": 2, \"linecolor\": \"white\", \"showbackground\": true, \"ticks\": \"\", \"zerolinecolor\": \"white\"}, \"zaxis\": {\"backgroundcolor\": \"#E5ECF6\", \"gridcolor\": \"white\", \"gridwidth\": 2, \"linecolor\": \"white\", \"showbackground\": true, \"ticks\": \"\", \"zerolinecolor\": \"white\"}}, \"shapedefaults\": {\"line\": {\"color\": \"#2a3f5f\"}}, \"ternary\": {\"aaxis\": {\"gridcolor\": \"white\", \"linecolor\": \"white\", \"ticks\": \"\"}, \"baxis\": {\"gridcolor\": \"white\", \"linecolor\": \"white\", \"ticks\": \"\"}, \"bgcolor\": \"#E5ECF6\", \"caxis\": {\"gridcolor\": \"white\", \"linecolor\": \"white\", \"ticks\": \"\"}}, \"title\": {\"x\": 0.05}, \"xaxis\": {\"automargin\": true, \"gridcolor\": \"white\", \"linecolor\": \"white\", \"ticks\": \"\", \"title\": {\"standoff\": 15}, \"zerolinecolor\": \"white\", \"zerolinewidth\": 2}, \"yaxis\": {\"automargin\": true, \"gridcolor\": \"white\", \"linecolor\": \"white\", \"ticks\": \"\", \"title\": {\"standoff\": 15}, \"zerolinecolor\": \"white\", \"zerolinewidth\": 2}}}, \"title\": {\"text\": \"Kinematic Generation of a Planar Curve\"}, \"updatemenus\": [{\"buttons\": [{\"args\": [null], \"label\": \"Play\", \"method\": \"animate\"}], \"type\": \"buttons\"}]},\n",
       "                        {\"responsive\": true}\n",
       "                    ).then(function(){\n",
       "                            Plotly.addFrames('bc26d664-9222-4931-a212-b5b3729ba70b', [{\"data\": [{\"marker\": {\"color\": \"red\", \"size\": 10}, \"mode\": \"markers\", \"x\": [0.0], \"y\": [0.0], \"type\": \"scatter\"}]}, {\"data\": [{\"marker\": {\"color\": \"red\", \"size\": 10}, \"mode\": \"markers\", \"x\": [0.0], \"y\": [0.0], \"type\": \"scatter\"}]}, {\"data\": [{\"marker\": {\"color\": \"red\", \"size\": 10}, \"mode\": \"markers\", \"x\": [0.0], \"y\": [0.0], \"type\": \"scatter\"}]}, {\"data\": [{\"marker\": {\"color\": \"red\", \"size\": 10}, \"mode\": \"markers\", \"x\": [0.0], \"y\": [0.0], \"type\": \"scatter\"}]}, {\"data\": [{\"marker\": {\"color\": \"red\", \"size\": 10}, \"mode\": \"markers\", \"x\": [0.0], \"y\": [0.0], \"type\": \"scatter\"}]}, {\"data\": [{\"marker\": {\"color\": \"red\", \"size\": 10}, \"mode\": \"markers\", \"x\": [0.0], \"y\": [0.0], \"type\": \"scatter\"}]}, {\"data\": [{\"marker\": {\"color\": \"red\", \"size\": 10}, \"mode\": \"markers\", \"x\": [0.0], \"y\": [0.0], \"type\": \"scatter\"}]}, {\"data\": [{\"marker\": {\"color\": \"red\", \"size\": 10}, \"mode\": \"markers\", \"x\": [0.0], \"y\": [0.0], \"type\": \"scatter\"}]}, {\"data\": [{\"marker\": {\"color\": \"red\", \"size\": 10}, \"mode\": \"markers\", \"x\": [0.0], \"y\": [0.0], \"type\": \"scatter\"}]}, {\"data\": [{\"marker\": {\"color\": \"red\", \"size\": 10}, \"mode\": \"markers\", \"x\": [0.0], \"y\": [0.0], \"type\": \"scatter\"}]}, {\"data\": [{\"marker\": {\"color\": \"red\", \"size\": 10}, \"mode\": \"markers\", \"x\": [0.0], \"y\": [0.0], \"type\": \"scatter\"}]}, {\"data\": [{\"marker\": {\"color\": \"red\", \"size\": 10}, \"mode\": \"markers\", \"x\": [0.0], \"y\": [0.0], \"type\": \"scatter\"}]}, {\"data\": [{\"marker\": {\"color\": \"red\", \"size\": 10}, \"mode\": \"markers\", \"x\": [0.0], \"y\": [0.0], \"type\": \"scatter\"}]}, {\"data\": [{\"marker\": {\"color\": \"red\", \"size\": 10}, \"mode\": \"markers\", \"x\": [0.0], \"y\": [0.0], \"type\": \"scatter\"}]}, {\"data\": [{\"marker\": {\"color\": \"red\", \"size\": 10}, \"mode\": \"markers\", \"x\": [0.0], \"y\": [0.0], \"type\": \"scatter\"}]}, {\"data\": [{\"marker\": {\"color\": \"red\", \"size\": 10}, \"mode\": \"markers\", \"x\": [0.0], \"y\": [0.0], \"type\": \"scatter\"}]}, {\"data\": [{\"marker\": {\"color\": \"red\", \"size\": 10}, \"mode\": \"markers\", \"x\": [0.0], \"y\": [0.0], \"type\": \"scatter\"}]}, {\"data\": [{\"marker\": {\"color\": \"red\", \"size\": 10}, \"mode\": \"markers\", \"x\": [0.0], \"y\": [0.0], \"type\": \"scatter\"}]}, {\"data\": [{\"marker\": {\"color\": \"red\", \"size\": 10}, \"mode\": \"markers\", \"x\": [0.0], \"y\": [0.0], \"type\": \"scatter\"}]}, {\"data\": [{\"marker\": {\"color\": \"red\", \"size\": 10}, \"mode\": \"markers\", \"x\": [0.0], \"y\": [0.0], \"type\": \"scatter\"}]}, {\"data\": [{\"marker\": {\"color\": \"red\", \"size\": 10}, \"mode\": \"markers\", \"x\": [0.0], \"y\": [0.0], \"type\": \"scatter\"}]}, {\"data\": [{\"marker\": {\"color\": \"red\", \"size\": 10}, \"mode\": \"markers\", \"x\": [0.0], \"y\": [0.0], \"type\": \"scatter\"}]}, {\"data\": [{\"marker\": {\"color\": \"red\", \"size\": 10}, \"mode\": \"markers\", \"x\": [0.0], \"y\": [0.0], \"type\": \"scatter\"}]}, {\"data\": [{\"marker\": {\"color\": \"red\", \"size\": 10}, \"mode\": \"markers\", \"x\": [0.0], \"y\": [0.0], \"type\": \"scatter\"}]}, {\"data\": [{\"marker\": {\"color\": \"red\", \"size\": 10}, \"mode\": \"markers\", \"x\": [0.0], \"y\": [0.0], \"type\": \"scatter\"}]}, {\"data\": [{\"marker\": {\"color\": \"red\", \"size\": 10}, \"mode\": \"markers\", \"x\": [0.0], \"y\": [0.0], \"type\": \"scatter\"}]}, {\"data\": [{\"marker\": {\"color\": \"red\", \"size\": 10}, \"mode\": \"markers\", \"x\": [0.0], \"y\": [0.0], \"type\": \"scatter\"}]}, {\"data\": [{\"marker\": {\"color\": \"red\", \"size\": 10}, \"mode\": \"markers\", \"x\": [0.0], \"y\": [0.0], \"type\": \"scatter\"}]}, {\"data\": [{\"marker\": {\"color\": \"red\", \"size\": 10}, \"mode\": \"markers\", \"x\": [0.0], \"y\": [0.0], \"type\": \"scatter\"}]}, {\"data\": [{\"marker\": {\"color\": \"red\", \"size\": 10}, \"mode\": \"markers\", \"x\": [0.0], \"y\": [0.0], \"type\": \"scatter\"}]}, {\"data\": [{\"marker\": {\"color\": \"red\", \"size\": 10}, \"mode\": \"markers\", \"x\": [0.0], \"y\": [0.0], \"type\": \"scatter\"}]}, {\"data\": [{\"marker\": {\"color\": \"red\", \"size\": 10}, \"mode\": \"markers\", \"x\": [0.0], \"y\": [0.0], \"type\": \"scatter\"}]}, {\"data\": [{\"marker\": {\"color\": \"red\", \"size\": 10}, \"mode\": \"markers\", \"x\": [0.0], \"y\": [0.0], \"type\": \"scatter\"}]}, {\"data\": [{\"marker\": {\"color\": \"red\", \"size\": 10}, \"mode\": \"markers\", \"x\": [0.0], \"y\": [0.0], \"type\": \"scatter\"}]}, {\"data\": [{\"marker\": {\"color\": \"red\", \"size\": 10}, \"mode\": \"markers\", \"x\": [0.0], \"y\": [0.0], \"type\": \"scatter\"}]}, {\"data\": [{\"marker\": {\"color\": \"red\", \"size\": 10}, \"mode\": \"markers\", \"x\": [0.0], \"y\": [0.0], \"type\": \"scatter\"}]}, {\"data\": [{\"marker\": {\"color\": \"red\", \"size\": 10}, \"mode\": \"markers\", \"x\": [0.0], \"y\": [0.0], \"type\": \"scatter\"}]}, {\"data\": [{\"marker\": {\"color\": \"red\", \"size\": 10}, \"mode\": \"markers\", \"x\": [0.0], \"y\": [0.0], \"type\": \"scatter\"}]}, {\"data\": [{\"marker\": {\"color\": \"red\", \"size\": 10}, \"mode\": \"markers\", \"x\": [0.0], \"y\": [0.0], \"type\": \"scatter\"}]}, {\"data\": [{\"marker\": {\"color\": \"red\", \"size\": 10}, \"mode\": \"markers\", \"x\": [0.0], \"y\": [0.0], \"type\": \"scatter\"}]}, {\"data\": [{\"marker\": {\"color\": \"red\", \"size\": 10}, \"mode\": \"markers\", \"x\": [0.0], \"y\": [0.0], \"type\": \"scatter\"}]}]);\n",
       "                        }).then(function(){\n",
       "                            \n",
       "var gd = document.getElementById('bc26d664-9222-4931-a212-b5b3729ba70b');\n",
       "var x = new MutationObserver(function (mutations, observer) {{\n",
       "        var display = window.getComputedStyle(gd).display;\n",
       "        if (!display || display === 'none') {{\n",
       "            console.log([gd, 'removed!']);\n",
       "            Plotly.purge(gd);\n",
       "            observer.disconnect();\n",
       "        }}\n",
       "}});\n",
       "\n",
       "// Listen for the removal of the full notebook cells\n",
       "var notebookContainer = gd.closest('#notebook-container');\n",
       "if (notebookContainer) {{\n",
       "    x.observe(notebookContainer, {childList: true});\n",
       "}}\n",
       "\n",
       "// Listen for the clearing of the current output cell\n",
       "var outputEl = gd.closest('.output');\n",
       "if (outputEl) {{\n",
       "    x.observe(outputEl, {childList: true});\n",
       "}}\n",
       "\n",
       "                        })\n",
       "                };\n",
       "                });\n",
       "            </script>\n",
       "        </div>"
      ]
     },
     "metadata": {},
     "output_type": "display_data"
    }
   ],
   "source": [
    "# Create figure\n",
    "fig = go.Figure(\n",
    "    data=[go.Scatter(x=myCar.posx, y=myCar.posy,\n",
    "                     mode=\"lines\",\n",
    "                     line=dict(width=2, color=\"blue\")),\n",
    "          go.Scatter(x=myCar.posx, y=myCar.posy,\n",
    "                     mode=\"lines\",\n",
    "                     line=dict(width=2, color=\"blue\"))],\n",
    "    layout=go.Layout(\n",
    "        #xaxis=dict(range=[xm, xM], autorange=False, zeroline=False),\n",
    "        #yaxis=dict(range=[ym, yM], autorange=False, zeroline=False),\n",
    "        title_text=\"Kinematic Generation of a Planar Curve\", hovermode=\"closest\",\n",
    "        updatemenus=[dict(type=\"buttons\",\n",
    "                          buttons=[dict(label=\"Play\",\n",
    "                                        method=\"animate\",\n",
    "                                        args=[None])])]),\n",
    "    frames=[go.Frame(\n",
    "        data=[go.Scatter(\n",
    "            x=[myCar.posx[k]],\n",
    "            y=[myCar.posy[k]],\n",
    "            mode=\"markers\",\n",
    "            marker=dict(color=\"red\", size=10))])\n",
    "\n",
    "        for k in range(len(l))]\n",
    ")\n",
    "\n",
    "fig.show()"
   ]
  },
  {
   "cell_type": "markdown",
   "metadata": {
    "pycharm": {
     "name": "#%% md\n"
    }
   },
   "source": [
    "### Gravity simulations"
   ]
  },
  {
   "cell_type": "code",
   "execution_count": 51,
   "metadata": {
    "pycharm": {
     "is_executing": false,
     "name": "#%%\n"
    }
   },
   "outputs": [
    {
     "name": "stdout",
     "output_type": "stream",
     "text": [
      "Requirement already satisfied: gravity-simulation==2.0.1 in /usr/local/lib/python3.7/site-packages (2.0.1)\r\n",
      "Requirement already satisfied: numba in /usr/local/lib/python3.7/site-packages (0.49.1)\r\n",
      "Requirement already satisfied: numpy>=1.15 in /usr/local/lib/python3.7/site-packages (from numba) (1.18.1)\r\n",
      "Requirement already satisfied: llvmlite<=0.33.0.dev0,>=0.31.0.dev0 in /usr/local/lib/python3.7/site-packages (from numba) (0.32.1)\r\n",
      "Requirement already satisfied: setuptools in /usr/local/lib/python3.7/site-packages (from numba) (42.0.2)\r\n",
      "Requirement already satisfied: pandas in /usr/local/lib/python3.7/site-packages (1.0.3)\r\n",
      "Requirement already satisfied: numpy>=1.13.3 in /usr/local/lib/python3.7/site-packages (from pandas) (1.18.1)\r\n",
      "Requirement already satisfied: python-dateutil>=2.6.1 in /usr/local/lib/python3.7/site-packages (from pandas) (2.8.1)\r\n",
      "Requirement already satisfied: pytz>=2017.2 in /usr/local/lib/python3.7/site-packages (from pandas) (2020.1)\r\n",
      "Requirement already satisfied: six>=1.5 in /usr/local/lib/python3.7/site-packages (from python-dateutil>=2.6.1->pandas) (1.14.0)\r\n",
      "Requirement already satisfied: ffmpeg in /usr/local/lib/python3.7/site-packages (1.4)\r\n"
     ]
    }
   ],
   "source": [
    "!pip3 install gravity-simulation==2.0.1\n",
    "!pip3 install numba\n",
    "!pip3 install pandas\n",
    "!pip3 install ffmpeg"
   ]
  },
  {
   "cell_type": "code",
   "execution_count": 54,
   "metadata": {
    "pycharm": {
     "is_executing": false
    }
   },
   "outputs": [
    {
     "name": "stdout",
     "output_type": "stream",
     "text": [
      "start calculation 2020-05-26 20:55:50.443046\n",
      "100% calculation  completed :2020-05-26 20:55:53.119103\n",
      "calculation complete succsefuly\n",
      "start rendering 2020-05-26 20:55:53.219486\n",
      "end rendering 2020-05-26 20:56:02.916395\n"
     ]
    },
    {
     "data": {
      "text/plain": [
       "<matplotlib.animation.FuncAnimation at 0x12ebc8950>"
      ]
     },
     "execution_count": 54,
     "metadata": {},
     "output_type": "execute_result"
    },
    {
     "data": {
      "image/png": "[encoded data removed]",
      "text/plain": [
       "<Figure size 432x432 with 1 Axes>"
      ]
     },
     "metadata": {},
     "output_type": "display_data"
    }
   ],
   "source": [
    "from gravity_simulation.gravity import *\n",
    "\n",
    "field = GravityField()\n",
    "\n",
    "field.generate_random(10, mass=[20, 500], velocity=[-5, 5], alpha=[0, 360])\n",
    "field.add_body(Body(x0 = 0, y0 = 0, v_x = 0, v_y = 0, mass = 3000))\n",
    "\n",
    "field.run(1300, C=0.01)\n",
    "field.save_animation(frames=50,name='gravity_1',reduce_size_body=50)"
   ]
  },
  {
   "cell_type": "code",
   "execution_count": 6,
   "metadata": {
    "pycharm": {
     "is_executing": false,
     "name": "#%%\n"
    }
   },
   "outputs": [
    {
     "name": "stdout",
     "output_type": "stream",
     "text": [
      "Requirement already satisfied: vpython in /Users/so/opt/anaconda3/lib/python3.7/site-packages (7.6.1)\r\n",
      "Requirement already satisfied: autobahn in /Users/so/opt/anaconda3/lib/python3.7/site-packages (from vpython) (20.4.3)\r\n",
      "Requirement already satisfied: jupyter-server-proxy in /Users/so/opt/anaconda3/lib/python3.7/site-packages (from vpython) (1.5.0)\r\n",
      "Requirement already satisfied: numpy in /Users/so/opt/anaconda3/lib/python3.7/site-packages (from vpython) (1.18.1)\r\n",
      "Requirement already satisfied: jupyter in /Users/so/opt/anaconda3/lib/python3.7/site-packages (from vpython) (1.0.0)\r\n",
      "Requirement already satisfied: ipykernel in /Users/so/opt/anaconda3/lib/python3.7/site-packages (from vpython) (5.1.4)\r\n",
      "Requirement already satisfied: cryptography>=2.7 in /Users/so/opt/anaconda3/lib/python3.7/site-packages (from autobahn->vpython) (2.8)\r\n",
      "Requirement already satisfied: txaio>=20.3.1 in /Users/so/opt/anaconda3/lib/python3.7/site-packages (from autobahn->vpython) (20.4.1)\r\n",
      "Requirement already satisfied: notebook in /Users/so/opt/anaconda3/lib/python3.7/site-packages (from jupyter-server-proxy->vpython) (6.0.3)\r\n",
      "Requirement already satisfied: aiohttp in /Users/so/opt/anaconda3/lib/python3.7/site-packages (from jupyter-server-proxy->vpython) (3.6.2)\r\n",
      "Requirement already satisfied: simpervisor>=0.2 in /Users/so/opt/anaconda3/lib/python3.7/site-packages (from jupyter-server-proxy->vpython) (0.3)\r\n",
      "Requirement already satisfied: nbconvert in /Users/so/opt/anaconda3/lib/python3.7/site-packages (from jupyter->vpython) (5.6.1)\r\n",
      "Requirement already satisfied: qtconsole in /Users/so/opt/anaconda3/lib/python3.7/site-packages (from jupyter->vpython) (4.6.0)\r\n",
      "Requirement already satisfied: jupyter-console in /Users/so/opt/anaconda3/lib/python3.7/site-packages (from jupyter->vpython) (6.1.0)\r\n",
      "Requirement already satisfied: ipywidgets in /Users/so/opt/anaconda3/lib/python3.7/site-packages (from jupyter->vpython) (7.5.1)\r\n",
      "Requirement already satisfied: tornado>=4.2 in /Users/so/opt/anaconda3/lib/python3.7/site-packages (from ipykernel->vpython) (6.0.3)\r\n",
      "Requirement already satisfied: appnope; platform_system == \"Darwin\" in /Users/so/opt/anaconda3/lib/python3.7/site-packages (from ipykernel->vpython) (0.1.0)\r\n",
      "Requirement already satisfied: ipython>=5.0.0 in /Users/so/opt/anaconda3/lib/python3.7/site-packages (from ipykernel->vpython) (7.12.0)\r\n",
      "Requirement already satisfied: jupyter-client in /Users/so/opt/anaconda3/lib/python3.7/site-packages (from ipykernel->vpython) (5.3.4)\r\n",
      "Requirement already satisfied: traitlets>=4.1.0 in /Users/so/opt/anaconda3/lib/python3.7/site-packages (from ipykernel->vpython) (4.3.3)\r\n",
      "Requirement already satisfied: cffi!=1.11.3,>=1.8 in /Users/so/opt/anaconda3/lib/python3.7/site-packages (from cryptography>=2.7->autobahn->vpython) (1.14.0)\r\n",
      "Requirement already satisfied: six>=1.4.1 in /Users/so/opt/anaconda3/lib/python3.7/site-packages (from cryptography>=2.7->autobahn->vpython) (1.14.0)\r\n",
      "Requirement already satisfied: jinja2 in /Users/so/opt/anaconda3/lib/python3.7/site-packages (from notebook->jupyter-server-proxy->vpython) (2.11.1)\r\n",
      "Requirement already satisfied: pyzmq>=17 in /Users/so/opt/anaconda3/lib/python3.7/site-packages (from notebook->jupyter-server-proxy->vpython) (18.1.1)\r\n",
      "Requirement already satisfied: jupyter-core>=4.6.1 in /Users/so/opt/anaconda3/lib/python3.7/site-packages (from notebook->jupyter-server-proxy->vpython) (4.6.1)\r\n",
      "Requirement already satisfied: ipython-genutils in /Users/so/opt/anaconda3/lib/python3.7/site-packages (from notebook->jupyter-server-proxy->vpython) (0.2.0)\r\n",
      "Requirement already satisfied: Send2Trash in /Users/so/opt/anaconda3/lib/python3.7/site-packages (from notebook->jupyter-server-proxy->vpython) (1.5.0)\r\n",
      "Requirement already satisfied: prometheus-client in /Users/so/opt/anaconda3/lib/python3.7/site-packages (from notebook->jupyter-server-proxy->vpython) (0.7.1)\r\n",
      "Requirement already satisfied: terminado>=0.8.1 in /Users/so/opt/anaconda3/lib/python3.7/site-packages (from notebook->jupyter-server-proxy->vpython) (0.8.3)\r\n",
      "Requirement already satisfied: nbformat in /Users/so/opt/anaconda3/lib/python3.7/site-packages (from notebook->jupyter-server-proxy->vpython) (5.0.4)\r\n",
      "Requirement already satisfied: async-timeout<4.0,>=3.0 in /Users/so/opt/anaconda3/lib/python3.7/site-packages (from aiohttp->jupyter-server-proxy->vpython) (3.0.1)\r\n",
      "Requirement already satisfied: multidict<5.0,>=4.5 in /Users/so/opt/anaconda3/lib/python3.7/site-packages (from aiohttp->jupyter-server-proxy->vpython) (4.7.6)\r\n",
      "Requirement already satisfied: attrs>=17.3.0 in /Users/so/opt/anaconda3/lib/python3.7/site-packages (from aiohttp->jupyter-server-proxy->vpython) (19.3.0)\r\n",
      "Requirement already satisfied: yarl<2.0,>=1.0 in /Users/so/opt/anaconda3/lib/python3.7/site-packages (from aiohttp->jupyter-server-proxy->vpython) (1.4.2)\r\n",
      "Requirement already satisfied: chardet<4.0,>=2.0 in /Users/so/opt/anaconda3/lib/python3.7/site-packages (from aiohttp->jupyter-server-proxy->vpython) (3.0.4)\r\n",
      "Requirement already satisfied: defusedxml in /Users/so/opt/anaconda3/lib/python3.7/site-packages (from nbconvert->jupyter->vpython) (0.6.0)\r\n",
      "Requirement already satisfied: mistune<2,>=0.8.1 in /Users/so/opt/anaconda3/lib/python3.7/site-packages (from nbconvert->jupyter->vpython) (0.8.4)\r\n",
      "Requirement already satisfied: bleach in /Users/so/opt/anaconda3/lib/python3.7/site-packages (from nbconvert->jupyter->vpython) (3.1.0)\r\n",
      "Requirement already satisfied: testpath in /Users/so/opt/anaconda3/lib/python3.7/site-packages (from nbconvert->jupyter->vpython) (0.4.4)\r\n",
      "Requirement already satisfied: entrypoints>=0.2.2 in /Users/so/opt/anaconda3/lib/python3.7/site-packages (from nbconvert->jupyter->vpython) (0.3)\r\n",
      "Requirement already satisfied: pandocfilters>=1.4.1 in /Users/so/opt/anaconda3/lib/python3.7/site-packages (from nbconvert->jupyter->vpython) (1.4.2)\r\n",
      "Requirement already satisfied: pygments in /Users/so/opt/anaconda3/lib/python3.7/site-packages (from nbconvert->jupyter->vpython) (2.5.2)\r\n",
      "Requirement already satisfied: prompt-toolkit!=3.0.0,!=3.0.1,<3.1.0,>=2.0.0 in /Users/so/opt/anaconda3/lib/python3.7/site-packages (from jupyter-console->jupyter->vpython) (3.0.3)\r\n",
      "Requirement already satisfied: widgetsnbextension~=3.5.0 in /Users/so/opt/anaconda3/lib/python3.7/site-packages (from ipywidgets->jupyter->vpython) (3.5.1)\r\n",
      "Requirement already satisfied: setuptools>=18.5 in /Users/so/opt/anaconda3/lib/python3.7/site-packages (from ipython>=5.0.0->ipykernel->vpython) (46.0.0.post20200309)\r\n",
      "Requirement already satisfied: decorator in /Users/so/opt/anaconda3/lib/python3.7/site-packages (from ipython>=5.0.0->ipykernel->vpython) (4.4.1)\r\n",
      "Requirement already satisfied: jedi>=0.10 in /Users/so/opt/anaconda3/lib/python3.7/site-packages (from ipython>=5.0.0->ipykernel->vpython) (0.14.1)\r\n",
      "Requirement already satisfied: pexpect; sys_platform != \"win32\" in /Users/so/opt/anaconda3/lib/python3.7/site-packages (from ipython>=5.0.0->ipykernel->vpython) (4.8.0)\r\n",
      "Requirement already satisfied: backcall in /Users/so/opt/anaconda3/lib/python3.7/site-packages (from ipython>=5.0.0->ipykernel->vpython) (0.1.0)\r\n",
      "Requirement already satisfied: pickleshare in /Users/so/opt/anaconda3/lib/python3.7/site-packages (from ipython>=5.0.0->ipykernel->vpython) (0.7.5)\r\n",
      "Requirement already satisfied: python-dateutil>=2.1 in /Users/so/opt/anaconda3/lib/python3.7/site-packages (from jupyter-client->ipykernel->vpython) (2.8.1)\r\n",
      "Requirement already satisfied: pycparser in /Users/so/opt/anaconda3/lib/python3.7/site-packages (from cffi!=1.11.3,>=1.8->cryptography>=2.7->autobahn->vpython) (2.19)\r\n",
      "Requirement already satisfied: MarkupSafe>=0.23 in /Users/so/opt/anaconda3/lib/python3.7/site-packages (from jinja2->notebook->jupyter-server-proxy->vpython) (1.1.1)\r\n",
      "Requirement already satisfied: jsonschema!=2.5.0,>=2.4 in /Users/so/opt/anaconda3/lib/python3.7/site-packages (from nbformat->notebook->jupyter-server-proxy->vpython) (3.2.0)\r\n",
      "Requirement already satisfied: idna>=2.0 in /Users/so/opt/anaconda3/lib/python3.7/site-packages (from yarl<2.0,>=1.0->aiohttp->jupyter-server-proxy->vpython) (2.8)\r\n",
      "Requirement already satisfied: webencodings in /Users/so/opt/anaconda3/lib/python3.7/site-packages (from bleach->nbconvert->jupyter->vpython) (0.5.1)\r\n",
      "Requirement already satisfied: wcwidth in /Users/so/opt/anaconda3/lib/python3.7/site-packages (from prompt-toolkit!=3.0.0,!=3.0.1,<3.1.0,>=2.0.0->jupyter-console->jupyter->vpython) (0.1.8)\r\n",
      "Requirement already satisfied: parso>=0.5.0 in /Users/so/opt/anaconda3/lib/python3.7/site-packages (from jedi>=0.10->ipython>=5.0.0->ipykernel->vpython) (0.5.2)\r\n",
      "Requirement already satisfied: ptyprocess>=0.5 in /Users/so/opt/anaconda3/lib/python3.7/site-packages (from pexpect; sys_platform != \"win32\"->ipython>=5.0.0->ipykernel->vpython) (0.6.0)\r\n",
      "Requirement already satisfied: pyrsistent>=0.14.0 in /Users/so/opt/anaconda3/lib/python3.7/site-packages (from jsonschema!=2.5.0,>=2.4->nbformat->notebook->jupyter-server-proxy->vpython) (0.15.7)\r\n",
      "Requirement already satisfied: importlib-metadata; python_version < \"3.8\" in /Users/so/opt/anaconda3/lib/python3.7/site-packages (from jsonschema!=2.5.0,>=2.4->nbformat->notebook->jupyter-server-proxy->vpython) (1.5.0)\r\n",
      "Requirement already satisfied: zipp>=0.5 in /Users/so/opt/anaconda3/lib/python3.7/site-packages (from importlib-metadata; python_version < \"3.8\"->jsonschema!=2.5.0,>=2.4->nbformat->notebook->jupyter-server-proxy->vpython) (2.2.0)\r\n"
     ]
    }
   ],
   "source": [
    "!pip install vpython"
   ]
  },
  {
   "cell_type": "markdown",
   "metadata": {},
   "source": [
    "#### In the below experiemnt we have a ball that is being thrown. The parameters that are modifiable are the angle, speed, the height from where the ball is thrown and the gravity.\n",
    "\n",
    "#### The task is modify each parameter individually and see how long it takes the ball to fall\n"
   ]
  },
  {
   "cell_type": "code",
   "execution_count": 1,
   "metadata": {
    "pycharm": {
     "is_executing": false,
     "name": "#%%\n"
    }
   },
   "outputs": [
    {
     "data": {
      "text/html": [
       "<div id=\"glowscript\" class=\"glowscript\"></div>"
      ],
      "text/plain": [
       "<IPython.core.display.HTML object>"
      ]
     },
     "metadata": {},
     "output_type": "display_data"
    },
    {
     "data": {
      "application/javascript": [
       "if (typeof Jupyter !== \"undefined\") { window.__context = { glowscript_container: $(\"#glowscript\").removeAttr(\"id\")};}else{ element.textContent = ' ';}"
      ],
      "text/plain": [
       "<IPython.core.display.Javascript object>"
      ]
     },
     "metadata": {},
     "output_type": "display_data"
    },
    {
     "data": {
      "application/javascript": [
       "if (typeof Jupyter !== \"undefined\") {require.undef(\"nbextensions/vpython_libraries/glow.min\");}else{element.textContent = ' ';}"
      ],
      "text/plain": [
       "<IPython.core.display.Javascript object>"
      ]
     },
     "metadata": {},
     "output_type": "display_data"
    },
    {
     "data": {
      "application/javascript": [
       "if (typeof Jupyter !== \"undefined\") {require.undef(\"nbextensions/vpython_libraries/glowcomm\");}else{element.textContent = ' ';}"
      ],
      "text/plain": [
       "<IPython.core.display.Javascript object>"
      ]
     },
     "metadata": {},
     "output_type": "display_data"
    },
    {
     "data": {
      "application/javascript": [
       "if (typeof Jupyter !== \"undefined\") {require.undef(\"nbextensions/vpython_libraries/jquery-ui.custom.min\");}else{element.textContent = ' ';}"
      ],
      "text/plain": [
       "<IPython.core.display.Javascript object>"
      ]
     },
     "metadata": {},
     "output_type": "display_data"
    },
    {
     "data": {
      "application/javascript": [
       "if (typeof Jupyter !== \"undefined\") {require([\"nbextensions/vpython_libraries/glow.min\"], function(){console.log(\"GLOW LOADED\");});}else{element.textContent = ' ';}"
      ],
      "text/plain": [
       "<IPython.core.display.Javascript object>"
      ]
     },
     "metadata": {},
     "output_type": "display_data"
    },
    {
     "data": {
      "application/javascript": [
       "if (typeof Jupyter !== \"undefined\") {require([\"nbextensions/vpython_libraries/glowcomm\"], function(){console.log(\"GLOWCOMM LOADED\");});}else{element.textContent = ' ';}"
      ],
      "text/plain": [
       "<IPython.core.display.Javascript object>"
      ]
     },
     "metadata": {},
     "output_type": "display_data"
    },
    {
     "data": {
      "application/javascript": [
       "if (typeof Jupyter !== \"undefined\") {require([\"nbextensions/vpython_libraries/jquery-ui.custom.min\"], function(){console.log(\"JQUERY LOADED\");});}else{element.textContent = ' ';}"
      ],
      "text/plain": [
       "<IPython.core.display.Javascript object>"
      ]
     },
     "metadata": {},
     "output_type": "display_data"
    }
   ],
   "source": [
    "from vpython import *\n",
    "\n",
    "def ballSimulation(angle, speed, height, gravity):\n",
    "    # Define two objects, first, the ground (Which is a box) then the ball\n",
    "    ground=box(pos=vector(0,0,0), size=vector(10,0.2,1), color=color.green)\n",
    "    ball=sphere(pos=vector(-4.5, height,0), radius=0.2, color=color.yellow)\n",
    "\n",
    "    g = vector(0,-1.0 * gravity,0)\n",
    "    v0 = speed\n",
    "    theta = 30*angle/180\n",
    "\n",
    "    ball.m = 0.5\n",
    "    ball.v = vector(v0*cos(theta),v0*sin(theta),0)\n",
    "\n",
    "    t = 0\n",
    "    dt = 0.01\n",
    "\n",
    "    attach_trail(ball)\n",
    "    while ball.pos.y>=0:\n",
    "      rate(100)\n",
    "      F = ball.m*g\n",
    "      ball.v = ball.v+(F/ball.m)*dt\n",
    "      ball.pos = ball.pos+ball.v*dt/ball.m\n",
    "      t = t + dt\n",
    "\n",
    "ballSimulation(angle = 45, speed = 8, height = 0, gravity = 9.8);"
   ]
  },
  {
   "cell_type": "code",
   "execution_count": 2,
   "metadata": {
    "pycharm": {
     "is_executing": true,
     "name": "#%%\n"
    }
   },
   "outputs": [],
   "source": [
    "from vpython import *\n",
    "sphere(pos=vector(-4.5,0,0), radius=0.2, color=color.yellow)"
   ]
  }
 ],
 "metadata": {
  "kernelspec": {
   "display_name": "Python 3",
   "language": "python",
   "name": "python3"
  },
  "language_info": {
   "codemirror_mode": {
    "name": "ipython",
    "version": 3
   },
   "file_extension": ".py",
   "mimetype": "text/x-python",
   "name": "python",
   "nbconvert_exporter": "python",
   "pygments_lexer": "ipython3",
   "version": "3.7.6"
  },
  "pycharm": {
   "stem_cell": {
    "cell_type": "raw",
    "metadata": {
     "collapsed": false
    },
    "source": []
   }
  }
 },
 "nbformat": 4,
 "nbformat_minor": 2
}
